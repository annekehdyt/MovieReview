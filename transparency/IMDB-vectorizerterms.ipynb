{
 "cells": [
  {
   "cell_type": "code",
   "execution_count": 95,
   "metadata": {
    "collapsed": true
   },
   "outputs": [],
   "source": [
    "from glob import glob\n",
    "import csv\n",
    "import operator\n",
    "from sklearn.feature_extraction.text import CountVectorizer\n",
    "import numpy as np\n",
    "import re\n",
    "from sklearn.utils.validation import check_array\n",
    "from sklearn.linear_model import LogisticRegression\n",
    "from sklearn.naive_bayes import MultinomialNB\n",
    "from sklearn import tree\n",
    "import graphviz\n",
    "from IPython import display\n",
    "from coloredweighteddoc import ColoredWeightedDoc\n",
    "from scipy.sparse import diags, issparse"
   ]
  },
  {
   "cell_type": "code",
   "execution_count": 2,
   "metadata": {
    "collapsed": true
   },
   "outputs": [],
   "source": [
    "def load_imdb_data(path_to_imdb):\n",
    "    print(\"Loading the imdb reviews data\")\n",
    "    train_neg_files = glob(path_to_imdb + r\"/train/neg/*.txt\")\n",
    "    train_pos_files = glob(path_to_imdb + r\"/train/pos/*.txt\")\n",
    "    train_corpus = []\n",
    "    y_train = []\n",
    "    for tnf in train_neg_files:\n",
    "            with open(tnf, 'r', errors='replace') as f:\n",
    "                line = f.read()\n",
    "                train_corpus.append(line)\n",
    "                y_train.append(0)\n",
    "\n",
    "    for tpf in train_pos_files:\n",
    "        with open(tpf, 'r', errors='replace') as f:\n",
    "            line = f.read()\n",
    "            train_corpus.append(line)\n",
    "            y_train.append(1)\n",
    "\n",
    "    test_neg_files = glob(path_to_imdb + r\"/test/neg/*.txt\")\n",
    "    test_pos_files = glob(path_to_imdb + r\"/test/pos/*.txt\")\n",
    "\n",
    "    test_corpus = []\n",
    "\n",
    "    y_test = []\n",
    "\n",
    "    for tnf in test_neg_files:\n",
    "        with open(tnf, 'r', errors='replace') as f:\n",
    "            test_corpus.append(f.read())\n",
    "            y_test.append(0)\n",
    "\n",
    "    for tpf in test_pos_files:\n",
    "        with open(tpf, 'r', errors='replace') as f:\n",
    "            test_corpus.append(f.read())\n",
    "            y_test.append(1)\n",
    "\n",
    "    print(\"Data loaded.\")\n",
    "    return train_corpus, y_train, test_corpus, y_test"
   ]
  },
  {
   "cell_type": "code",
   "execution_count": 3,
   "metadata": {
    "collapsed": true
   },
   "outputs": [],
   "source": [
    "path_to_imdb = \"C:/Users/mbilgic/Desktop/aclImdb\""
   ]
  },
  {
   "cell_type": "code",
   "execution_count": 4,
   "metadata": {
    "collapsed": false
   },
   "outputs": [
    {
     "name": "stdout",
     "output_type": "stream",
     "text": [
      "Loading the imdb reviews data\n",
      "Data loaded.\n"
     ]
    }
   ],
   "source": [
    "train_corpus, y_train, test_corpus, y_test = load_imdb_data(path_to_imdb)"
   ]
  },
  {
   "cell_type": "code",
   "execution_count": 5,
   "metadata": {
    "collapsed": true
   },
   "outputs": [],
   "source": [
    "train_corpus = np.array(train_corpus)\n",
    "test_corpus = np.array(test_corpus)\n",
    "y_train = np.array(y_train)\n",
    "y_test = np.array(y_test)"
   ]
  },
  {
   "cell_type": "code",
   "execution_count": 6,
   "metadata": {
    "collapsed": true
   },
   "outputs": [],
   "source": [
    "vectorizer = CountVectorizer(lowercase=True, min_df=5, ngram_range=(1,1), binary=True)"
   ]
  },
  {
   "cell_type": "code",
   "execution_count": 7,
   "metadata": {
    "collapsed": true
   },
   "outputs": [],
   "source": [
    "X_train = vectorizer.fit_transform(train_corpus)\n",
    "X_test = vectorizer.transform(test_corpus)"
   ]
  },
  {
   "cell_type": "code",
   "execution_count": 8,
   "metadata": {
    "collapsed": true
   },
   "outputs": [],
   "source": [
    "words = vectorizer.get_feature_names()"
   ]
  },
  {
   "cell_type": "markdown",
   "metadata": {},
   "source": [
    "# Top Features"
   ]
  },
  {
   "cell_type": "code",
   "execution_count": 9,
   "metadata": {
    "collapsed": false
   },
   "outputs": [
    {
     "data": {
      "text/plain": [
       "(25000, 27315)"
      ]
     },
     "execution_count": 9,
     "metadata": {},
     "output_type": "execute_result"
    }
   ],
   "source": [
    "X_train.shape"
   ]
  },
  {
   "cell_type": "code",
   "execution_count": 10,
   "metadata": {
    "collapsed": true
   },
   "outputs": [],
   "source": [
    "def negative_positive_counts(X, y, word_index):\n",
    "    neg_count = np.sum(X[y==0, word_index])\n",
    "    pos_count = np.sum(X[y==1, word_index])    \n",
    "    return neg_count, pos_count"
   ]
  },
  {
   "cell_type": "code",
   "execution_count": 11,
   "metadata": {
    "collapsed": true
   },
   "outputs": [],
   "source": [
    "def print_top_words(words, weights, top_k=10):\n",
    "    sorted_indices_ascending = np.argsort(weights)\n",
    "    sorted_indices_descending = sorted_indices_ascending[::-1]\n",
    "    print(\"Top positive\\n\")\n",
    "    for i in sorted_indices_descending[: top_k]:\n",
    "        print(\"%s\\t%0.2f\" %(words[i], weights[i]))\n",
    "    print(\"\\nTop negative\\n\")\n",
    "    for i in sorted_indices_ascending[: top_k]:\n",
    "        print(\"%s\\t%0.2f\" %(words[i], weights[i]))"
   ]
  },
  {
   "cell_type": "code",
   "execution_count": 12,
   "metadata": {
    "collapsed": true
   },
   "outputs": [],
   "source": [
    "def print_top_words_with_counts(X, y, words, weights, top_k=10):\n",
    "    sorted_indices_ascending = np.argsort(weights)\n",
    "    sorted_indices_descending = sorted_indices_ascending[::-1]\n",
    "    print(\"Top negative\\n\")\n",
    "    for i in sorted_indices_ascending[: top_k]:\n",
    "        n_p=negative_positive_counts(X, y, i)\n",
    "        print(\"%s [%d, %d]\\t%0.2f\" %(words[i], n_p[0], n_p[1], weights[i]))\n",
    "    print(\"\\nTop positive\\n\")\n",
    "    for i in sorted_indices_descending[: top_k]:\n",
    "        n_p=negative_positive_counts(X, y, i)\n",
    "        print(\"%s [%d, %d]\\t%0.2f\" %(words[i], n_p[0], n_p[1], weights[i]))\n"
   ]
  },
  {
   "cell_type": "code",
   "execution_count": 469,
   "metadata": {
    "collapsed": true
   },
   "outputs": [],
   "source": [
    "c=1"
   ]
  },
  {
   "cell_type": "code",
   "execution_count": 470,
   "metadata": {
    "collapsed": false
   },
   "outputs": [
    {
     "data": {
      "text/plain": [
       "LogisticRegression(C=1, class_weight=None, dual=False, fit_intercept=True,\n",
       "          intercept_scaling=1, max_iter=100, multi_class='ovr', n_jobs=1,\n",
       "          penalty='l2', random_state=None, solver='liblinear', tol=0.0001,\n",
       "          verbose=0, warm_start=False)"
      ]
     },
     "execution_count": 470,
     "metadata": {},
     "output_type": "execute_result"
    }
   ],
   "source": [
    "l2lr = LogisticRegression(penalty='l2', C=c)\n",
    "l2lr.fit(X_train, y_train)"
   ]
  },
  {
   "cell_type": "code",
   "execution_count": 471,
   "metadata": {
    "collapsed": false
   },
   "outputs": [
    {
     "data": {
      "text/plain": [
       "0.99687999999999999"
      ]
     },
     "execution_count": 471,
     "metadata": {},
     "output_type": "execute_result"
    }
   ],
   "source": [
    "l2lr.score(X_train, y_train)"
   ]
  },
  {
   "cell_type": "code",
   "execution_count": 472,
   "metadata": {
    "collapsed": false
   },
   "outputs": [
    {
     "data": {
      "text/plain": [
       "0.86848000000000003"
      ]
     },
     "execution_count": 472,
     "metadata": {},
     "output_type": "execute_result"
    }
   ],
   "source": [
    "l2lr.score(X_test, y_test)"
   ]
  },
  {
   "cell_type": "code",
   "execution_count": 473,
   "metadata": {
    "collapsed": false
   },
   "outputs": [
    {
     "data": {
      "text/plain": [
       "0"
      ]
     },
     "execution_count": 473,
     "metadata": {},
     "output_type": "execute_result"
    }
   ],
   "source": [
    "np.sum(l2lr.coef_[0] == 0)"
   ]
  },
  {
   "cell_type": "code",
   "execution_count": 474,
   "metadata": {
    "collapsed": false
   },
   "outputs": [
    {
     "name": "stdout",
     "output_type": "stream",
     "text": [
      "Top negative\n",
      "\n",
      "worst [2042, 227]\t-2.33\n",
      "waste [1208, 96]\t-2.25\n",
      "disappointment [303, 85]\t-2.05\n",
      "poorly [561, 68]\t-2.04\n",
      "awful [1292, 153]\t-1.74\n",
      "unfunny [218, 15]\t-1.66\n",
      "laughable [360, 39]\t-1.64\n",
      "disappointing [312, 82]\t-1.59\n",
      "lacks [249, 92]\t-1.59\n",
      "boring [1207, 302]\t-1.56\n",
      "\n",
      "Top positive\n",
      "\n",
      "refreshing [25, 172]\t1.60\n",
      "excellent [350, 1430]\t1.58\n",
      "appreciated [41, 147]\t1.55\n",
      "hooked [37, 95]\t1.40\n",
      "perfect [306, 1052]\t1.38\n",
      "superb [97, 524]\t1.36\n",
      "vengeance [24, 58]\t1.35\n",
      "underrated [33, 194]\t1.30\n",
      "greene [5, 33]\t1.30\n",
      "wonderfully [36, 276]\t1.28\n"
     ]
    }
   ],
   "source": [
    "print_top_words_with_counts(X_train, y_train, words, l2lr.coef_[0])"
   ]
  },
  {
   "cell_type": "code",
   "execution_count": 475,
   "metadata": {
    "collapsed": false
   },
   "outputs": [
    {
     "data": {
      "text/plain": [
       "LogisticRegression(C=1, class_weight=None, dual=False, fit_intercept=True,\n",
       "          intercept_scaling=1, max_iter=100, multi_class='ovr', n_jobs=1,\n",
       "          penalty='l1', random_state=None, solver='liblinear', tol=0.0001,\n",
       "          verbose=0, warm_start=False)"
      ]
     },
     "execution_count": 475,
     "metadata": {},
     "output_type": "execute_result"
    }
   ],
   "source": [
    "c=1\n",
    "l1lr = LogisticRegression(penalty='l1', C=c)\n",
    "l1lr.fit(X_train, y_train)"
   ]
  },
  {
   "cell_type": "code",
   "execution_count": 476,
   "metadata": {
    "collapsed": false
   },
   "outputs": [
    {
     "data": {
      "text/plain": [
       "0.97943999999999998"
      ]
     },
     "execution_count": 476,
     "metadata": {},
     "output_type": "execute_result"
    }
   ],
   "source": [
    "l1lr.score(X_train, y_train)"
   ]
  },
  {
   "cell_type": "code",
   "execution_count": 477,
   "metadata": {
    "collapsed": false
   },
   "outputs": [
    {
     "data": {
      "text/plain": [
       "0.86631999999999998"
      ]
     },
     "execution_count": 477,
     "metadata": {},
     "output_type": "execute_result"
    }
   ],
   "source": [
    "l1lr.score(X_test, y_test)"
   ]
  },
  {
   "cell_type": "code",
   "execution_count": 478,
   "metadata": {
    "collapsed": false
   },
   "outputs": [
    {
     "data": {
      "text/plain": [
       "4718"
      ]
     },
     "execution_count": 478,
     "metadata": {},
     "output_type": "execute_result"
    }
   ],
   "source": [
    "np.sum(l1lr.coef_[0] != 0)"
   ]
  },
  {
   "cell_type": "code",
   "execution_count": null,
   "metadata": {
    "collapsed": true
   },
   "outputs": [],
   "source": []
  },
  {
   "cell_type": "code",
   "execution_count": 479,
   "metadata": {
    "collapsed": false
   },
   "outputs": [
    {
     "name": "stdout",
     "output_type": "stream",
     "text": [
      "Top negative\n",
      "\n",
      "wayans [26, 1]\t-4.07\n",
      "halloran [6, 2]\t-3.64\n",
      "thunderbirds [21, 1]\t-3.23\n",
      "lifeless [49, 10]\t-2.93\n",
      "uneducated [19, 10]\t-2.91\n",
      "unremarkable [23, 8]\t-2.75\n",
      "abomination [37, 4]\t-2.72\n",
      "unlikeable [51, 7]\t-2.71\n",
      "refer [44, 25]\t-2.59\n",
      "sources [31, 18]\t-2.52\n",
      "\n",
      "Top positive\n",
      "\n",
      "fez [1, 12]\t3.86\n",
      "cafã [5, 25]\t3.63\n",
      "poisoning [2, 11]\t3.38\n",
      "cerebral [11, 46]\t3.02\n",
      "endearingly [2, 11]\t3.01\n",
      "greene [5, 33]\t2.79\n",
      "vengeance [24, 58]\t2.78\n",
      "finely [3, 35]\t2.62\n",
      "refreshing [25, 172]\t2.49\n",
      "marty [15, 22]\t2.41\n"
     ]
    }
   ],
   "source": [
    "print_top_words_with_counts(X_train, y_train, words, l1lr.coef_[0])"
   ]
  },
  {
   "cell_type": "code",
   "execution_count": 480,
   "metadata": {
    "collapsed": true
   },
   "outputs": [],
   "source": [
    "mnb = MultinomialNB(alpha=1)"
   ]
  },
  {
   "cell_type": "code",
   "execution_count": 481,
   "metadata": {
    "collapsed": false
   },
   "outputs": [
    {
     "data": {
      "text/plain": [
       "MultinomialNB(alpha=1, class_prior=None, fit_prior=True)"
      ]
     },
     "execution_count": 481,
     "metadata": {},
     "output_type": "execute_result"
    }
   ],
   "source": [
    "mnb.fit(X_train, y_train)"
   ]
  },
  {
   "cell_type": "code",
   "execution_count": 482,
   "metadata": {
    "collapsed": false
   },
   "outputs": [
    {
     "data": {
      "text/plain": [
       "0.88868000000000003"
      ]
     },
     "execution_count": 482,
     "metadata": {},
     "output_type": "execute_result"
    }
   ],
   "source": [
    "mnb.score(X_train, y_train)"
   ]
  },
  {
   "cell_type": "code",
   "execution_count": 483,
   "metadata": {
    "collapsed": false
   },
   "outputs": [
    {
     "data": {
      "text/plain": [
       "0.83023999999999998"
      ]
     },
     "execution_count": 483,
     "metadata": {},
     "output_type": "execute_result"
    }
   ],
   "source": [
    "mnb.score(X_test, y_test)"
   ]
  },
  {
   "cell_type": "code",
   "execution_count": 484,
   "metadata": {
    "collapsed": true
   },
   "outputs": [],
   "source": [
    "mnb_weights = mnb.feature_log_prob_[1] - mnb.feature_log_prob_[0]"
   ]
  },
  {
   "cell_type": "code",
   "execution_count": 485,
   "metadata": {
    "collapsed": false
   },
   "outputs": [
    {
     "name": "stdout",
     "output_type": "stream",
     "text": [
      "Top negative\n",
      "\n",
      "boll [58, 1]\t-3.39\n",
      "uwe [56, 1]\t-3.36\n",
      "manos [27, 0]\t-3.34\n",
      "slater [24, 0]\t-3.23\n",
      "savini [23, 0]\t-3.19\n",
      "kareena [22, 0]\t-3.14\n",
      "hobgoblins [22, 0]\t-3.14\n",
      "btk [20, 0]\t-3.05\n",
      "leaden [20, 0]\t-3.05\n",
      "rosanna [20, 0]\t-3.05\n",
      "\n",
      "Top positive\n",
      "\n",
      "edie [0, 40]\t3.71\n",
      "din [0, 25]\t3.25\n",
      "antwone [0, 24]\t3.21\n",
      "mcintire [0, 24]\t3.21\n",
      "tsui [0, 23]\t3.17\n",
      "gunga [0, 23]\t3.17\n",
      "visconti [0, 21]\t3.08\n",
      "sabu [0, 21]\t3.08\n",
      "goldsworthy [0, 21]\t3.08\n",
      "joss [0, 20]\t3.04\n"
     ]
    }
   ],
   "source": [
    "print_top_words_with_counts(X_train, y_train, words, mnb_weights)"
   ]
  },
  {
   "cell_type": "code",
   "execution_count": 492,
   "metadata": {
    "collapsed": true
   },
   "outputs": [],
   "source": [
    "dt = tree.DecisionTreeClassifier(max_depth=None, min_impurity_decrease=0.00001)"
   ]
  },
  {
   "cell_type": "code",
   "execution_count": 493,
   "metadata": {
    "collapsed": false
   },
   "outputs": [
    {
     "data": {
      "text/plain": [
       "DecisionTreeClassifier(class_weight=None, criterion='gini', max_depth=None,\n",
       "            max_features=None, max_leaf_nodes=None,\n",
       "            min_impurity_decrease=1e-05, min_impurity_split=None,\n",
       "            min_samples_leaf=1, min_samples_split=2,\n",
       "            min_weight_fraction_leaf=0.0, presort=False, random_state=None,\n",
       "            splitter='best')"
      ]
     },
     "execution_count": 493,
     "metadata": {},
     "output_type": "execute_result"
    }
   ],
   "source": [
    "dt.fit(X_train, y_train)"
   ]
  },
  {
   "cell_type": "code",
   "execution_count": 494,
   "metadata": {
    "collapsed": false
   },
   "outputs": [
    {
     "data": {
      "text/plain": [
       "1.0"
      ]
     },
     "execution_count": 494,
     "metadata": {},
     "output_type": "execute_result"
    }
   ],
   "source": [
    "dt.score(X_train, y_train)"
   ]
  },
  {
   "cell_type": "code",
   "execution_count": 495,
   "metadata": {
    "collapsed": false
   },
   "outputs": [
    {
     "data": {
      "text/plain": [
       "0.70999999999999996"
      ]
     },
     "execution_count": 495,
     "metadata": {},
     "output_type": "execute_result"
    }
   ],
   "source": [
    "dt.score(X_test, y_test)"
   ]
  },
  {
   "cell_type": "code",
   "execution_count": 488,
   "metadata": {
    "collapsed": true
   },
   "outputs": [],
   "source": [
    "class_names=[\"Negative\", \"Positive\"]"
   ]
  },
  {
   "cell_type": "code",
   "execution_count": 489,
   "metadata": {
    "collapsed": false
   },
   "outputs": [
    {
     "data": {
      "image/svg+xml": [
       "<?xml version=\"1.0\" encoding=\"UTF-8\" standalone=\"no\"?>\r\n",
       "<!DOCTYPE svg PUBLIC \"-//W3C//DTD SVG 1.1//EN\"\r\n",
       " \"http://www.w3.org/Graphics/SVG/1.1/DTD/svg11.dtd\">\r\n",
       "<!-- Generated by graphviz version 2.38.0 (20140413.2041)\r\n",
       " -->\r\n",
       "<!-- Title: Tree Pages: 1 -->\r\n",
       "<svg width=\"719pt\" height=\"790pt\"\r\n",
       " viewBox=\"0.00 0.00 719.00 790.00\" xmlns=\"http://www.w3.org/2000/svg\" xmlns:xlink=\"http://www.w3.org/1999/xlink\">\r\n",
       "<g id=\"graph0\" class=\"graph\" transform=\"scale(1 1) rotate(0) translate(4 786)\">\r\n",
       "<title>Tree</title>\r\n",
       "<polygon fill=\"white\" stroke=\"none\" points=\"-4,4 -4,-786 715,-786 715,4 -4,4\"/>\r\n",
       "<!-- 0 -->\r\n",
       "<g id=\"node1\" class=\"node\"><title>0</title>\r\n",
       "<path fill=\"none\" stroke=\"black\" d=\"M622.5,-782C622.5,-782 483.5,-782 483.5,-782 477.5,-782 471.5,-776 471.5,-770 471.5,-770 471.5,-711 471.5,-711 471.5,-705 477.5,-699 483.5,-699 483.5,-699 622.5,-699 622.5,-699 628.5,-699 634.5,-705 634.5,-711 634.5,-711 634.5,-770 634.5,-770 634.5,-776 628.5,-782 622.5,-782\"/>\r\n",
       "<text text-anchor=\"middle\" x=\"553\" y=\"-766.8\" font-family=\"Helvetica,sans-Serif\" font-size=\"14.00\">bad &lt;= 0.5</text>\r\n",
       "<text text-anchor=\"middle\" x=\"553\" y=\"-751.8\" font-family=\"Helvetica,sans-Serif\" font-size=\"14.00\">gini = 0.5</text>\r\n",
       "<text text-anchor=\"middle\" x=\"553\" y=\"-736.8\" font-family=\"Helvetica,sans-Serif\" font-size=\"14.00\">samples = 25000</text>\r\n",
       "<text text-anchor=\"middle\" x=\"553\" y=\"-721.8\" font-family=\"Helvetica,sans-Serif\" font-size=\"14.00\">value = [12500, 12500]</text>\r\n",
       "<text text-anchor=\"middle\" x=\"553\" y=\"-706.8\" font-family=\"Helvetica,sans-Serif\" font-size=\"14.00\">class = Negative</text>\r\n",
       "</g>\r\n",
       "<!-- 1 -->\r\n",
       "<g id=\"node2\" class=\"node\"><title>1</title>\r\n",
       "<path fill=\"#399de5\" fill-opacity=\"0.262745\" stroke=\"black\" d=\"M534.5,-663C534.5,-663 403.5,-663 403.5,-663 397.5,-663 391.5,-657 391.5,-651 391.5,-651 391.5,-592 391.5,-592 391.5,-586 397.5,-580 403.5,-580 403.5,-580 534.5,-580 534.5,-580 540.5,-580 546.5,-586 546.5,-592 546.5,-592 546.5,-651 546.5,-651 546.5,-657 540.5,-663 534.5,-663\"/>\r\n",
       "<text text-anchor=\"middle\" x=\"469\" y=\"-647.8\" font-family=\"Helvetica,sans-Serif\" font-size=\"14.00\">worst &lt;= 0.5</text>\r\n",
       "<text text-anchor=\"middle\" x=\"469\" y=\"-632.8\" font-family=\"Helvetica,sans-Serif\" font-size=\"14.00\">gini = 0.488</text>\r\n",
       "<text text-anchor=\"middle\" x=\"469\" y=\"-617.8\" font-family=\"Helvetica,sans-Serif\" font-size=\"14.00\">samples = 19096</text>\r\n",
       "<text text-anchor=\"middle\" x=\"469\" y=\"-602.8\" font-family=\"Helvetica,sans-Serif\" font-size=\"14.00\">value = [8094, 11002]</text>\r\n",
       "<text text-anchor=\"middle\" x=\"469\" y=\"-587.8\" font-family=\"Helvetica,sans-Serif\" font-size=\"14.00\">class = Positive</text>\r\n",
       "</g>\r\n",
       "<!-- 0&#45;&gt;1 -->\r\n",
       "<g id=\"edge1\" class=\"edge\"><title>0&#45;&gt;1</title>\r\n",
       "<path fill=\"none\" stroke=\"black\" d=\"M523.857,-698.907C517.471,-690.014 510.648,-680.509 504.058,-671.331\"/>\r\n",
       "<polygon fill=\"black\" stroke=\"black\" points=\"506.767,-669.103 498.092,-663.021 501.081,-673.185 506.767,-669.103\"/>\r\n",
       "<text text-anchor=\"middle\" x=\"494.042\" y=\"-683.991\" font-family=\"Helvetica,sans-Serif\" font-size=\"14.00\">True</text>\r\n",
       "</g>\r\n",
       "<!-- 12 -->\r\n",
       "<g id=\"node13\" class=\"node\"><title>12</title>\r\n",
       "<path fill=\"#e58139\" fill-opacity=\"0.658824\" stroke=\"black\" d=\"M699,-655.5C699,-655.5 577,-655.5 577,-655.5 571,-655.5 565,-649.5 565,-643.5 565,-643.5 565,-599.5 565,-599.5 565,-593.5 571,-587.5 577,-587.5 577,-587.5 699,-587.5 699,-587.5 705,-587.5 711,-593.5 711,-599.5 711,-599.5 711,-643.5 711,-643.5 711,-649.5 705,-655.5 699,-655.5\"/>\r\n",
       "<text text-anchor=\"middle\" x=\"638\" y=\"-640.3\" font-family=\"Helvetica,sans-Serif\" font-size=\"14.00\">gini = 0.379</text>\r\n",
       "<text text-anchor=\"middle\" x=\"638\" y=\"-625.3\" font-family=\"Helvetica,sans-Serif\" font-size=\"14.00\">samples = 5904</text>\r\n",
       "<text text-anchor=\"middle\" x=\"638\" y=\"-610.3\" font-family=\"Helvetica,sans-Serif\" font-size=\"14.00\">value = [4406, 1498]</text>\r\n",
       "<text text-anchor=\"middle\" x=\"638\" y=\"-595.3\" font-family=\"Helvetica,sans-Serif\" font-size=\"14.00\">class = Negative</text>\r\n",
       "</g>\r\n",
       "<!-- 0&#45;&gt;12 -->\r\n",
       "<g id=\"edge12\" class=\"edge\"><title>0&#45;&gt;12</title>\r\n",
       "<path fill=\"none\" stroke=\"black\" d=\"M582.49,-698.907C590.747,-687.542 599.729,-675.178 608.015,-663.774\"/>\r\n",
       "<polygon fill=\"black\" stroke=\"black\" points=\"610.858,-665.814 613.904,-655.667 605.195,-661.7 610.858,-665.814\"/>\r\n",
       "<text text-anchor=\"middle\" x=\"617.816\" y=\"-676.659\" font-family=\"Helvetica,sans-Serif\" font-size=\"14.00\">False</text>\r\n",
       "</g>\r\n",
       "<!-- 2 -->\r\n",
       "<g id=\"node3\" class=\"node\"><title>2</title>\r\n",
       "<path fill=\"#399de5\" fill-opacity=\"0.349020\" stroke=\"black\" d=\"M452.5,-544C452.5,-544 321.5,-544 321.5,-544 315.5,-544 309.5,-538 309.5,-532 309.5,-532 309.5,-473 309.5,-473 309.5,-467 315.5,-461 321.5,-461 321.5,-461 452.5,-461 452.5,-461 458.5,-461 464.5,-467 464.5,-473 464.5,-473 464.5,-532 464.5,-532 464.5,-538 458.5,-544 452.5,-544\"/>\r\n",
       "<text text-anchor=\"middle\" x=\"387\" y=\"-528.8\" font-family=\"Helvetica,sans-Serif\" font-size=\"14.00\">waste &lt;= 0.5</text>\r\n",
       "<text text-anchor=\"middle\" x=\"387\" y=\"-513.8\" font-family=\"Helvetica,sans-Serif\" font-size=\"14.00\">gini = 0.477</text>\r\n",
       "<text text-anchor=\"middle\" x=\"387\" y=\"-498.8\" font-family=\"Helvetica,sans-Serif\" font-size=\"14.00\">samples = 17866</text>\r\n",
       "<text text-anchor=\"middle\" x=\"387\" y=\"-483.8\" font-family=\"Helvetica,sans-Serif\" font-size=\"14.00\">value = [7032, 10834]</text>\r\n",
       "<text text-anchor=\"middle\" x=\"387\" y=\"-468.8\" font-family=\"Helvetica,sans-Serif\" font-size=\"14.00\">class = Positive</text>\r\n",
       "</g>\r\n",
       "<!-- 1&#45;&gt;2 -->\r\n",
       "<g id=\"edge2\" class=\"edge\"><title>1&#45;&gt;2</title>\r\n",
       "<path fill=\"none\" stroke=\"black\" d=\"M440.551,-579.907C434.317,-571.014 427.656,-561.509 421.223,-552.331\"/>\r\n",
       "<polygon fill=\"black\" stroke=\"black\" points=\"424.005,-550.201 415.399,-544.021 418.272,-554.219 424.005,-550.201\"/>\r\n",
       "</g>\r\n",
       "<!-- 11 -->\r\n",
       "<g id=\"node12\" class=\"node\"><title>11</title>\r\n",
       "<path fill=\"#e58139\" fill-opacity=\"0.843137\" stroke=\"black\" d=\"M609,-536.5C609,-536.5 495,-536.5 495,-536.5 489,-536.5 483,-530.5 483,-524.5 483,-524.5 483,-480.5 483,-480.5 483,-474.5 489,-468.5 495,-468.5 495,-468.5 609,-468.5 609,-468.5 615,-468.5 621,-474.5 621,-480.5 621,-480.5 621,-524.5 621,-524.5 621,-530.5 615,-536.5 609,-536.5\"/>\r\n",
       "<text text-anchor=\"middle\" x=\"552\" y=\"-521.3\" font-family=\"Helvetica,sans-Serif\" font-size=\"14.00\">gini = 0.236</text>\r\n",
       "<text text-anchor=\"middle\" x=\"552\" y=\"-506.3\" font-family=\"Helvetica,sans-Serif\" font-size=\"14.00\">samples = 1230</text>\r\n",
       "<text text-anchor=\"middle\" x=\"552\" y=\"-491.3\" font-family=\"Helvetica,sans-Serif\" font-size=\"14.00\">value = [1062, 168]</text>\r\n",
       "<text text-anchor=\"middle\" x=\"552\" y=\"-476.3\" font-family=\"Helvetica,sans-Serif\" font-size=\"14.00\">class = Negative</text>\r\n",
       "</g>\r\n",
       "<!-- 1&#45;&gt;11 -->\r\n",
       "<g id=\"edge11\" class=\"edge\"><title>1&#45;&gt;11</title>\r\n",
       "<path fill=\"none\" stroke=\"black\" d=\"M497.796,-579.907C505.781,-568.652 514.46,-556.418 522.484,-545.106\"/>\r\n",
       "<polygon fill=\"black\" stroke=\"black\" points=\"525.54,-546.848 528.471,-536.667 519.831,-542.798 525.54,-546.848\"/>\r\n",
       "</g>\r\n",
       "<!-- 3 -->\r\n",
       "<g id=\"node4\" class=\"node\"><title>3</title>\r\n",
       "<path fill=\"#399de5\" fill-opacity=\"0.400000\" stroke=\"black\" d=\"M374.5,-425C374.5,-425 243.5,-425 243.5,-425 237.5,-425 231.5,-419 231.5,-413 231.5,-413 231.5,-354 231.5,-354 231.5,-348 237.5,-342 243.5,-342 243.5,-342 374.5,-342 374.5,-342 380.5,-342 386.5,-348 386.5,-354 386.5,-354 386.5,-413 386.5,-413 386.5,-419 380.5,-425 374.5,-425\"/>\r\n",
       "<text text-anchor=\"middle\" x=\"309\" y=\"-409.8\" font-family=\"Helvetica,sans-Serif\" font-size=\"14.00\">great &lt;= 0.5</text>\r\n",
       "<text text-anchor=\"middle\" x=\"309\" y=\"-394.8\" font-family=\"Helvetica,sans-Serif\" font-size=\"14.00\">gini = 0.468</text>\r\n",
       "<text text-anchor=\"middle\" x=\"309\" y=\"-379.8\" font-family=\"Helvetica,sans-Serif\" font-size=\"14.00\">samples = 17203</text>\r\n",
       "<text text-anchor=\"middle\" x=\"309\" y=\"-364.8\" font-family=\"Helvetica,sans-Serif\" font-size=\"14.00\">value = [6438, 10765]</text>\r\n",
       "<text text-anchor=\"middle\" x=\"309\" y=\"-349.8\" font-family=\"Helvetica,sans-Serif\" font-size=\"14.00\">class = Positive</text>\r\n",
       "</g>\r\n",
       "<!-- 2&#45;&gt;3 -->\r\n",
       "<g id=\"edge3\" class=\"edge\"><title>2&#45;&gt;3</title>\r\n",
       "<path fill=\"none\" stroke=\"black\" d=\"M359.938,-460.907C354.07,-452.105 347.802,-442.703 341.741,-433.612\"/>\r\n",
       "<polygon fill=\"black\" stroke=\"black\" points=\"344.473,-431.4 336.014,-425.021 338.649,-435.283 344.473,-431.4\"/>\r\n",
       "</g>\r\n",
       "<!-- 10 -->\r\n",
       "<g id=\"node11\" class=\"node\"><title>10</title>\r\n",
       "<path fill=\"#e58139\" fill-opacity=\"0.882353\" stroke=\"black\" d=\"M515,-417.5C515,-417.5 417,-417.5 417,-417.5 411,-417.5 405,-411.5 405,-405.5 405,-405.5 405,-361.5 405,-361.5 405,-355.5 411,-349.5 417,-349.5 417,-349.5 515,-349.5 515,-349.5 521,-349.5 527,-355.5 527,-361.5 527,-361.5 527,-405.5 527,-405.5 527,-411.5 521,-417.5 515,-417.5\"/>\r\n",
       "<text text-anchor=\"middle\" x=\"466\" y=\"-402.3\" font-family=\"Helvetica,sans-Serif\" font-size=\"14.00\">gini = 0.186</text>\r\n",
       "<text text-anchor=\"middle\" x=\"466\" y=\"-387.3\" font-family=\"Helvetica,sans-Serif\" font-size=\"14.00\">samples = 663</text>\r\n",
       "<text text-anchor=\"middle\" x=\"466\" y=\"-372.3\" font-family=\"Helvetica,sans-Serif\" font-size=\"14.00\">value = [594, 69]</text>\r\n",
       "<text text-anchor=\"middle\" x=\"466\" y=\"-357.3\" font-family=\"Helvetica,sans-Serif\" font-size=\"14.00\">class = Negative</text>\r\n",
       "</g>\r\n",
       "<!-- 2&#45;&gt;10 -->\r\n",
       "<g id=\"edge10\" class=\"edge\"><title>2&#45;&gt;10</title>\r\n",
       "<path fill=\"none\" stroke=\"black\" d=\"M414.409,-460.907C422.008,-449.652 430.269,-437.418 437.907,-426.106\"/>\r\n",
       "<polygon fill=\"black\" stroke=\"black\" points=\"440.91,-427.913 443.605,-417.667 435.109,-423.996 440.91,-427.913\"/>\r\n",
       "</g>\r\n",
       "<!-- 4 -->\r\n",
       "<g id=\"node5\" class=\"node\"><title>4</title>\r\n",
       "<path fill=\"#399de5\" fill-opacity=\"0.254902\" stroke=\"black\" d=\"M288,-306C288,-306 166,-306 166,-306 160,-306 154,-300 154,-294 154,-294 154,-235 154,-235 154,-229 160,-223 166,-223 166,-223 288,-223 288,-223 294,-223 300,-229 300,-235 300,-235 300,-294 300,-294 300,-300 294,-306 288,-306\"/>\r\n",
       "<text text-anchor=\"middle\" x=\"227\" y=\"-290.8\" font-family=\"Helvetica,sans-Serif\" font-size=\"14.00\">awful &lt;= 0.5</text>\r\n",
       "<text text-anchor=\"middle\" x=\"227\" y=\"-275.8\" font-family=\"Helvetica,sans-Serif\" font-size=\"14.00\">gini = 0.489</text>\r\n",
       "<text text-anchor=\"middle\" x=\"227\" y=\"-260.8\" font-family=\"Helvetica,sans-Serif\" font-size=\"14.00\">samples = 12591</text>\r\n",
       "<text text-anchor=\"middle\" x=\"227\" y=\"-245.8\" font-family=\"Helvetica,sans-Serif\" font-size=\"14.00\">value = [5372, 7219]</text>\r\n",
       "<text text-anchor=\"middle\" x=\"227\" y=\"-230.8\" font-family=\"Helvetica,sans-Serif\" font-size=\"14.00\">class = Positive</text>\r\n",
       "</g>\r\n",
       "<!-- 3&#45;&gt;4 -->\r\n",
       "<g id=\"edge4\" class=\"edge\"><title>3&#45;&gt;4</title>\r\n",
       "<path fill=\"none\" stroke=\"black\" d=\"M280.551,-341.907C274.317,-333.014 267.656,-323.509 261.223,-314.331\"/>\r\n",
       "<polygon fill=\"black\" stroke=\"black\" points=\"264.005,-312.201 255.399,-306.021 258.272,-316.219 264.005,-312.201\"/>\r\n",
       "</g>\r\n",
       "<!-- 9 -->\r\n",
       "<g id=\"node10\" class=\"node\"><title>9</title>\r\n",
       "<path fill=\"#399de5\" fill-opacity=\"0.698039\" stroke=\"black\" d=\"M452,-298.5C452,-298.5 330,-298.5 330,-298.5 324,-298.5 318,-292.5 318,-286.5 318,-286.5 318,-242.5 318,-242.5 318,-236.5 324,-230.5 330,-230.5 330,-230.5 452,-230.5 452,-230.5 458,-230.5 464,-236.5 464,-242.5 464,-242.5 464,-286.5 464,-286.5 464,-292.5 458,-298.5 452,-298.5\"/>\r\n",
       "<text text-anchor=\"middle\" x=\"391\" y=\"-283.3\" font-family=\"Helvetica,sans-Serif\" font-size=\"14.00\">gini = 0.355</text>\r\n",
       "<text text-anchor=\"middle\" x=\"391\" y=\"-268.3\" font-family=\"Helvetica,sans-Serif\" font-size=\"14.00\">samples = 4612</text>\r\n",
       "<text text-anchor=\"middle\" x=\"391\" y=\"-253.3\" font-family=\"Helvetica,sans-Serif\" font-size=\"14.00\">value = [1066, 3546]</text>\r\n",
       "<text text-anchor=\"middle\" x=\"391\" y=\"-238.3\" font-family=\"Helvetica,sans-Serif\" font-size=\"14.00\">class = Positive</text>\r\n",
       "</g>\r\n",
       "<!-- 3&#45;&gt;9 -->\r\n",
       "<g id=\"edge9\" class=\"edge\"><title>3&#45;&gt;9</title>\r\n",
       "<path fill=\"none\" stroke=\"black\" d=\"M337.449,-341.907C345.338,-330.652 353.912,-318.418 361.84,-307.106\"/>\r\n",
       "<polygon fill=\"black\" stroke=\"black\" points=\"364.882,-308.865 367.755,-298.667 359.149,-304.847 364.882,-308.865\"/>\r\n",
       "</g>\r\n",
       "<!-- 5 -->\r\n",
       "<g id=\"node6\" class=\"node\"><title>5</title>\r\n",
       "<path fill=\"#399de5\" fill-opacity=\"0.305882\" stroke=\"black\" d=\"M212,-187C212,-187 90,-187 90,-187 84,-187 78,-181 78,-175 78,-175 78,-116 78,-116 78,-110 84,-104 90,-104 90,-104 212,-104 212,-104 218,-104 224,-110 224,-116 224,-116 224,-175 224,-175 224,-181 218,-187 212,-187\"/>\r\n",
       "<text text-anchor=\"middle\" x=\"151\" y=\"-171.8\" font-family=\"Helvetica,sans-Serif\" font-size=\"14.00\">boring &lt;= 0.5</text>\r\n",
       "<text text-anchor=\"middle\" x=\"151\" y=\"-156.8\" font-family=\"Helvetica,sans-Serif\" font-size=\"14.00\">gini = 0.484</text>\r\n",
       "<text text-anchor=\"middle\" x=\"151\" y=\"-141.8\" font-family=\"Helvetica,sans-Serif\" font-size=\"14.00\">samples = 12126</text>\r\n",
       "<text text-anchor=\"middle\" x=\"151\" y=\"-126.8\" font-family=\"Helvetica,sans-Serif\" font-size=\"14.00\">value = [4972, 7154]</text>\r\n",
       "<text text-anchor=\"middle\" x=\"151\" y=\"-111.8\" font-family=\"Helvetica,sans-Serif\" font-size=\"14.00\">class = Positive</text>\r\n",
       "</g>\r\n",
       "<!-- 4&#45;&gt;5 -->\r\n",
       "<g id=\"edge5\" class=\"edge\"><title>4&#45;&gt;5</title>\r\n",
       "<path fill=\"none\" stroke=\"black\" d=\"M200.632,-222.907C194.914,-214.105 188.807,-204.703 182.902,-195.612\"/>\r\n",
       "<polygon fill=\"black\" stroke=\"black\" points=\"185.704,-193.5 177.321,-187.021 179.833,-197.313 185.704,-193.5\"/>\r\n",
       "</g>\r\n",
       "<!-- 8 -->\r\n",
       "<g id=\"node9\" class=\"node\"><title>8</title>\r\n",
       "<path fill=\"#e58139\" fill-opacity=\"0.839216\" stroke=\"black\" d=\"M352,-179.5C352,-179.5 254,-179.5 254,-179.5 248,-179.5 242,-173.5 242,-167.5 242,-167.5 242,-123.5 242,-123.5 242,-117.5 248,-111.5 254,-111.5 254,-111.5 352,-111.5 352,-111.5 358,-111.5 364,-117.5 364,-123.5 364,-123.5 364,-167.5 364,-167.5 364,-173.5 358,-179.5 352,-179.5\"/>\r\n",
       "<text text-anchor=\"middle\" x=\"303\" y=\"-164.3\" font-family=\"Helvetica,sans-Serif\" font-size=\"14.00\">gini = 0.24</text>\r\n",
       "<text text-anchor=\"middle\" x=\"303\" y=\"-149.3\" font-family=\"Helvetica,sans-Serif\" font-size=\"14.00\">samples = 465</text>\r\n",
       "<text text-anchor=\"middle\" x=\"303\" y=\"-134.3\" font-family=\"Helvetica,sans-Serif\" font-size=\"14.00\">value = [400, 65]</text>\r\n",
       "<text text-anchor=\"middle\" x=\"303\" y=\"-119.3\" font-family=\"Helvetica,sans-Serif\" font-size=\"14.00\">class = Negative</text>\r\n",
       "</g>\r\n",
       "<!-- 4&#45;&gt;8 -->\r\n",
       "<g id=\"edge8\" class=\"edge\"><title>4&#45;&gt;8</title>\r\n",
       "<path fill=\"none\" stroke=\"black\" d=\"M253.368,-222.907C260.679,-211.652 268.626,-199.418 275.974,-188.106\"/>\r\n",
       "<polygon fill=\"black\" stroke=\"black\" points=\"278.943,-189.96 281.456,-179.667 273.073,-186.146 278.943,-189.96\"/>\r\n",
       "</g>\r\n",
       "<!-- 6 -->\r\n",
       "<g id=\"node7\" class=\"node\"><title>6</title>\r\n",
       "<path fill=\"#399de5\" fill-opacity=\"0.352941\" stroke=\"black\" d=\"M134,-68C134,-68 12,-68 12,-68 6,-68 0,-62 0,-56 0,-56 0,-12 0,-12 0,-6 6,-0 12,-0 12,-0 134,-0 134,-0 140,-0 146,-6 146,-12 146,-12 146,-56 146,-56 146,-62 140,-68 134,-68\"/>\r\n",
       "<text text-anchor=\"middle\" x=\"73\" y=\"-52.8\" font-family=\"Helvetica,sans-Serif\" font-size=\"14.00\">gini = 0.477</text>\r\n",
       "<text text-anchor=\"middle\" x=\"73\" y=\"-37.8\" font-family=\"Helvetica,sans-Serif\" font-size=\"14.00\">samples = 11549</text>\r\n",
       "<text text-anchor=\"middle\" x=\"73\" y=\"-22.8\" font-family=\"Helvetica,sans-Serif\" font-size=\"14.00\">value = [4544, 7005]</text>\r\n",
       "<text text-anchor=\"middle\" x=\"73\" y=\"-7.8\" font-family=\"Helvetica,sans-Serif\" font-size=\"14.00\">class = Positive</text>\r\n",
       "</g>\r\n",
       "<!-- 5&#45;&gt;6 -->\r\n",
       "<g id=\"edge6\" class=\"edge\"><title>5&#45;&gt;6</title>\r\n",
       "<path fill=\"none\" stroke=\"black\" d=\"M121.956,-103.726C115.654,-94.879 108.98,-85.51 102.654,-76.6303\"/>\r\n",
       "<polygon fill=\"black\" stroke=\"black\" points=\"105.373,-74.4138 96.7203,-68.2996 99.6714,-78.4751 105.373,-74.4138\"/>\r\n",
       "</g>\r\n",
       "<!-- 7 -->\r\n",
       "<g id=\"node8\" class=\"node\"><title>7</title>\r\n",
       "<path fill=\"#e58139\" fill-opacity=\"0.650980\" stroke=\"black\" d=\"M282,-68C282,-68 176,-68 176,-68 170,-68 164,-62 164,-56 164,-56 164,-12 164,-12 164,-6 170,-0 176,-0 176,-0 282,-0 282,-0 288,-0 294,-6 294,-12 294,-12 294,-56 294,-56 294,-62 288,-68 282,-68\"/>\r\n",
       "<text text-anchor=\"middle\" x=\"229\" y=\"-52.8\" font-family=\"Helvetica,sans-Serif\" font-size=\"14.00\">gini = 0.383</text>\r\n",
       "<text text-anchor=\"middle\" x=\"229\" y=\"-37.8\" font-family=\"Helvetica,sans-Serif\" font-size=\"14.00\">samples = 577</text>\r\n",
       "<text text-anchor=\"middle\" x=\"229\" y=\"-22.8\" font-family=\"Helvetica,sans-Serif\" font-size=\"14.00\">value = [428, 149]</text>\r\n",
       "<text text-anchor=\"middle\" x=\"229\" y=\"-7.8\" font-family=\"Helvetica,sans-Serif\" font-size=\"14.00\">class = Negative</text>\r\n",
       "</g>\r\n",
       "<!-- 5&#45;&gt;7 -->\r\n",
       "<g id=\"edge7\" class=\"edge\"><title>5&#45;&gt;7</title>\r\n",
       "<path fill=\"none\" stroke=\"black\" d=\"M180.044,-103.726C186.346,-94.879 193.02,-85.51 199.346,-76.6303\"/>\r\n",
       "<polygon fill=\"black\" stroke=\"black\" points=\"202.329,-78.4751 205.28,-68.2996 196.627,-74.4138 202.329,-78.4751\"/>\r\n",
       "</g>\r\n",
       "</g>\r\n",
       "</svg>\r\n"
      ],
      "text/plain": [
       "<graphviz.files.Source at 0x22a6d065320>"
      ]
     },
     "execution_count": 489,
     "metadata": {},
     "output_type": "execute_result"
    }
   ],
   "source": [
    "dot_data = tree.export_graphviz(dt, feature_names=words, class_names=class_names, \n",
    "                                filled=True, rounded = True, out_file=None)\n",
    "graph = graphviz.Source(dot_data)\n",
    "graph"
   ]
  },
  {
   "cell_type": "markdown",
   "metadata": {},
   "source": [
    "# Evidences"
   ]
  },
  {
   "cell_type": "code",
   "execution_count": 496,
   "metadata": {
    "collapsed": true
   },
   "outputs": [],
   "source": [
    "def compute_evidences_nonnegative_matrix(weights, X, bias=0):   \n",
    "    X = check_array(X, accept_sparse=\"csr\")\n",
    "    neg_weights = weights * (weights < 0)\n",
    "    pos_weights = weights * (weights > 0)\n",
    "    if issparse(X):\n",
    "        neg_evi = X * neg_weights\n",
    "        pos_evi = X * pos_weights\n",
    "    else:\n",
    "        neg_evi = np.dot(X, neg_weights)\n",
    "        pos_evi = np.dot(X, pos_weights)\n",
    "    \n",
    "    if bias > 0:\n",
    "        pos_evi += bias\n",
    "    else:\n",
    "        neg_evi -= bias\n",
    "    return neg_evi, pos_evi"
   ]
  },
  {
   "cell_type": "code",
   "execution_count": 497,
   "metadata": {
    "collapsed": true
   },
   "outputs": [],
   "source": [
    "def print_top_words_in_a_doc(x, words, weights, top_k=10):\n",
    "    indices = x.indices\n",
    "    ascending = np.argsort(weights[indices])\n",
    "    descending = ascending[::-1]\n",
    "    print(\"Top negative\\n\")\n",
    "    for i in ascending[: top_k]:\n",
    "        if weights[indices[i]] >= 0:\n",
    "            break\n",
    "        print(\"%s\\t%0.2f\" %(words[indices[i]], weights[indices[i]]))\n",
    "    print(\"\\nTop positive\\n\")\n",
    "    for i in descending[: top_k]:\n",
    "        if weights[indices[i]] <= 0:\n",
    "            break\n",
    "        print(\"%s\\t%0.2f\" %(words[indices[i]], weights[indices[i]]))"
   ]
  },
  {
   "cell_type": "code",
   "execution_count": 498,
   "metadata": {
    "collapsed": true
   },
   "outputs": [],
   "source": [
    "j=1"
   ]
  },
  {
   "cell_type": "code",
   "execution_count": 499,
   "metadata": {
    "collapsed": false
   },
   "outputs": [
    {
     "data": {
      "text/plain": [
       "\"This is an example of why the majority of action films are the same. Generic and boring, there's really nothing worth watching here. A complete waste of the then barely-tapped talents of Ice-T and Ice Cube, who've each proven many times over that they are capable of acting, and acting well. Don't bother with this one, go see New Jack City, Ricochet or watch New York Undercover for Ice-T, or Boyz n the Hood, Higher Learning or Friday for Ice Cube and see the real deal. Ice-T's horribly cliched dialogue alone makes this film grate at the teeth, and I'm still wondering what the heck Bill Paxton was doing in this film? And why the heck does he always play the exact same character? From Aliens onward, every film I've seen with Bill Paxton has him playing the exact same irritating character, and at least in Aliens his character died, which made it somewhat gratifying...<br /><br />Overall, this is second-rate action trash. There are countless better films to see, and if you really want to see this one, watch Judgement Night, which is practically a carbon copy but has better acting and a better script. The only thing that made this at all worth watching was a decent hand on the camera - the cinematography was almost refreshing, which comes close to making up for the horrible film itself - but not quite. 4/10.\""
      ]
     },
     "execution_count": 499,
     "metadata": {},
     "output_type": "execute_result"
    }
   ],
   "source": [
    "test_corpus[j]"
   ]
  },
  {
   "cell_type": "code",
   "execution_count": 500,
   "metadata": {
    "collapsed": false
   },
   "outputs": [
    {
     "name": "stdout",
     "output_type": "stream",
     "text": [
      "Top negative\n",
      "\n",
      "waste\t-2.25\n",
      "boring\t-1.56\n",
      "horrible\t-1.28\n",
      "nothing\t-0.87\n",
      "talents\t-0.71\n",
      "barely\t-0.71\n",
      "irritating\t-0.55\n",
      "learning\t-0.53\n",
      "script\t-0.53\n",
      "exact\t-0.46\n",
      "\n",
      "Top positive\n",
      "\n",
      "refreshing\t1.60\n",
      "jack\t0.79\n",
      "worth\t0.58\n",
      "paxton\t0.53\n",
      "hood\t0.51\n",
      "well\t0.49\n",
      "undercover\t0.48\n",
      "deal\t0.48\n",
      "somewhat\t0.46\n",
      "still\t0.44\n"
     ]
    }
   ],
   "source": [
    "print_top_words_in_a_doc(X_test[j], words, l2lr.coef_[0])"
   ]
  },
  {
   "cell_type": "code",
   "execution_count": 501,
   "metadata": {
    "collapsed": false
   },
   "outputs": [
    {
     "name": "stdout",
     "output_type": "stream",
     "text": [
      "Top negative\n",
      "\n",
      "waste\t-2.37\n",
      "boring\t-1.44\n",
      "horrible\t-1.20\n",
      "nothing\t-0.80\n",
      "barely\t-0.70\n",
      "learning\t-0.51\n",
      "generic\t-0.51\n",
      "talents\t-0.47\n",
      "aliens\t-0.43\n",
      "script\t-0.42\n",
      "\n",
      "Top positive\n",
      "\n",
      "refreshing\t2.49\n",
      "jack\t0.78\n",
      "undercover\t0.53\n",
      "worth\t0.51\n",
      "deal\t0.49\n",
      "somewhat\t0.48\n",
      "paxton\t0.47\n",
      "ice\t0.47\n",
      "well\t0.43\n",
      "still\t0.42\n"
     ]
    }
   ],
   "source": [
    "print_top_words_in_a_doc(X_test[j], words, l1lr.coef_[0])"
   ]
  },
  {
   "cell_type": "code",
   "execution_count": 502,
   "metadata": {
    "collapsed": false
   },
   "outputs": [
    {
     "name": "stdout",
     "output_type": "stream",
     "text": [
      "Top negative\n",
      "\n",
      "waste\t-2.53\n",
      "horrible\t-1.72\n",
      "bother\t-1.40\n",
      "boring\t-1.39\n",
      "horribly\t-1.39\n",
      "cliched\t-1.29\n",
      "irritating\t-1.24\n",
      "generic\t-1.09\n",
      "trash\t-1.09\n",
      "ricochet\t-0.92\n",
      "\n",
      "Top positive\n",
      "\n",
      "refreshing\t1.89\n",
      "gratifying\t1.24\n",
      "paxton\t0.95\n",
      "york\t0.61\n",
      "always\t0.55\n",
      "jack\t0.54\n",
      "city\t0.54\n",
      "each\t0.45\n",
      "boyz\t0.40\n",
      "undercover\t0.37\n"
     ]
    }
   ],
   "source": [
    "print_top_words_in_a_doc(X_test[j], words, mnb_weights)"
   ]
  },
  {
   "cell_type": "code",
   "execution_count": 503,
   "metadata": {
    "collapsed": false
   },
   "outputs": [
    {
     "data": {
      "text/html": [
       "<font size = 1, color=red> This </font><font size = 1, color=blue> is </font><font size = 1, color=red> an </font><font size = 1, color=red> example </font><font size = 1, color=red> of </font><font size = 1, color=red> why </font><font size = 1, color=blue> the </font><font size = 2, color=red> majority </font><font size = 1, color=gray> of </font><font size = 1, color=blue> action </font><font size = 1, color=blue> films </font><font size = 1, color=blue> are </font><font size = 1, color=gray> the </font><font size = 1, color=red> same. </font><font size = 2, color=red> Generic </font><font size = 1, color=blue> and </font><font size = 5, color=red> boring, </font><font size = 1, color=red> there's </font><font size = 1, color=blue> really </font><font size = 3, color=red> nothing </font><font size = 2, color=blue> worth </font><font size = 1, color=red> watching </font><font size = 1, color=red> here. </font><font size = 1, color=gray> A </font><font size = 1, color=red> complete </font><font size = 6, color=red> waste </font><font size = 1, color=gray> of </font><font size = 1, color=gray> the </font><font size = 1, color=red> then </font><font size = 3, color=red> barely-tapped </font><font size = 3, color=red> talents </font><font size = 1, color=gray> of </font><font size = 1, color=blue> Ice-T </font><font size = 1, color=gray> and </font><font size = 1, color=gray> Ice </font><font size = 1, color=blue> Cube, </font><font size = 1, color=blue> who've </font><font size = 2, color=blue> each </font><font size = 1, color=red> proven </font><font size = 1, color=blue> many </font><font size = 1, color=blue> times </font><font size = 1, color=red> over </font><font size = 1, color=blue> that </font><font size = 1, color=red> they </font><font size = 1, color=gray> are </font><font size = 2, color=blue> capable </font><font size = 1, color=gray> of </font><font size = 1, color=red> acting, </font><font size = 1, color=gray> and </font><font size = 1, color=gray> acting </font><font size = 2, color=blue> well. </font><font size = 1, color=red> Don't </font><font size = 1, color=red> bother </font><font size = 1, color=blue> with </font><font size = 1, color=gray> this </font><font size = 1, color=red> one, </font><font size = 1, color=blue> go </font><font size = 1, color=blue> see </font><font size = 1, color=blue> New </font><font size = 3, color=blue> Jack </font><font size = 1, color=blue> City, </font><font size = 1, color=red> Ricochet </font><font size = 1, color=red> or </font><font size = 1, color=blue> watch </font><font size = 1, color=gray> New </font><font size = 1, color=red> York </font><font size = 2, color=blue> Undercover </font><font size = 1, color=blue> for </font><font size = 1, color=gray> Ice-T, </font><font size = 1, color=gray> or </font><font size = 1, color=blue> Boyz </font><font size = 1, color=gray> n </font><font size = 1, color=gray> the </font><font size = 2, color=blue> Hood, </font><font size = 2, color=blue> Higher </font><font size = 2, color=red> Learning </font><font size = 1, color=gray> or </font><font size = 1, color=red> Friday </font><font size = 1, color=gray> for </font><font size = 1, color=gray> Ice </font><font size = 1, color=gray> Cube </font><font size = 1, color=gray> and </font><font size = 1, color=gray> see </font><font size = 1, color=gray> the </font><font size = 1, color=red> real </font><font size = 2, color=blue> deal. </font><font size = 1, color=gray> Ice-T's </font><font size = 1, color=red> horribly </font><font size = 2, color=red> cliched </font><font size = 2, color=red> dialogue </font><font size = 1, color=blue> alone </font><font size = 2, color=blue> makes </font><font size = 1, color=gray> this </font><font size = 1, color=blue> film </font><font size = 1, color=red> grate </font><font size = 1, color=red> at </font><font size = 1, color=gray> the </font><font size = 2, color=red> teeth, </font><font size = 1, color=gray> and </font><font size = 1, color=gray> I'm </font><font size = 2, color=blue> still </font><font size = 1, color=blue> wondering </font><font size = 1, color=blue> what </font><font size = 1, color=gray> the </font><font size = 1, color=blue> heck </font><font size = 1, color=blue> Bill </font><font size = 2, color=blue> Paxton </font><font size = 1, color=red> was </font><font size = 1, color=red> doing </font><font size = 1, color=blue> in </font><font size = 1, color=gray> this </font><font size = 1, color=gray> film? </font><font size = 1, color=gray> And </font><font size = 1, color=gray> why </font><font size = 1, color=gray> the </font><font size = 1, color=gray> heck </font><font size = 1, color=red> does </font><font size = 1, color=red> he </font><font size = 2, color=blue> always </font><font size = 1, color=red> play </font><font size = 1, color=gray> the </font><font size = 2, color=red> exact </font><font size = 1, color=gray> same </font><font size = 1, color=blue> character? </font><font size = 1, color=red> From </font><font size = 2, color=red> Aliens </font><font size = 1, color=red> onward, </font><font size = 1, color=red> every </font><font size = 1, color=gray> film </font><font size = 1, color=blue> I've </font><font size = 1, color=blue> seen </font><font size = 1, color=gray> with </font><font size = 1, color=gray> Bill </font><font size = 1, color=gray> Paxton </font><font size = 1, color=blue> has </font><font size = 1, color=blue> him </font><font size = 1, color=red> playing </font><font size = 1, color=gray> the </font><font size = 1, color=gray> exact </font><font size = 1, color=gray> same </font><font size = 2, color=red> irritating </font><font size = 1, color=gray> character, </font><font size = 1, color=gray> and </font><font size = 1, color=gray> at </font><font size = 2, color=red> least </font><font size = 1, color=gray> in </font><font size = 1, color=gray> Aliens </font><font size = 1, color=blue> his </font><font size = 1, color=gray> character </font><font size = 1, color=red> died, </font><font size = 1, color=blue> which </font><font size = 1, color=blue> made </font><font size = 1, color=blue> it </font><font size = 2, color=blue> somewhat </font><font size = 1, color=blue> gratifying...<br </font><font size = 1, color=red> /><br </font><font size = 2, color=blue> />Overall, </font><font size = 1, color=gray> this </font><font size = 1, color=gray> is </font><font size = 1, color=blue> second-rate </font><font size = 1, color=gray> action </font><font size = 1, color=red> trash. </font><font size = 1, color=gray> There </font><font size = 1, color=gray> are </font><font size = 1, color=blue> countless </font><font size = 1, color=red> better </font><font size = 1, color=gray> films </font><font size = 1, color=red> to </font><font size = 1, color=gray> see, </font><font size = 1, color=gray> and </font><font size = 1, color=red> if </font><font size = 1, color=blue> you </font><font size = 1, color=gray> really </font><font size = 1, color=red> want </font><font size = 1, color=gray> to </font><font size = 1, color=gray> see </font><font size = 1, color=gray> this </font><font size = 1, color=gray> one, </font><font size = 1, color=gray> watch </font><font size = 1, color=blue> Judgement </font><font size = 1, color=blue> Night, </font><font size = 1, color=gray> which </font><font size = 1, color=gray> is </font><font size = 1, color=blue> practically </font><font size = 1, color=gray> a </font><font size = 1, color=blue> carbon </font><font size = 1, color=blue> copy </font><font size = 1, color=red> but </font><font size = 1, color=gray> has </font><font size = 1, color=gray> better </font><font size = 1, color=gray> acting </font><font size = 1, color=gray> and </font><font size = 1, color=gray> a </font><font size = 1, color=gray> better </font><font size = 2, color=red> script. </font><font size = 1, color=gray> The </font><font size = 1, color=red> only </font><font size = 1, color=blue> thing </font><font size = 1, color=gray> that </font><font size = 1, color=gray> made </font><font size = 1, color=gray> this </font><font size = 1, color=gray> at </font><font size = 1, color=blue> all </font><font size = 1, color=gray> worth </font><font size = 1, color=gray> watching </font><font size = 1, color=gray> was </font><font size = 1, color=gray> a </font><font size = 1, color=red> decent </font><font size = 1, color=red> hand </font><font size = 1, color=red> on </font><font size = 1, color=gray> the </font><font size = 1, color=red> camera </font><font size = 1, color=gray> - </font><font size = 1, color=gray> the </font><font size = 2, color=red> cinematography </font><font size = 1, color=gray> was </font><font size = 1, color=blue> almost </font><font size = 5, color=blue> refreshing, </font><font size = 1, color=gray> which </font><font size = 1, color=red> comes </font><font size = 2, color=blue> close </font><font size = 1, color=gray> to </font><font size = 2, color=red> making </font><font size = 1, color=blue> up </font><font size = 1, color=gray> for </font><font size = 1, color=gray> the </font><font size = 4, color=red> horrible </font><font size = 1, color=gray> film </font><font size = 1, color=red> itself </font><font size = 1, color=gray> - </font><font size = 1, color=gray> but </font><font size = 1, color=red> not </font><font size = 1, color=blue> quite. </font><font size = 1, color=blue> 4/10. </font>"
      ],
      "text/plain": [
       "<coloredweighteddoc.ColoredWeightedDoc at 0x22a6d027a58>"
      ]
     },
     "metadata": {},
     "output_type": "display_data"
    }
   ],
   "source": [
    "display.display(ColoredWeightedDoc(test_corpus[j], words, l2lr.coef_[0], binary = True))"
   ]
  },
  {
   "cell_type": "code",
   "execution_count": 504,
   "metadata": {
    "collapsed": false
   },
   "outputs": [
    {
     "data": {
      "text/html": [
       "<font size = 1, color=red> This </font><font size = 1, color=blue> is </font><font size = 1, color=red> an </font><font size = 1, color=red> example </font><font size = 1, color=red> of </font><font size = 1, color=red> why </font><font size = 1, color=blue> the </font><font size = 1, color=red> majority </font><font size = 1, color=gray> of </font><font size = 1, color=blue> action </font><font size = 1, color=blue> films </font><font size = 1, color=blue> are </font><font size = 1, color=gray> the </font><font size = 1, color=red> same. </font><font size = 1, color=red> Generic </font><font size = 1, color=gray> and </font><font size = 3, color=red> boring, </font><font size = 1, color=red> there's </font><font size = 1, color=blue> really </font><font size = 2, color=red> nothing </font><font size = 1, color=blue> worth </font><font size = 1, color=gray> watching </font><font size = 1, color=red> here. </font><font size = 1, color=gray> A </font><font size = 1, color=red> complete </font><font size = 5, color=red> waste </font><font size = 1, color=gray> of </font><font size = 1, color=gray> the </font><font size = 1, color=red> then </font><font size = 2, color=red> barely-tapped </font><font size = 1, color=red> talents </font><font size = 1, color=gray> of </font><font size = 1, color=blue> Ice-T </font><font size = 1, color=gray> and </font><font size = 1, color=gray> Ice </font><font size = 1, color=gray> Cube, </font><font size = 1, color=blue> who've </font><font size = 1, color=blue> each </font><font size = 1, color=gray> proven </font><font size = 1, color=blue> many </font><font size = 1, color=blue> times </font><font size = 1, color=red> over </font><font size = 1, color=blue> that </font><font size = 1, color=red> they </font><font size = 1, color=gray> are </font><font size = 1, color=blue> capable </font><font size = 1, color=gray> of </font><font size = 1, color=red> acting, </font><font size = 1, color=gray> and </font><font size = 1, color=gray> acting </font><font size = 1, color=blue> well. </font><font size = 1, color=red> Don't </font><font size = 1, color=red> bother </font><font size = 1, color=blue> with </font><font size = 1, color=gray> this </font><font size = 1, color=red> one, </font><font size = 1, color=gray> go </font><font size = 1, color=blue> see </font><font size = 1, color=blue> New </font><font size = 2, color=blue> Jack </font><font size = 1, color=blue> City, </font><font size = 1, color=gray> Ricochet </font><font size = 1, color=red> or </font><font size = 1, color=blue> watch </font><font size = 1, color=gray> New </font><font size = 1, color=gray> York </font><font size = 1, color=blue> Undercover </font><font size = 1, color=gray> for </font><font size = 1, color=gray> Ice-T, </font><font size = 1, color=gray> or </font><font size = 1, color=gray> Boyz </font><font size = 1, color=gray> n </font><font size = 1, color=gray> the </font><font size = 1, color=blue> Hood, </font><font size = 1, color=blue> Higher </font><font size = 1, color=red> Learning </font><font size = 1, color=gray> or </font><font size = 1, color=red> Friday </font><font size = 1, color=gray> for </font><font size = 1, color=gray> Ice </font><font size = 1, color=gray> Cube </font><font size = 1, color=gray> and </font><font size = 1, color=gray> see </font><font size = 1, color=gray> the </font><font size = 1, color=gray> real </font><font size = 1, color=blue> deal. </font><font size = 1, color=gray> Ice-T's </font><font size = 1, color=gray> horribly </font><font size = 1, color=gray> cliched </font><font size = 1, color=red> dialogue </font><font size = 1, color=gray> alone </font><font size = 1, color=blue> makes </font><font size = 1, color=gray> this </font><font size = 1, color=blue> film </font><font size = 1, color=gray> grate </font><font size = 1, color=red> at </font><font size = 1, color=gray> the </font><font size = 1, color=red> teeth, </font><font size = 1, color=gray> and </font><font size = 1, color=gray> I'm </font><font size = 1, color=blue> still </font><font size = 1, color=blue> wondering </font><font size = 1, color=blue> what </font><font size = 1, color=gray> the </font><font size = 1, color=gray> heck </font><font size = 1, color=gray> Bill </font><font size = 1, color=blue> Paxton </font><font size = 1, color=red> was </font><font size = 1, color=red> doing </font><font size = 1, color=blue> in </font><font size = 1, color=gray> this </font><font size = 1, color=gray> film? </font><font size = 1, color=gray> And </font><font size = 1, color=gray> why </font><font size = 1, color=gray> the </font><font size = 1, color=gray> heck </font><font size = 1, color=red> does </font><font size = 1, color=red> he </font><font size = 1, color=blue> always </font><font size = 1, color=red> play </font><font size = 1, color=gray> the </font><font size = 1, color=red> exact </font><font size = 1, color=gray> same </font><font size = 1, color=blue> character? </font><font size = 1, color=red> From </font><font size = 1, color=red> Aliens </font><font size = 1, color=gray> onward, </font><font size = 1, color=red> every </font><font size = 1, color=gray> film </font><font size = 1, color=blue> I've </font><font size = 1, color=blue> seen </font><font size = 1, color=gray> with </font><font size = 1, color=gray> Bill </font><font size = 1, color=gray> Paxton </font><font size = 1, color=blue> has </font><font size = 1, color=blue> him </font><font size = 1, color=red> playing </font><font size = 1, color=gray> the </font><font size = 1, color=gray> exact </font><font size = 1, color=gray> same </font><font size = 1, color=red> irritating </font><font size = 1, color=gray> character, </font><font size = 1, color=gray> and </font><font size = 1, color=gray> at </font><font size = 1, color=red> least </font><font size = 1, color=gray> in </font><font size = 1, color=gray> Aliens </font><font size = 1, color=blue> his </font><font size = 1, color=gray> character </font><font size = 1, color=gray> died, </font><font size = 1, color=red> which </font><font size = 1, color=blue> made </font><font size = 1, color=blue> it </font><font size = 1, color=blue> somewhat </font><font size = 1, color=gray> gratifying...<br </font><font size = 1, color=red> /><br </font><font size = 1, color=blue> />Overall, </font><font size = 1, color=gray> this </font><font size = 1, color=gray> is </font><font size = 1, color=gray> second-rate </font><font size = 1, color=gray> action </font><font size = 1, color=red> trash. </font><font size = 1, color=gray> There </font><font size = 1, color=gray> are </font><font size = 1, color=gray> countless </font><font size = 1, color=red> better </font><font size = 1, color=gray> films </font><font size = 1, color=red> to </font><font size = 1, color=gray> see, </font><font size = 1, color=gray> and </font><font size = 1, color=red> if </font><font size = 1, color=blue> you </font><font size = 1, color=gray> really </font><font size = 1, color=red> want </font><font size = 1, color=gray> to </font><font size = 1, color=gray> see </font><font size = 1, color=gray> this </font><font size = 1, color=gray> one, </font><font size = 1, color=gray> watch </font><font size = 1, color=gray> Judgement </font><font size = 1, color=blue> Night, </font><font size = 1, color=gray> which </font><font size = 1, color=gray> is </font><font size = 1, color=gray> practically </font><font size = 1, color=gray> a </font><font size = 1, color=gray> carbon </font><font size = 1, color=blue> copy </font><font size = 1, color=red> but </font><font size = 1, color=gray> has </font><font size = 1, color=gray> better </font><font size = 1, color=gray> acting </font><font size = 1, color=gray> and </font><font size = 1, color=gray> a </font><font size = 1, color=gray> better </font><font size = 1, color=red> script. </font><font size = 1, color=gray> The </font><font size = 1, color=red> only </font><font size = 1, color=blue> thing </font><font size = 1, color=gray> that </font><font size = 1, color=gray> made </font><font size = 1, color=gray> this </font><font size = 1, color=gray> at </font><font size = 1, color=red> all </font><font size = 1, color=gray> worth </font><font size = 1, color=gray> watching </font><font size = 1, color=gray> was </font><font size = 1, color=gray> a </font><font size = 1, color=red> decent </font><font size = 1, color=red> hand </font><font size = 1, color=red> on </font><font size = 1, color=gray> the </font><font size = 1, color=red> camera </font><font size = 1, color=gray> - </font><font size = 1, color=gray> the </font><font size = 1, color=red> cinematography </font><font size = 1, color=gray> was </font><font size = 1, color=gray> almost </font><font size = 5, color=blue> refreshing, </font><font size = 1, color=gray> which </font><font size = 1, color=red> comes </font><font size = 1, color=blue> close </font><font size = 1, color=gray> to </font><font size = 1, color=red> making </font><font size = 1, color=blue> up </font><font size = 1, color=gray> for </font><font size = 1, color=gray> the </font><font size = 3, color=red> horrible </font><font size = 1, color=gray> film </font><font size = 1, color=red> itself </font><font size = 1, color=gray> - </font><font size = 1, color=gray> but </font><font size = 1, color=red> not </font><font size = 1, color=blue> quite. </font><font size = 1, color=blue> 4/10. </font>"
      ],
      "text/plain": [
       "<coloredweighteddoc.ColoredWeightedDoc at 0x22ac0bedb00>"
      ]
     },
     "metadata": {},
     "output_type": "display_data"
    }
   ],
   "source": [
    "display.display(ColoredWeightedDoc(test_corpus[j], words, l1lr.coef_[0], binary = True))"
   ]
  },
  {
   "cell_type": "code",
   "execution_count": 505,
   "metadata": {
    "collapsed": false
   },
   "outputs": [
    {
     "data": {
      "text/html": [
       "<font size = 1, color=red> This </font><font size = 1, color=blue> is </font><font size = 1, color=blue> an </font><font size = 1, color=red> example </font><font size = 1, color=red> of </font><font size = 1, color=red> why </font><font size = 1, color=red> the </font><font size = 1, color=blue> majority </font><font size = 1, color=gray> of </font><font size = 1, color=blue> action </font><font size = 1, color=blue> films </font><font size = 1, color=blue> are </font><font size = 1, color=gray> the </font><font size = 1, color=red> same. </font><font size = 3, color=red> Generic </font><font size = 1, color=blue> and </font><font size = 3, color=red> boring, </font><font size = 1, color=red> there's </font><font size = 1, color=red> really </font><font size = 2, color=red> nothing </font><font size = 1, color=blue> worth </font><font size = 1, color=red> watching </font><font size = 1, color=red> here. </font><font size = 1, color=gray> A </font><font size = 1, color=red> complete </font><font size = 5, color=red> waste </font><font size = 1, color=gray> of </font><font size = 1, color=gray> the </font><font size = 1, color=red> then </font><font size = 2, color=red> barely-tapped </font><font size = 1, color=red> talents </font><font size = 1, color=gray> of </font><font size = 1, color=blue> Ice-T </font><font size = 1, color=gray> and </font><font size = 1, color=gray> Ice </font><font size = 1, color=blue> Cube, </font><font size = 1, color=blue> who've </font><font size = 1, color=blue> each </font><font size = 1, color=red> proven </font><font size = 1, color=blue> many </font><font size = 1, color=blue> times </font><font size = 1, color=red> over </font><font size = 1, color=red> that </font><font size = 1, color=red> they </font><font size = 1, color=gray> are </font><font size = 1, color=red> capable </font><font size = 1, color=gray> of </font><font size = 1, color=red> acting, </font><font size = 1, color=gray> and </font><font size = 1, color=gray> acting </font><font size = 1, color=blue> well. </font><font size = 1, color=red> Don't </font><font size = 3, color=red> bother </font><font size = 1, color=blue> with </font><font size = 1, color=gray> this </font><font size = 1, color=blue> one, </font><font size = 1, color=red> go </font><font size = 1, color=blue> see </font><font size = 1, color=blue> New </font><font size = 2, color=blue> Jack </font><font size = 2, color=blue> City, </font><font size = 2, color=red> Ricochet </font><font size = 1, color=red> or </font><font size = 1, color=red> watch </font><font size = 1, color=gray> New </font><font size = 2, color=blue> York </font><font size = 1, color=blue> Undercover </font><font size = 1, color=red> for </font><font size = 1, color=gray> Ice-T, </font><font size = 1, color=gray> or </font><font size = 1, color=blue> Boyz </font><font size = 1, color=gray> n </font><font size = 1, color=gray> the </font><font size = 1, color=red> Hood, </font><font size = 1, color=blue> Higher </font><font size = 1, color=blue> Learning </font><font size = 1, color=gray> or </font><font size = 1, color=red> Friday </font><font size = 1, color=gray> for </font><font size = 1, color=gray> Ice </font><font size = 1, color=gray> Cube </font><font size = 1, color=gray> and </font><font size = 1, color=gray> see </font><font size = 1, color=gray> the </font><font size = 1, color=blue> real </font><font size = 1, color=blue> deal. </font><font size = 1, color=gray> Ice-T's </font><font size = 3, color=red> horribly </font><font size = 3, color=red> cliched </font><font size = 1, color=red> dialogue </font><font size = 1, color=red> alone </font><font size = 1, color=blue> makes </font><font size = 1, color=gray> this </font><font size = 1, color=blue> film </font><font size = 1, color=red> grate </font><font size = 1, color=red> at </font><font size = 1, color=gray> the </font><font size = 2, color=red> teeth, </font><font size = 1, color=gray> and </font><font size = 1, color=gray> I'm </font><font size = 1, color=blue> still </font><font size = 1, color=red> wondering </font><font size = 1, color=red> what </font><font size = 1, color=gray> the </font><font size = 1, color=red> heck </font><font size = 1, color=blue> Bill </font><font size = 2, color=blue> Paxton </font><font size = 1, color=red> was </font><font size = 1, color=red> doing </font><font size = 1, color=blue> in </font><font size = 1, color=gray> this </font><font size = 1, color=gray> film? </font><font size = 1, color=gray> And </font><font size = 1, color=gray> why </font><font size = 1, color=gray> the </font><font size = 1, color=gray> heck </font><font size = 1, color=blue> does </font><font size = 1, color=blue> he </font><font size = 2, color=blue> always </font><font size = 1, color=blue> play </font><font size = 1, color=gray> the </font><font size = 1, color=red> exact </font><font size = 1, color=gray> same </font><font size = 1, color=blue> character? </font><font size = 1, color=blue> From </font><font size = 2, color=red> Aliens </font><font size = 1, color=blue> onward, </font><font size = 1, color=red> every </font><font size = 1, color=gray> film </font><font size = 1, color=red> I've </font><font size = 1, color=blue> seen </font><font size = 1, color=gray> with </font><font size = 1, color=gray> Bill </font><font size = 1, color=gray> Paxton </font><font size = 1, color=blue> has </font><font size = 1, color=blue> him </font><font size = 1, color=blue> playing </font><font size = 1, color=gray> the </font><font size = 1, color=gray> exact </font><font size = 1, color=gray> same </font><font size = 3, color=red> irritating </font><font size = 1, color=gray> character, </font><font size = 1, color=gray> and </font><font size = 1, color=gray> at </font><font size = 2, color=red> least </font><font size = 1, color=gray> in </font><font size = 1, color=gray> Aliens </font><font size = 1, color=blue> his </font><font size = 1, color=gray> character </font><font size = 1, color=blue> died, </font><font size = 1, color=blue> which </font><font size = 1, color=red> made </font><font size = 1, color=red> it </font><font size = 1, color=blue> somewhat </font><font size = 3, color=blue> gratifying...<br </font><font size = 1, color=red> /><br </font><font size = 1, color=blue> />Overall, </font><font size = 1, color=gray> this </font><font size = 1, color=gray> is </font><font size = 1, color=blue> second-rate </font><font size = 1, color=gray> action </font><font size = 3, color=red> trash. </font><font size = 1, color=gray> There </font><font size = 1, color=gray> are </font><font size = 1, color=red> countless </font><font size = 1, color=red> better </font><font size = 1, color=gray> films </font><font size = 1, color=red> to </font><font size = 1, color=gray> see, </font><font size = 1, color=gray> and </font><font size = 1, color=red> if </font><font size = 1, color=red> you </font><font size = 1, color=gray> really </font><font size = 1, color=red> want </font><font size = 1, color=gray> to </font><font size = 1, color=gray> see </font><font size = 1, color=gray> this </font><font size = 1, color=gray> one, </font><font size = 1, color=gray> watch </font><font size = 1, color=red> Judgement </font><font size = 1, color=blue> Night, </font><font size = 1, color=gray> which </font><font size = 1, color=gray> is </font><font size = 1, color=red> practically </font><font size = 1, color=gray> a </font><font size = 1, color=red> carbon </font><font size = 1, color=blue> copy </font><font size = 1, color=red> but </font><font size = 1, color=gray> has </font><font size = 1, color=gray> better </font><font size = 1, color=gray> acting </font><font size = 1, color=gray> and </font><font size = 1, color=gray> a </font><font size = 1, color=gray> better </font><font size = 2, color=red> script. </font><font size = 1, color=gray> The </font><font size = 1, color=red> only </font><font size = 1, color=red> thing </font><font size = 1, color=gray> that </font><font size = 1, color=gray> made </font><font size = 1, color=gray> this </font><font size = 1, color=gray> at </font><font size = 1, color=red> all </font><font size = 1, color=gray> worth </font><font size = 1, color=gray> watching </font><font size = 1, color=gray> was </font><font size = 1, color=gray> a </font><font size = 2, color=red> decent </font><font size = 1, color=red> hand </font><font size = 1, color=red> on </font><font size = 1, color=gray> the </font><font size = 1, color=red> camera </font><font size = 1, color=gray> - </font><font size = 1, color=gray> the </font><font size = 1, color=blue> cinematography </font><font size = 1, color=gray> was </font><font size = 1, color=red> almost </font><font size = 4, color=blue> refreshing, </font><font size = 1, color=gray> which </font><font size = 1, color=blue> comes </font><font size = 1, color=blue> close </font><font size = 1, color=gray> to </font><font size = 1, color=red> making </font><font size = 1, color=red> up </font><font size = 1, color=gray> for </font><font size = 1, color=gray> the </font><font size = 4, color=red> horrible </font><font size = 1, color=gray> film </font><font size = 1, color=red> itself </font><font size = 1, color=gray> - </font><font size = 1, color=gray> but </font><font size = 1, color=red> not </font><font size = 1, color=blue> quite. </font><font size = 1, color=blue> 4/10. </font>"
      ],
      "text/plain": [
       "<coloredweighteddoc.ColoredWeightedDoc at 0x22a6d06b5c0>"
      ]
     },
     "metadata": {},
     "output_type": "display_data"
    }
   ],
   "source": [
    "display.display(ColoredWeightedDoc(test_corpus[j], words, mnb_weights, binary = True))"
   ]
  },
  {
   "cell_type": "markdown",
   "metadata": {},
   "source": [
    "## The effect of C and penalty"
   ]
  },
  {
   "cell_type": "code",
   "execution_count": 510,
   "metadata": {
    "collapsed": false
   },
   "outputs": [
    {
     "name": "stdout",
     "output_type": "stream",
     "text": [
      "0.77432\n",
      "[[ 0.80401571  0.19598429]]\n"
     ]
    },
    {
     "data": {
      "text/html": [
       "<font size = 1, color=gray> This </font><font size = 1, color=blue> is </font><font size = 1, color=gray> an </font><font size = 1, color=gray> example </font><font size = 1, color=gray> of </font><font size = 1, color=red> why </font><font size = 1, color=gray> the </font><font size = 1, color=gray> majority </font><font size = 1, color=gray> of </font><font size = 1, color=gray> action </font><font size = 1, color=gray> films </font><font size = 1, color=gray> are </font><font size = 1, color=gray> the </font><font size = 1, color=gray> same. </font><font size = 1, color=gray> Generic </font><font size = 1, color=gray> and </font><font size = 3, color=red> boring, </font><font size = 1, color=red> there's </font><font size = 1, color=gray> really </font><font size = 3, color=red> nothing </font><font size = 1, color=gray> worth </font><font size = 1, color=gray> watching </font><font size = 1, color=gray> here. </font><font size = 1, color=gray> A </font><font size = 1, color=gray> complete </font><font size = 5, color=red> waste </font><font size = 1, color=gray> of </font><font size = 1, color=gray> the </font><font size = 1, color=gray> then </font><font size = 1, color=gray> barely-tapped </font><font size = 1, color=gray> talents </font><font size = 1, color=gray> of </font><font size = 1, color=gray> Ice-T </font><font size = 1, color=gray> and </font><font size = 1, color=gray> Ice </font><font size = 1, color=gray> Cube, </font><font size = 1, color=gray> who've </font><font size = 1, color=gray> each </font><font size = 1, color=gray> proven </font><font size = 1, color=blue> many </font><font size = 1, color=gray> times </font><font size = 1, color=gray> over </font><font size = 1, color=gray> that </font><font size = 1, color=red> they </font><font size = 1, color=gray> are </font><font size = 1, color=gray> capable </font><font size = 1, color=gray> of </font><font size = 1, color=red> acting, </font><font size = 1, color=gray> and </font><font size = 1, color=gray> acting </font><font size = 2, color=blue> well. </font><font size = 1, color=red> Don't </font><font size = 1, color=gray> bother </font><font size = 1, color=gray> with </font><font size = 1, color=gray> this </font><font size = 1, color=gray> one, </font><font size = 1, color=gray> go </font><font size = 1, color=blue> see </font><font size = 1, color=gray> New </font><font size = 1, color=gray> Jack </font><font size = 1, color=gray> City, </font><font size = 1, color=gray> Ricochet </font><font size = 1, color=red> or </font><font size = 1, color=gray> watch </font><font size = 1, color=gray> New </font><font size = 1, color=gray> York </font><font size = 1, color=gray> Undercover </font><font size = 1, color=gray> for </font><font size = 1, color=gray> Ice-T, </font><font size = 1, color=gray> or </font><font size = 1, color=gray> Boyz </font><font size = 1, color=gray> n </font><font size = 1, color=gray> the </font><font size = 1, color=gray> Hood, </font><font size = 1, color=gray> Higher </font><font size = 1, color=gray> Learning </font><font size = 1, color=gray> or </font><font size = 1, color=gray> Friday </font><font size = 1, color=gray> for </font><font size = 1, color=gray> Ice </font><font size = 1, color=gray> Cube </font><font size = 1, color=gray> and </font><font size = 1, color=gray> see </font><font size = 1, color=gray> the </font><font size = 1, color=gray> real </font><font size = 1, color=gray> deal. </font><font size = 1, color=gray> Ice-T's </font><font size = 1, color=gray> horribly </font><font size = 1, color=gray> cliched </font><font size = 1, color=gray> dialogue </font><font size = 1, color=gray> alone </font><font size = 1, color=blue> makes </font><font size = 1, color=gray> this </font><font size = 1, color=gray> film </font><font size = 1, color=gray> grate </font><font size = 1, color=gray> at </font><font size = 1, color=gray> the </font><font size = 1, color=gray> teeth, </font><font size = 1, color=gray> and </font><font size = 1, color=gray> I'm </font><font size = 1, color=blue> still </font><font size = 1, color=gray> wondering </font><font size = 1, color=gray> what </font><font size = 1, color=gray> the </font><font size = 1, color=gray> heck </font><font size = 1, color=gray> Bill </font><font size = 1, color=gray> Paxton </font><font size = 1, color=gray> was </font><font size = 1, color=gray> doing </font><font size = 1, color=gray> in </font><font size = 1, color=gray> this </font><font size = 1, color=gray> film? </font><font size = 1, color=gray> And </font><font size = 1, color=gray> why </font><font size = 1, color=gray> the </font><font size = 1, color=gray> heck </font><font size = 1, color=gray> does </font><font size = 1, color=gray> he </font><font size = 1, color=blue> always </font><font size = 1, color=gray> play </font><font size = 1, color=gray> the </font><font size = 1, color=gray> exact </font><font size = 1, color=gray> same </font><font size = 1, color=gray> character? </font><font size = 1, color=gray> From </font><font size = 1, color=gray> Aliens </font><font size = 1, color=gray> onward, </font><font size = 1, color=gray> every </font><font size = 1, color=gray> film </font><font size = 1, color=gray> I've </font><font size = 1, color=blue> seen </font><font size = 1, color=gray> with </font><font size = 1, color=gray> Bill </font><font size = 1, color=gray> Paxton </font><font size = 1, color=blue> has </font><font size = 1, color=gray> him </font><font size = 1, color=gray> playing </font><font size = 1, color=gray> the </font><font size = 1, color=gray> exact </font><font size = 1, color=gray> same </font><font size = 1, color=gray> irritating </font><font size = 1, color=gray> character, </font><font size = 1, color=gray> and </font><font size = 1, color=gray> at </font><font size = 1, color=red> least </font><font size = 1, color=gray> in </font><font size = 1, color=gray> Aliens </font><font size = 1, color=blue> his </font><font size = 1, color=gray> character </font><font size = 1, color=gray> died, </font><font size = 1, color=gray> which </font><font size = 1, color=gray> made </font><font size = 1, color=gray> it </font><font size = 1, color=gray> somewhat </font><font size = 1, color=gray> gratifying...<br </font><font size = 1, color=gray> /><br </font><font size = 1, color=gray> />Overall, </font><font size = 1, color=gray> this </font><font size = 1, color=gray> is </font><font size = 1, color=gray> second-rate </font><font size = 1, color=gray> action </font><font size = 1, color=gray> trash. </font><font size = 1, color=gray> There </font><font size = 1, color=gray> are </font><font size = 1, color=gray> countless </font><font size = 1, color=red> better </font><font size = 1, color=gray> films </font><font size = 1, color=gray> to </font><font size = 1, color=gray> see, </font><font size = 1, color=gray> and </font><font size = 1, color=red> if </font><font size = 1, color=gray> you </font><font size = 1, color=gray> really </font><font size = 1, color=gray> want </font><font size = 1, color=gray> to </font><font size = 1, color=gray> see </font><font size = 1, color=gray> this </font><font size = 1, color=gray> one, </font><font size = 1, color=gray> watch </font><font size = 1, color=gray> Judgement </font><font size = 1, color=gray> Night, </font><font size = 1, color=gray> which </font><font size = 1, color=gray> is </font><font size = 1, color=gray> practically </font><font size = 1, color=gray> a </font><font size = 1, color=gray> carbon </font><font size = 1, color=gray> copy </font><font size = 1, color=gray> but </font><font size = 1, color=gray> has </font><font size = 1, color=gray> better </font><font size = 1, color=gray> acting </font><font size = 1, color=gray> and </font><font size = 1, color=gray> a </font><font size = 1, color=gray> better </font><font size = 2, color=red> script. </font><font size = 1, color=gray> The </font><font size = 1, color=red> only </font><font size = 1, color=red> thing </font><font size = 1, color=gray> that </font><font size = 1, color=gray> made </font><font size = 1, color=gray> this </font><font size = 1, color=gray> at </font><font size = 1, color=gray> all </font><font size = 1, color=gray> worth </font><font size = 1, color=gray> watching </font><font size = 1, color=gray> was </font><font size = 1, color=gray> a </font><font size = 1, color=gray> decent </font><font size = 1, color=gray> hand </font><font size = 1, color=gray> on </font><font size = 1, color=gray> the </font><font size = 1, color=gray> camera </font><font size = 1, color=gray> - </font><font size = 1, color=gray> the </font><font size = 1, color=gray> cinematography </font><font size = 1, color=gray> was </font><font size = 1, color=gray> almost </font><font size = 1, color=gray> refreshing, </font><font size = 1, color=gray> which </font><font size = 1, color=gray> comes </font><font size = 1, color=gray> close </font><font size = 1, color=gray> to </font><font size = 1, color=gray> making </font><font size = 1, color=gray> up </font><font size = 1, color=gray> for </font><font size = 1, color=gray> the </font><font size = 1, color=gray> horrible </font><font size = 1, color=gray> film </font><font size = 1, color=gray> itself </font><font size = 1, color=gray> - </font><font size = 1, color=gray> but </font><font size = 1, color=gray> not </font><font size = 1, color=gray> quite. </font><font size = 1, color=gray> 4/10. </font>"
      ],
      "text/plain": [
       "<coloredweighteddoc.ColoredWeightedDoc at 0x22a6d06b710>"
      ]
     },
     "metadata": {},
     "output_type": "display_data"
    }
   ],
   "source": [
    "c=0.005\n",
    "p='l1'\n",
    "lr = LogisticRegression(penalty=p, C=c)\n",
    "lr.fit(X_train, y_train)\n",
    "print(lr.score(X_test, y_test))\n",
    "print(lr.predict_proba(X_test[to]))\n",
    "display.display(ColoredWeightedDoc(test_corpus[to], words, lr.coef_[0], binary = True))"
   ]
  },
  {
   "cell_type": "code",
   "execution_count": 71,
   "metadata": {
    "collapsed": false
   },
   "outputs": [
    {
     "name": "stdout",
     "output_type": "stream",
     "text": [
      "0.8536\n",
      "[[  9.99712586e-01   2.87413721e-04]]\n"
     ]
    },
    {
     "data": {
      "text/html": [
       "<font size = 1, color=red> This </font><font size = 1, color=blue> is </font><font size = 1, color=red> an </font><font size = 1, color=red> example </font><font size = 1, color=red> of </font><font size = 1, color=blue> why </font><font size = 1, color=blue> the </font><font size = 2, color=red> majority </font><font size = 1, color=gray> of </font><font size = 1, color=blue> action </font><font size = 1, color=blue> films </font><font size = 1, color=blue> are </font><font size = 1, color=gray> the </font><font size = 1, color=red> same. </font><font size = 1, color=red> Generic </font><font size = 1, color=blue> and </font><font size = 5, color=red> boring, </font><font size = 1, color=red> there's </font><font size = 1, color=blue> really </font><font size = 3, color=red> nothing </font><font size = 2, color=blue> worth </font><font size = 1, color=blue> watching </font><font size = 2, color=red> here. </font><font size = 1, color=gray> A </font><font size = 2, color=red> complete </font><font size = 6, color=red> waste </font><font size = 1, color=gray> of </font><font size = 1, color=gray> the </font><font size = 1, color=red> then </font><font size = 3, color=red> barely-tapped </font><font size = 3, color=red> talents </font><font size = 1, color=gray> of </font><font size = 1, color=blue> Ice-T </font><font size = 1, color=gray> and </font><font size = 1, color=gray> Ice </font><font size = 2, color=blue> Cube, </font><font size = 1, color=blue> who've </font><font size = 2, color=blue> each </font><font size = 1, color=blue> proven </font><font size = 1, color=blue> many </font><font size = 1, color=blue> times </font><font size = 1, color=blue> over </font><font size = 1, color=blue> that </font><font size = 1, color=red> they </font><font size = 1, color=gray> are </font><font size = 2, color=blue> capable </font><font size = 1, color=gray> of </font><font size = 1, color=red> acting, </font><font size = 1, color=gray> and </font><font size = 1, color=gray> acting </font><font size = 2, color=blue> well. </font><font size = 1, color=red> Don't </font><font size = 1, color=red> bother </font><font size = 1, color=blue> with </font><font size = 1, color=gray> this </font><font size = 1, color=red> one, </font><font size = 1, color=blue> go </font><font size = 1, color=blue> see </font><font size = 1, color=blue> New </font><font size = 3, color=blue> Jack </font><font size = 1, color=blue> City, </font><font size = 1, color=red> Ricochet </font><font size = 1, color=red> or </font><font size = 1, color=blue> watch </font><font size = 1, color=gray> New </font><font size = 1, color=red> York </font><font size = 2, color=blue> Undercover </font><font size = 1, color=blue> for </font><font size = 1, color=gray> Ice-T, </font><font size = 1, color=gray> or </font><font size = 1, color=blue> Boyz </font><font size = 1, color=gray> n </font><font size = 1, color=gray> the </font><font size = 2, color=blue> Hood, </font><font size = 2, color=blue> Higher </font><font size = 3, color=red> Learning </font><font size = 1, color=gray> or </font><font size = 1, color=red> Friday </font><font size = 1, color=gray> for </font><font size = 1, color=gray> Ice </font><font size = 1, color=gray> Cube </font><font size = 1, color=gray> and </font><font size = 1, color=gray> see </font><font size = 1, color=gray> the </font><font size = 1, color=blue> real </font><font size = 2, color=blue> deal. </font><font size = 1, color=gray> Ice-T's </font><font size = 1, color=blue> horribly </font><font size = 2, color=red> cliched </font><font size = 2, color=red> dialogue </font><font size = 1, color=red> alone </font><font size = 2, color=blue> makes </font><font size = 1, color=gray> this </font><font size = 1, color=blue> film </font><font size = 1, color=red> grate </font><font size = 1, color=red> at </font><font size = 1, color=gray> the </font><font size = 2, color=red> teeth, </font><font size = 1, color=gray> and </font><font size = 1, color=gray> I'm </font><font size = 2, color=blue> still </font><font size = 1, color=blue> wondering </font><font size = 1, color=blue> what </font><font size = 1, color=gray> the </font><font size = 1, color=blue> heck </font><font size = 2, color=blue> Bill </font><font size = 2, color=blue> Paxton </font><font size = 1, color=red> was </font><font size = 1, color=red> doing </font><font size = 1, color=blue> in </font><font size = 1, color=gray> this </font><font size = 1, color=gray> film? </font><font size = 1, color=gray> And </font><font size = 1, color=gray> why </font><font size = 1, color=gray> the </font><font size = 1, color=gray> heck </font><font size = 1, color=red> does </font><font size = 1, color=red> he </font><font size = 1, color=blue> always </font><font size = 1, color=red> play </font><font size = 1, color=gray> the </font><font size = 2, color=red> exact </font><font size = 1, color=gray> same </font><font size = 1, color=blue> character? </font><font size = 1, color=red> From </font><font size = 2, color=red> Aliens </font><font size = 1, color=blue> onward, </font><font size = 1, color=red> every </font><font size = 1, color=gray> film </font><font size = 1, color=blue> I've </font><font size = 1, color=blue> seen </font><font size = 1, color=gray> with </font><font size = 1, color=gray> Bill </font><font size = 1, color=gray> Paxton </font><font size = 1, color=blue> has </font><font size = 1, color=blue> him </font><font size = 2, color=red> playing </font><font size = 1, color=gray> the </font><font size = 1, color=gray> exact </font><font size = 1, color=gray> same </font><font size = 2, color=red> irritating </font><font size = 1, color=gray> character, </font><font size = 1, color=gray> and </font><font size = 1, color=gray> at </font><font size = 1, color=red> least </font><font size = 1, color=gray> in </font><font size = 1, color=gray> Aliens </font><font size = 1, color=blue> his </font><font size = 1, color=gray> character </font><font size = 1, color=red> died, </font><font size = 1, color=red> which </font><font size = 1, color=red> made </font><font size = 1, color=blue> it </font><font size = 2, color=blue> somewhat </font><font size = 1, color=blue> gratifying...<br </font><font size = 1, color=red> /><br </font><font size = 2, color=blue> />Overall, </font><font size = 1, color=gray> this </font><font size = 1, color=gray> is </font><font size = 1, color=blue> second-rate </font><font size = 1, color=gray> action </font><font size = 1, color=red> trash. </font><font size = 1, color=gray> There </font><font size = 1, color=gray> are </font><font size = 1, color=blue> countless </font><font size = 1, color=red> better </font><font size = 1, color=gray> films </font><font size = 1, color=red> to </font><font size = 1, color=gray> see, </font><font size = 1, color=gray> and </font><font size = 1, color=red> if </font><font size = 1, color=blue> you </font><font size = 1, color=gray> really </font><font size = 1, color=red> want </font><font size = 1, color=gray> to </font><font size = 1, color=gray> see </font><font size = 1, color=gray> this </font><font size = 1, color=gray> one, </font><font size = 1, color=gray> watch </font><font size = 2, color=blue> Judgement </font><font size = 1, color=blue> Night, </font><font size = 1, color=gray> which </font><font size = 1, color=gray> is </font><font size = 2, color=blue> practically </font><font size = 1, color=gray> a </font><font size = 1, color=blue> carbon </font><font size = 1, color=blue> copy </font><font size = 1, color=red> but </font><font size = 1, color=gray> has </font><font size = 1, color=gray> better </font><font size = 1, color=gray> acting </font><font size = 1, color=gray> and </font><font size = 1, color=gray> a </font><font size = 1, color=gray> better </font><font size = 2, color=red> script. </font><font size = 1, color=gray> The </font><font size = 1, color=red> only </font><font size = 1, color=blue> thing </font><font size = 1, color=gray> that </font><font size = 1, color=gray> made </font><font size = 1, color=gray> this </font><font size = 1, color=gray> at </font><font size = 1, color=blue> all </font><font size = 1, color=gray> worth </font><font size = 1, color=gray> watching </font><font size = 1, color=gray> was </font><font size = 1, color=gray> a </font><font size = 1, color=red> decent </font><font size = 1, color=red> hand </font><font size = 1, color=red> on </font><font size = 1, color=gray> the </font><font size = 1, color=red> camera </font><font size = 1, color=gray> - </font><font size = 1, color=gray> the </font><font size = 2, color=red> cinematography </font><font size = 1, color=gray> was </font><font size = 1, color=blue> almost </font><font size = 6, color=blue> refreshing, </font><font size = 1, color=gray> which </font><font size = 1, color=red> comes </font><font size = 2, color=blue> close </font><font size = 1, color=gray> to </font><font size = 2, color=red> making </font><font size = 1, color=blue> up </font><font size = 1, color=gray> for </font><font size = 1, color=gray> the </font><font size = 5, color=red> horrible </font><font size = 1, color=gray> film </font><font size = 1, color=red> itself </font><font size = 1, color=gray> - </font><font size = 1, color=gray> but </font><font size = 2, color=red> not </font><font size = 2, color=blue> quite. </font><font size = 1, color=blue> 4/10. </font>"
      ],
      "text/plain": [
       "<coloredweighteddoc.ColoredWeightedDoc at 0x22a6d047f28>"
      ]
     },
     "metadata": {},
     "output_type": "display_data"
    }
   ],
   "source": [
    "c=100\n",
    "p='l2'\n",
    "lr = LogisticRegression(penalty=p, C=c)\n",
    "lr.fit(X_train, y_train)\n",
    "print(lr.score(X_test, y_test))\n",
    "print(lr.predict_proba(X_test[to]))\n",
    "display.display(ColoredWeightedDoc(test_corpus[to], words, lr.coef_[0], binary = True))"
   ]
  },
  {
   "cell_type": "code",
   "execution_count": 70,
   "metadata": {
    "collapsed": false
   },
   "outputs": [
    {
     "name": "stdout",
     "output_type": "stream",
     "text": [
      "0.87644\n",
      "[[ 0.90645679  0.09354321]]\n"
     ]
    },
    {
     "data": {
      "text/html": [
       "<font size = 1, color=red> This </font><font size = 1, color=blue> is </font><font size = 1, color=red> an </font><font size = 1, color=red> example </font><font size = 1, color=red> of </font><font size = 2, color=red> why </font><font size = 1, color=blue> the </font><font size = 1, color=red> majority </font><font size = 1, color=gray> of </font><font size = 2, color=blue> action </font><font size = 1, color=blue> films </font><font size = 1, color=blue> are </font><font size = 1, color=gray> the </font><font size = 1, color=red> same. </font><font size = 1, color=red> Generic </font><font size = 1, color=blue> and </font><font size = 5, color=red> boring, </font><font size = 1, color=red> there's </font><font size = 1, color=blue> really </font><font size = 4, color=red> nothing </font><font size = 2, color=blue> worth </font><font size = 1, color=red> watching </font><font size = 1, color=red> here. </font><font size = 1, color=gray> A </font><font size = 1, color=red> complete </font><font size = 6, color=red> waste </font><font size = 1, color=gray> of </font><font size = 1, color=gray> the </font><font size = 1, color=red> then </font><font size = 2, color=red> barely-tapped </font><font size = 1, color=red> talents </font><font size = 1, color=gray> of </font><font size = 1, color=blue> Ice-T </font><font size = 1, color=gray> and </font><font size = 1, color=gray> Ice </font><font size = 1, color=blue> Cube, </font><font size = 1, color=blue> who've </font><font size = 2, color=blue> each </font><font size = 1, color=red> proven </font><font size = 1, color=blue> many </font><font size = 2, color=blue> times </font><font size = 1, color=red> over </font><font size = 1, color=red> that </font><font size = 1, color=red> they </font><font size = 1, color=gray> are </font><font size = 1, color=red> capable </font><font size = 1, color=gray> of </font><font size = 2, color=red> acting, </font><font size = 1, color=gray> and </font><font size = 1, color=gray> acting </font><font size = 2, color=blue> well. </font><font size = 2, color=red> Don't </font><font size = 1, color=red> bother </font><font size = 1, color=blue> with </font><font size = 1, color=gray> this </font><font size = 1, color=blue> one, </font><font size = 1, color=red> go </font><font size = 2, color=blue> see </font><font size = 1, color=blue> New </font><font size = 2, color=blue> Jack </font><font size = 1, color=blue> City, </font><font size = 1, color=red> Ricochet </font><font size = 1, color=red> or </font><font size = 1, color=blue> watch </font><font size = 1, color=gray> New </font><font size = 1, color=blue> York </font><font size = 1, color=blue> Undercover </font><font size = 1, color=red> for </font><font size = 1, color=gray> Ice-T, </font><font size = 1, color=gray> or </font><font size = 1, color=blue> Boyz </font><font size = 1, color=gray> n </font><font size = 1, color=gray> the </font><font size = 1, color=blue> Hood, </font><font size = 1, color=blue> Higher </font><font size = 1, color=red> Learning </font><font size = 1, color=gray> or </font><font size = 1, color=red> Friday </font><font size = 1, color=gray> for </font><font size = 1, color=gray> Ice </font><font size = 1, color=gray> Cube </font><font size = 1, color=gray> and </font><font size = 1, color=gray> see </font><font size = 1, color=gray> the </font><font size = 1, color=blue> real </font><font size = 1, color=blue> deal. </font><font size = 1, color=gray> Ice-T's </font><font size = 1, color=red> horribly </font><font size = 1, color=red> cliched </font><font size = 1, color=red> dialogue </font><font size = 1, color=blue> alone </font><font size = 2, color=blue> makes </font><font size = 1, color=gray> this </font><font size = 1, color=blue> film </font><font size = 1, color=red> grate </font><font size = 1, color=red> at </font><font size = 1, color=gray> the </font><font size = 1, color=red> teeth, </font><font size = 1, color=gray> and </font><font size = 1, color=gray> I'm </font><font size = 2, color=blue> still </font><font size = 1, color=red> wondering </font><font size = 1, color=blue> what </font><font size = 1, color=gray> the </font><font size = 1, color=blue> heck </font><font size = 1, color=blue> Bill </font><font size = 1, color=blue> Paxton </font><font size = 2, color=red> was </font><font size = 1, color=red> doing </font><font size = 1, color=blue> in </font><font size = 1, color=gray> this </font><font size = 1, color=gray> film? </font><font size = 1, color=gray> And </font><font size = 1, color=gray> why </font><font size = 1, color=gray> the </font><font size = 1, color=gray> heck </font><font size = 1, color=red> does </font><font size = 1, color=red> he </font><font size = 2, color=blue> always </font><font size = 1, color=red> play </font><font size = 1, color=gray> the </font><font size = 1, color=red> exact </font><font size = 1, color=gray> same </font><font size = 1, color=red> character? </font><font size = 1, color=red> From </font><font size = 1, color=red> Aliens </font><font size = 1, color=red> onward, </font><font size = 1, color=red> every </font><font size = 1, color=gray> film </font><font size = 1, color=blue> I've </font><font size = 2, color=blue> seen </font><font size = 1, color=gray> with </font><font size = 1, color=gray> Bill </font><font size = 1, color=gray> Paxton </font><font size = 1, color=blue> has </font><font size = 1, color=blue> him </font><font size = 1, color=red> playing </font><font size = 1, color=gray> the </font><font size = 1, color=gray> exact </font><font size = 1, color=gray> same </font><font size = 1, color=red> irritating </font><font size = 1, color=gray> character, </font><font size = 1, color=gray> and </font><font size = 1, color=gray> at </font><font size = 2, color=red> least </font><font size = 1, color=gray> in </font><font size = 1, color=gray> Aliens </font><font size = 1, color=blue> his </font><font size = 1, color=gray> character </font><font size = 1, color=blue> died, </font><font size = 1, color=red> which </font><font size = 1, color=red> made </font><font size = 2, color=blue> it </font><font size = 1, color=blue> somewhat </font><font size = 1, color=blue> gratifying...<br </font><font size = 1, color=red> /><br </font><font size = 2, color=blue> />Overall, </font><font size = 1, color=gray> this </font><font size = 1, color=gray> is </font><font size = 1, color=red> second-rate </font><font size = 1, color=gray> action </font><font size = 1, color=red> trash. </font><font size = 1, color=gray> There </font><font size = 1, color=gray> are </font><font size = 1, color=blue> countless </font><font size = 2, color=red> better </font><font size = 1, color=gray> films </font><font size = 1, color=red> to </font><font size = 1, color=gray> see, </font><font size = 1, color=gray> and </font><font size = 1, color=red> if </font><font size = 2, color=blue> you </font><font size = 1, color=gray> really </font><font size = 1, color=red> want </font><font size = 1, color=gray> to </font><font size = 1, color=gray> see </font><font size = 1, color=gray> this </font><font size = 1, color=gray> one, </font><font size = 1, color=gray> watch </font><font size = 1, color=blue> Judgement </font><font size = 1, color=blue> Night, </font><font size = 1, color=gray> which </font><font size = 1, color=gray> is </font><font size = 1, color=red> practically </font><font size = 1, color=gray> a </font><font size = 1, color=red> carbon </font><font size = 1, color=blue> copy </font><font size = 1, color=red> but </font><font size = 1, color=gray> has </font><font size = 1, color=gray> better </font><font size = 1, color=gray> acting </font><font size = 1, color=gray> and </font><font size = 1, color=gray> a </font><font size = 1, color=gray> better </font><font size = 3, color=red> script. </font><font size = 1, color=gray> The </font><font size = 2, color=red> only </font><font size = 1, color=red> thing </font><font size = 1, color=gray> that </font><font size = 1, color=gray> made </font><font size = 1, color=gray> this </font><font size = 1, color=gray> at </font><font size = 1, color=blue> all </font><font size = 1, color=gray> worth </font><font size = 1, color=gray> watching </font><font size = 1, color=gray> was </font><font size = 1, color=gray> a </font><font size = 2, color=red> decent </font><font size = 1, color=red> hand </font><font size = 1, color=red> on </font><font size = 1, color=gray> the </font><font size = 1, color=red> camera </font><font size = 1, color=gray> - </font><font size = 1, color=gray> the </font><font size = 1, color=red> cinematography </font><font size = 1, color=gray> was </font><font size = 1, color=blue> almost </font><font size = 2, color=blue> refreshing, </font><font size = 1, color=gray> which </font><font size = 1, color=red> comes </font><font size = 1, color=blue> close </font><font size = 1, color=gray> to </font><font size = 1, color=red> making </font><font size = 1, color=red> up </font><font size = 1, color=gray> for </font><font size = 1, color=gray> the </font><font size = 3, color=red> horrible </font><font size = 1, color=gray> film </font><font size = 1, color=red> itself </font><font size = 1, color=gray> - </font><font size = 1, color=gray> but </font><font size = 2, color=red> not </font><font size = 1, color=blue> quite. </font><font size = 1, color=blue> 4/10. </font>"
      ],
      "text/plain": [
       "<coloredweighteddoc.ColoredWeightedDoc at 0x22a6d047048>"
      ]
     },
     "metadata": {},
     "output_type": "display_data"
    }
   ],
   "source": [
    "c=0.01\n",
    "p='l2'\n",
    "lr = LogisticRegression(penalty=p, C=c)\n",
    "lr.fit(X_train, y_train)\n",
    "print(lr.score(X_test, y_test))\n",
    "print(lr.predict_proba(X_test[to]))\n",
    "display.display(ColoredWeightedDoc(test_corpus[to], words, lr.coef_[0], binary = True))"
   ]
  },
  {
   "cell_type": "code",
   "execution_count": 74,
   "metadata": {
    "collapsed": false
   },
   "outputs": [
    {
     "name": "stdout",
     "output_type": "stream",
     "text": [
      "0.7488\n",
      "[[ 0.50974154  0.49025846]]\n"
     ]
    },
    {
     "data": {
      "text/html": [
       "<font size = 1, color=red> This </font><font size = 2, color=blue> is </font><font size = 1, color=blue> an </font><font size = 1, color=red> example </font><font size = 1, color=blue> of </font><font size = 3, color=red> why </font><font size = 1, color=blue> the </font><font size = 1, color=blue> majority </font><font size = 1, color=gray> of </font><font size = 1, color=blue> action </font><font size = 2, color=blue> films </font><font size = 1, color=blue> are </font><font size = 1, color=gray> the </font><font size = 1, color=red> same. </font><font size = 1, color=red> Generic </font><font size = 1, color=blue> and </font><font size = 3, color=red> boring, </font><font size = 3, color=red> there's </font><font size = 1, color=red> really </font><font size = 3, color=red> nothing </font><font size = 1, color=blue> worth </font><font size = 2, color=red> watching </font><font size = 1, color=red> here. </font><font size = 1, color=gray> A </font><font size = 1, color=red> complete </font><font size = 3, color=red> waste </font><font size = 1, color=gray> of </font><font size = 1, color=gray> the </font><font size = 2, color=red> then </font><font size = 1, color=red> barely-tapped </font><font size = 1, color=red> talents </font><font size = 1, color=gray> of </font><font size = 1, color=blue> Ice-T </font><font size = 1, color=gray> and </font><font size = 1, color=gray> Ice </font><font size = 1, color=blue> Cube, </font><font size = 2, color=blue> who've </font><font size = 2, color=blue> each </font><font size = 1, color=red> proven </font><font size = 2, color=blue> many </font><font size = 1, color=blue> times </font><font size = 1, color=red> over </font><font size = 1, color=red> that </font><font size = 3, color=red> they </font><font size = 1, color=gray> are </font><font size = 1, color=blue> capable </font><font size = 1, color=gray> of </font><font size = 3, color=red> acting, </font><font size = 1, color=gray> and </font><font size = 1, color=gray> acting </font><font size = 3, color=blue> well. </font><font size = 3, color=red> Don't </font><font size = 1, color=red> bother </font><font size = 1, color=blue> with </font><font size = 1, color=gray> this </font><font size = 1, color=blue> one, </font><font size = 1, color=red> go </font><font size = 2, color=blue> see </font><font size = 2, color=blue> New </font><font size = 1, color=blue> Jack </font><font size = 1, color=blue> City, </font><font size = 1, color=red> Ricochet </font><font size = 3, color=red> or </font><font size = 1, color=red> watch </font><font size = 1, color=gray> New </font><font size = 1, color=blue> York </font><font size = 1, color=blue> Undercover </font><font size = 1, color=blue> for </font><font size = 1, color=gray> Ice-T, </font><font size = 1, color=gray> or </font><font size = 1, color=blue> Boyz </font><font size = 1, color=gray> n </font><font size = 1, color=gray> the </font><font size = 1, color=red> Hood, </font><font size = 1, color=blue> Higher </font><font size = 1, color=blue> Learning </font><font size = 1, color=gray> or </font><font size = 1, color=red> Friday </font><font size = 1, color=gray> for </font><font size = 1, color=gray> Ice </font><font size = 1, color=gray> Cube </font><font size = 1, color=gray> and </font><font size = 1, color=gray> see </font><font size = 1, color=gray> the </font><font size = 1, color=blue> real </font><font size = 1, color=blue> deal. </font><font size = 1, color=gray> Ice-T's </font><font size = 1, color=red> horribly </font><font size = 1, color=red> cliched </font><font size = 1, color=red> dialogue </font><font size = 1, color=blue> alone </font><font size = 2, color=blue> makes </font><font size = 1, color=gray> this </font><font size = 1, color=blue> film </font><font size = 1, color=red> grate </font><font size = 1, color=red> at </font><font size = 1, color=gray> the </font><font size = 1, color=red> teeth, </font><font size = 1, color=gray> and </font><font size = 1, color=gray> I'm </font><font size = 2, color=blue> still </font><font size = 1, color=red> wondering </font><font size = 2, color=red> what </font><font size = 1, color=gray> the </font><font size = 1, color=red> heck </font><font size = 1, color=blue> Bill </font><font size = 1, color=blue> Paxton </font><font size = 2, color=red> was </font><font size = 1, color=red> doing </font><font size = 1, color=blue> in </font><font size = 1, color=gray> this </font><font size = 1, color=gray> film? </font><font size = 1, color=gray> And </font><font size = 1, color=gray> why </font><font size = 1, color=gray> the </font><font size = 1, color=gray> heck </font><font size = 1, color=blue> does </font><font size = 2, color=blue> he </font><font size = 2, color=blue> always </font><font size = 1, color=blue> play </font><font size = 1, color=gray> the </font><font size = 1, color=red> exact </font><font size = 1, color=gray> same </font><font size = 1, color=blue> character? </font><font size = 1, color=blue> From </font><font size = 1, color=red> Aliens </font><font size = 1, color=blue> onward, </font><font size = 1, color=red> every </font><font size = 1, color=gray> film </font><font size = 1, color=red> I've </font><font size = 1, color=blue> seen </font><font size = 1, color=gray> with </font><font size = 1, color=gray> Bill </font><font size = 1, color=gray> Paxton </font><font size = 2, color=blue> has </font><font size = 2, color=blue> him </font><font size = 1, color=blue> playing </font><font size = 1, color=gray> the </font><font size = 1, color=gray> exact </font><font size = 1, color=gray> same </font><font size = 1, color=red> irritating </font><font size = 1, color=gray> character, </font><font size = 1, color=gray> and </font><font size = 1, color=gray> at </font><font size = 2, color=red> least </font><font size = 1, color=gray> in </font><font size = 1, color=gray> Aliens </font><font size = 3, color=blue> his </font><font size = 1, color=gray> character </font><font size = 1, color=blue> died, </font><font size = 1, color=blue> which </font><font size = 1, color=red> made </font><font size = 1, color=blue> it </font><font size = 1, color=blue> somewhat </font><font size = 1, color=blue> gratifying...<br </font><font size = 1, color=red> /><br </font><font size = 1, color=blue> />Overall, </font><font size = 1, color=gray> this </font><font size = 1, color=gray> is </font><font size = 1, color=blue> second-rate </font><font size = 1, color=gray> action </font><font size = 1, color=red> trash. </font><font size = 1, color=gray> There </font><font size = 1, color=gray> are </font><font size = 1, color=red> countless </font><font size = 2, color=red> better </font><font size = 1, color=gray> films </font><font size = 1, color=red> to </font><font size = 1, color=gray> see, </font><font size = 1, color=gray> and </font><font size = 3, color=red> if </font><font size = 1, color=red> you </font><font size = 1, color=gray> really </font><font size = 2, color=red> want </font><font size = 1, color=gray> to </font><font size = 1, color=gray> see </font><font size = 1, color=gray> this </font><font size = 1, color=gray> one, </font><font size = 1, color=gray> watch </font><font size = 1, color=red> Judgement </font><font size = 1, color=blue> Night, </font><font size = 1, color=gray> which </font><font size = 1, color=gray> is </font><font size = 1, color=red> practically </font><font size = 1, color=gray> a </font><font size = 1, color=red> carbon </font><font size = 1, color=blue> copy </font><font size = 1, color=red> but </font><font size = 1, color=gray> has </font><font size = 1, color=gray> better </font><font size = 1, color=gray> acting </font><font size = 1, color=gray> and </font><font size = 1, color=gray> a </font><font size = 1, color=gray> better </font><font size = 3, color=red> script. </font><font size = 1, color=gray> The </font><font size = 3, color=red> only </font><font size = 3, color=red> thing </font><font size = 1, color=gray> that </font><font size = 1, color=gray> made </font><font size = 1, color=gray> this </font><font size = 1, color=gray> at </font><font size = 1, color=blue> all </font><font size = 1, color=gray> worth </font><font size = 1, color=gray> watching </font><font size = 1, color=gray> was </font><font size = 1, color=gray> a </font><font size = 2, color=red> decent </font><font size = 1, color=red> hand </font><font size = 1, color=red> on </font><font size = 1, color=gray> the </font><font size = 1, color=red> camera </font><font size = 1, color=gray> - </font><font size = 1, color=gray> the </font><font size = 1, color=blue> cinematography </font><font size = 1, color=gray> was </font><font size = 1, color=blue> almost </font><font size = 1, color=blue> refreshing, </font><font size = 1, color=gray> which </font><font size = 1, color=blue> comes </font><font size = 1, color=blue> close </font><font size = 1, color=gray> to </font><font size = 1, color=red> making </font><font size = 1, color=red> up </font><font size = 1, color=gray> for </font><font size = 1, color=gray> the </font><font size = 2, color=red> horrible </font><font size = 1, color=gray> film </font><font size = 1, color=red> itself </font><font size = 1, color=gray> - </font><font size = 1, color=gray> but </font><font size = 2, color=red> not </font><font size = 1, color=blue> quite. </font><font size = 1, color=blue> 4/10. </font>"
      ],
      "text/plain": [
       "<coloredweighteddoc.ColoredWeightedDoc at 0x22a6d027470>"
      ]
     },
     "metadata": {},
     "output_type": "display_data"
    }
   ],
   "source": [
    "c=0.00001\n",
    "p='l2'\n",
    "lr = LogisticRegression(penalty=p, C=c)\n",
    "lr.fit(X_train, y_train)\n",
    "print(lr.score(X_test, y_test))\n",
    "print(lr.predict_proba(X_test[to]))\n",
    "display.display(ColoredWeightedDoc(test_corpus[to], words, lr.coef_[0], binary = True))"
   ]
  },
  {
   "cell_type": "markdown",
   "metadata": {},
   "source": [
    "## The effect of alpha"
   ]
  },
  {
   "cell_type": "code",
   "execution_count": 78,
   "metadata": {
    "collapsed": false
   },
   "outputs": [
    {
     "name": "stdout",
     "output_type": "stream",
     "text": [
      "0.83024\n",
      "[[  9.99999957e-01   4.27687097e-08]]\n"
     ]
    },
    {
     "data": {
      "text/html": [
       "<font size = 1, color=red> This </font><font size = 1, color=blue> is </font><font size = 1, color=blue> an </font><font size = 1, color=red> example </font><font size = 1, color=red> of </font><font size = 1, color=red> why </font><font size = 1, color=red> the </font><font size = 1, color=blue> majority </font><font size = 1, color=gray> of </font><font size = 1, color=blue> action </font><font size = 1, color=blue> films </font><font size = 1, color=blue> are </font><font size = 1, color=gray> the </font><font size = 1, color=red> same. </font><font size = 3, color=red> Generic </font><font size = 1, color=blue> and </font><font size = 3, color=red> boring, </font><font size = 1, color=red> there's </font><font size = 1, color=red> really </font><font size = 2, color=red> nothing </font><font size = 1, color=blue> worth </font><font size = 1, color=red> watching </font><font size = 1, color=red> here. </font><font size = 1, color=gray> A </font><font size = 1, color=red> complete </font><font size = 5, color=red> waste </font><font size = 1, color=gray> of </font><font size = 1, color=gray> the </font><font size = 1, color=red> then </font><font size = 2, color=red> barely-tapped </font><font size = 1, color=red> talents </font><font size = 1, color=gray> of </font><font size = 1, color=blue> Ice-T </font><font size = 1, color=gray> and </font><font size = 1, color=gray> Ice </font><font size = 1, color=blue> Cube, </font><font size = 1, color=blue> who've </font><font size = 1, color=blue> each </font><font size = 1, color=red> proven </font><font size = 1, color=blue> many </font><font size = 1, color=blue> times </font><font size = 1, color=red> over </font><font size = 1, color=red> that </font><font size = 1, color=red> they </font><font size = 1, color=gray> are </font><font size = 1, color=red> capable </font><font size = 1, color=gray> of </font><font size = 1, color=red> acting, </font><font size = 1, color=gray> and </font><font size = 1, color=gray> acting </font><font size = 1, color=blue> well. </font><font size = 1, color=red> Don't </font><font size = 3, color=red> bother </font><font size = 1, color=blue> with </font><font size = 1, color=gray> this </font><font size = 1, color=blue> one, </font><font size = 1, color=red> go </font><font size = 1, color=blue> see </font><font size = 1, color=blue> New </font><font size = 2, color=blue> Jack </font><font size = 2, color=blue> City, </font><font size = 2, color=red> Ricochet </font><font size = 1, color=red> or </font><font size = 1, color=red> watch </font><font size = 1, color=gray> New </font><font size = 2, color=blue> York </font><font size = 1, color=blue> Undercover </font><font size = 1, color=red> for </font><font size = 1, color=gray> Ice-T, </font><font size = 1, color=gray> or </font><font size = 1, color=blue> Boyz </font><font size = 1, color=gray> n </font><font size = 1, color=gray> the </font><font size = 1, color=red> Hood, </font><font size = 1, color=blue> Higher </font><font size = 1, color=blue> Learning </font><font size = 1, color=gray> or </font><font size = 1, color=red> Friday </font><font size = 1, color=gray> for </font><font size = 1, color=gray> Ice </font><font size = 1, color=gray> Cube </font><font size = 1, color=gray> and </font><font size = 1, color=gray> see </font><font size = 1, color=gray> the </font><font size = 1, color=blue> real </font><font size = 1, color=blue> deal. </font><font size = 1, color=gray> Ice-T's </font><font size = 3, color=red> horribly </font><font size = 3, color=red> cliched </font><font size = 1, color=red> dialogue </font><font size = 1, color=red> alone </font><font size = 1, color=blue> makes </font><font size = 1, color=gray> this </font><font size = 1, color=blue> film </font><font size = 1, color=red> grate </font><font size = 1, color=red> at </font><font size = 1, color=gray> the </font><font size = 2, color=red> teeth, </font><font size = 1, color=gray> and </font><font size = 1, color=gray> I'm </font><font size = 1, color=blue> still </font><font size = 1, color=red> wondering </font><font size = 1, color=red> what </font><font size = 1, color=gray> the </font><font size = 1, color=red> heck </font><font size = 1, color=blue> Bill </font><font size = 2, color=blue> Paxton </font><font size = 1, color=red> was </font><font size = 1, color=red> doing </font><font size = 1, color=blue> in </font><font size = 1, color=gray> this </font><font size = 1, color=gray> film? </font><font size = 1, color=gray> And </font><font size = 1, color=gray> why </font><font size = 1, color=gray> the </font><font size = 1, color=gray> heck </font><font size = 1, color=blue> does </font><font size = 1, color=blue> he </font><font size = 2, color=blue> always </font><font size = 1, color=blue> play </font><font size = 1, color=gray> the </font><font size = 1, color=red> exact </font><font size = 1, color=gray> same </font><font size = 1, color=blue> character? </font><font size = 1, color=blue> From </font><font size = 2, color=red> Aliens </font><font size = 1, color=blue> onward, </font><font size = 1, color=red> every </font><font size = 1, color=gray> film </font><font size = 1, color=red> I've </font><font size = 1, color=blue> seen </font><font size = 1, color=gray> with </font><font size = 1, color=gray> Bill </font><font size = 1, color=gray> Paxton </font><font size = 1, color=blue> has </font><font size = 1, color=blue> him </font><font size = 1, color=blue> playing </font><font size = 1, color=gray> the </font><font size = 1, color=gray> exact </font><font size = 1, color=gray> same </font><font size = 3, color=red> irritating </font><font size = 1, color=gray> character, </font><font size = 1, color=gray> and </font><font size = 1, color=gray> at </font><font size = 2, color=red> least </font><font size = 1, color=gray> in </font><font size = 1, color=gray> Aliens </font><font size = 1, color=blue> his </font><font size = 1, color=gray> character </font><font size = 1, color=blue> died, </font><font size = 1, color=blue> which </font><font size = 1, color=red> made </font><font size = 1, color=red> it </font><font size = 1, color=blue> somewhat </font><font size = 3, color=blue> gratifying...<br </font><font size = 1, color=red> /><br </font><font size = 1, color=blue> />Overall, </font><font size = 1, color=gray> this </font><font size = 1, color=gray> is </font><font size = 1, color=blue> second-rate </font><font size = 1, color=gray> action </font><font size = 3, color=red> trash. </font><font size = 1, color=gray> There </font><font size = 1, color=gray> are </font><font size = 1, color=red> countless </font><font size = 1, color=red> better </font><font size = 1, color=gray> films </font><font size = 1, color=red> to </font><font size = 1, color=gray> see, </font><font size = 1, color=gray> and </font><font size = 1, color=red> if </font><font size = 1, color=red> you </font><font size = 1, color=gray> really </font><font size = 1, color=red> want </font><font size = 1, color=gray> to </font><font size = 1, color=gray> see </font><font size = 1, color=gray> this </font><font size = 1, color=gray> one, </font><font size = 1, color=gray> watch </font><font size = 1, color=red> Judgement </font><font size = 1, color=blue> Night, </font><font size = 1, color=gray> which </font><font size = 1, color=gray> is </font><font size = 1, color=red> practically </font><font size = 1, color=gray> a </font><font size = 1, color=red> carbon </font><font size = 1, color=blue> copy </font><font size = 1, color=red> but </font><font size = 1, color=gray> has </font><font size = 1, color=gray> better </font><font size = 1, color=gray> acting </font><font size = 1, color=gray> and </font><font size = 1, color=gray> a </font><font size = 1, color=gray> better </font><font size = 2, color=red> script. </font><font size = 1, color=gray> The </font><font size = 1, color=red> only </font><font size = 1, color=red> thing </font><font size = 1, color=gray> that </font><font size = 1, color=gray> made </font><font size = 1, color=gray> this </font><font size = 1, color=gray> at </font><font size = 1, color=red> all </font><font size = 1, color=gray> worth </font><font size = 1, color=gray> watching </font><font size = 1, color=gray> was </font><font size = 1, color=gray> a </font><font size = 2, color=red> decent </font><font size = 1, color=red> hand </font><font size = 1, color=red> on </font><font size = 1, color=gray> the </font><font size = 1, color=red> camera </font><font size = 1, color=gray> - </font><font size = 1, color=gray> the </font><font size = 1, color=blue> cinematography </font><font size = 1, color=gray> was </font><font size = 1, color=red> almost </font><font size = 4, color=blue> refreshing, </font><font size = 1, color=gray> which </font><font size = 1, color=blue> comes </font><font size = 1, color=blue> close </font><font size = 1, color=gray> to </font><font size = 1, color=red> making </font><font size = 1, color=red> up </font><font size = 1, color=gray> for </font><font size = 1, color=gray> the </font><font size = 4, color=red> horrible </font><font size = 1, color=gray> film </font><font size = 1, color=red> itself </font><font size = 1, color=gray> - </font><font size = 1, color=gray> but </font><font size = 1, color=red> not </font><font size = 1, color=blue> quite. </font><font size = 1, color=blue> 4/10. </font>"
      ],
      "text/plain": [
       "<coloredweighteddoc.ColoredWeightedDoc at 0x22a6d0470b8>"
      ]
     },
     "metadata": {},
     "output_type": "display_data"
    }
   ],
   "source": [
    "a=1\n",
    "mnb = MultinomialNB(alpha=a)\n",
    "mnb.fit(X_train, y_train)\n",
    "mnb_weights = mnb.feature_log_prob_[1] - mnb.feature_log_prob_[0]\n",
    "print(mnb.score(X_test, y_test))\n",
    "print(mnb.predict_proba(X_test[to]))\n",
    "display.display(ColoredWeightedDoc(test_corpus[to], words, mnb_weights, binary = True))"
   ]
  },
  {
   "cell_type": "code",
   "execution_count": 83,
   "metadata": {
    "collapsed": false
   },
   "outputs": [
    {
     "name": "stdout",
     "output_type": "stream",
     "text": [
      "0.82048\n",
      "[[  9.99991166e-01   8.83378725e-06]]\n"
     ]
    },
    {
     "data": {
      "text/html": [
       "<font size = 1, color=red> This </font><font size = 1, color=blue> is </font><font size = 1, color=blue> an </font><font size = 1, color=red> example </font><font size = 1, color=red> of </font><font size = 2, color=red> why </font><font size = 1, color=red> the </font><font size = 1, color=blue> majority </font><font size = 1, color=gray> of </font><font size = 1, color=blue> action </font><font size = 1, color=blue> films </font><font size = 1, color=blue> are </font><font size = 1, color=gray> the </font><font size = 1, color=red> same. </font><font size = 2, color=red> Generic </font><font size = 1, color=blue> and </font><font size = 5, color=red> boring, </font><font size = 1, color=red> there's </font><font size = 1, color=red> really </font><font size = 3, color=red> nothing </font><font size = 1, color=blue> worth </font><font size = 2, color=red> watching </font><font size = 1, color=red> here. </font><font size = 1, color=gray> A </font><font size = 2, color=red> complete </font><font size = 6, color=red> waste </font><font size = 1, color=gray> of </font><font size = 1, color=gray> the </font><font size = 1, color=red> then </font><font size = 2, color=red> barely-tapped </font><font size = 1, color=red> talents </font><font size = 1, color=gray> of </font><font size = 1, color=blue> Ice-T </font><font size = 1, color=gray> and </font><font size = 1, color=gray> Ice </font><font size = 1, color=blue> Cube, </font><font size = 1, color=blue> who've </font><font size = 2, color=blue> each </font><font size = 1, color=red> proven </font><font size = 1, color=blue> many </font><font size = 1, color=blue> times </font><font size = 1, color=red> over </font><font size = 1, color=red> that </font><font size = 1, color=red> they </font><font size = 1, color=gray> are </font><font size = 1, color=red> capable </font><font size = 1, color=gray> of </font><font size = 2, color=red> acting, </font><font size = 1, color=gray> and </font><font size = 1, color=gray> acting </font><font size = 2, color=blue> well. </font><font size = 2, color=red> Don't </font><font size = 4, color=red> bother </font><font size = 1, color=blue> with </font><font size = 1, color=gray> this </font><font size = 1, color=blue> one, </font><font size = 1, color=red> go </font><font size = 1, color=blue> see </font><font size = 1, color=blue> New </font><font size = 2, color=blue> Jack </font><font size = 2, color=blue> City, </font><font size = 1, color=red> Ricochet </font><font size = 1, color=red> or </font><font size = 1, color=red> watch </font><font size = 1, color=gray> New </font><font size = 2, color=blue> York </font><font size = 1, color=blue> Undercover </font><font size = 1, color=red> for </font><font size = 1, color=gray> Ice-T, </font><font size = 1, color=gray> or </font><font size = 1, color=blue> Boyz </font><font size = 1, color=gray> n </font><font size = 1, color=gray> the </font><font size = 1, color=red> Hood, </font><font size = 1, color=blue> Higher </font><font size = 1, color=blue> Learning </font><font size = 1, color=gray> or </font><font size = 1, color=red> Friday </font><font size = 1, color=gray> for </font><font size = 1, color=gray> Ice </font><font size = 1, color=gray> Cube </font><font size = 1, color=gray> and </font><font size = 1, color=gray> see </font><font size = 1, color=gray> the </font><font size = 1, color=blue> real </font><font size = 1, color=blue> deal. </font><font size = 1, color=gray> Ice-T's </font><font size = 3, color=red> horribly </font><font size = 1, color=red> cliched </font><font size = 2, color=red> dialogue </font><font size = 1, color=red> alone </font><font size = 1, color=blue> makes </font><font size = 1, color=gray> this </font><font size = 1, color=blue> film </font><font size = 1, color=red> grate </font><font size = 1, color=red> at </font><font size = 1, color=gray> the </font><font size = 1, color=red> teeth, </font><font size = 1, color=gray> and </font><font size = 1, color=gray> I'm </font><font size = 2, color=blue> still </font><font size = 2, color=red> wondering </font><font size = 1, color=red> what </font><font size = 1, color=gray> the </font><font size = 1, color=red> heck </font><font size = 1, color=blue> Bill </font><font size = 1, color=blue> Paxton </font><font size = 1, color=red> was </font><font size = 2, color=red> doing </font><font size = 1, color=blue> in </font><font size = 1, color=gray> this </font><font size = 1, color=gray> film? </font><font size = 1, color=gray> And </font><font size = 1, color=gray> why </font><font size = 1, color=gray> the </font><font size = 1, color=gray> heck </font><font size = 1, color=blue> does </font><font size = 1, color=blue> he </font><font size = 2, color=blue> always </font><font size = 1, color=blue> play </font><font size = 1, color=gray> the </font><font size = 1, color=red> exact </font><font size = 1, color=gray> same </font><font size = 1, color=blue> character? </font><font size = 1, color=blue> From </font><font size = 2, color=red> Aliens </font><font size = 1, color=blue> onward, </font><font size = 1, color=red> every </font><font size = 1, color=gray> film </font><font size = 1, color=red> I've </font><font size = 1, color=blue> seen </font><font size = 1, color=gray> with </font><font size = 1, color=gray> Bill </font><font size = 1, color=gray> Paxton </font><font size = 1, color=blue> has </font><font size = 1, color=blue> him </font><font size = 1, color=blue> playing </font><font size = 1, color=gray> the </font><font size = 1, color=gray> exact </font><font size = 1, color=gray> same </font><font size = 3, color=red> irritating </font><font size = 1, color=gray> character, </font><font size = 1, color=gray> and </font><font size = 1, color=gray> at </font><font size = 2, color=red> least </font><font size = 1, color=gray> in </font><font size = 1, color=gray> Aliens </font><font size = 1, color=blue> his </font><font size = 1, color=gray> character </font><font size = 1, color=blue> died, </font><font size = 1, color=blue> which </font><font size = 1, color=red> made </font><font size = 1, color=red> it </font><font size = 1, color=blue> somewhat </font><font size = 1, color=blue> gratifying...<br </font><font size = 1, color=red> /><br </font><font size = 1, color=blue> />Overall, </font><font size = 1, color=gray> this </font><font size = 1, color=gray> is </font><font size = 1, color=blue> second-rate </font><font size = 1, color=gray> action </font><font size = 3, color=red> trash. </font><font size = 1, color=gray> There </font><font size = 1, color=gray> are </font><font size = 1, color=red> countless </font><font size = 2, color=red> better </font><font size = 1, color=gray> films </font><font size = 1, color=red> to </font><font size = 1, color=gray> see, </font><font size = 1, color=gray> and </font><font size = 1, color=red> if </font><font size = 1, color=red> you </font><font size = 1, color=gray> really </font><font size = 2, color=red> want </font><font size = 1, color=gray> to </font><font size = 1, color=gray> see </font><font size = 1, color=gray> this </font><font size = 1, color=gray> one, </font><font size = 1, color=gray> watch </font><font size = 1, color=red> Judgement </font><font size = 1, color=blue> Night, </font><font size = 1, color=gray> which </font><font size = 1, color=gray> is </font><font size = 1, color=red> practically </font><font size = 1, color=gray> a </font><font size = 1, color=red> carbon </font><font size = 1, color=blue> copy </font><font size = 1, color=red> but </font><font size = 1, color=gray> has </font><font size = 1, color=gray> better </font><font size = 1, color=gray> acting </font><font size = 1, color=gray> and </font><font size = 1, color=gray> a </font><font size = 1, color=gray> better </font><font size = 3, color=red> script. </font><font size = 1, color=gray> The </font><font size = 1, color=red> only </font><font size = 2, color=red> thing </font><font size = 1, color=gray> that </font><font size = 1, color=gray> made </font><font size = 1, color=gray> this </font><font size = 1, color=gray> at </font><font size = 1, color=red> all </font><font size = 1, color=gray> worth </font><font size = 1, color=gray> watching </font><font size = 1, color=gray> was </font><font size = 1, color=gray> a </font><font size = 3, color=red> decent </font><font size = 1, color=red> hand </font><font size = 1, color=red> on </font><font size = 1, color=gray> the </font><font size = 2, color=red> camera </font><font size = 1, color=gray> - </font><font size = 1, color=gray> the </font><font size = 2, color=blue> cinematography </font><font size = 1, color=gray> was </font><font size = 1, color=red> almost </font><font size = 3, color=blue> refreshing, </font><font size = 1, color=gray> which </font><font size = 1, color=blue> comes </font><font size = 1, color=blue> close </font><font size = 1, color=gray> to </font><font size = 1, color=red> making </font><font size = 1, color=red> up </font><font size = 1, color=gray> for </font><font size = 1, color=gray> the </font><font size = 5, color=red> horrible </font><font size = 1, color=gray> film </font><font size = 1, color=red> itself </font><font size = 1, color=gray> - </font><font size = 1, color=gray> but </font><font size = 1, color=red> not </font><font size = 1, color=blue> quite. </font><font size = 1, color=blue> 4/10. </font>"
      ],
      "text/plain": [
       "<coloredweighteddoc.ColoredWeightedDoc at 0x22a6d057240>"
      ]
     },
     "metadata": {},
     "output_type": "display_data"
    }
   ],
   "source": [
    "a=100\n",
    "mnb = MultinomialNB(alpha=a)\n",
    "mnb.fit(X_train, y_train)\n",
    "mnb_weights = mnb.feature_log_prob_[1] - mnb.feature_log_prob_[0]\n",
    "print(mnb.score(X_test, y_test))\n",
    "print(mnb.predict_proba(X_test[to]))\n",
    "display.display(ColoredWeightedDoc(test_corpus[to], words, mnb_weights, binary = True))"
   ]
  },
  {
   "cell_type": "code",
   "execution_count": 87,
   "metadata": {
    "collapsed": false
   },
   "outputs": [
    {
     "name": "stdout",
     "output_type": "stream",
     "text": [
      "0.82368\n",
      "[[  9.99999970e-01   2.97835803e-08]]\n"
     ]
    },
    {
     "data": {
      "text/html": [
       "<font size = 1, color=red> This </font><font size = 1, color=blue> is </font><font size = 1, color=blue> an </font><font size = 1, color=red> example </font><font size = 1, color=red> of </font><font size = 1, color=red> why </font><font size = 1, color=red> the </font><font size = 1, color=blue> majority </font><font size = 1, color=gray> of </font><font size = 1, color=blue> action </font><font size = 1, color=blue> films </font><font size = 1, color=blue> are </font><font size = 1, color=gray> the </font><font size = 1, color=red> same. </font><font size = 1, color=red> Generic </font><font size = 1, color=blue> and </font><font size = 2, color=red> boring, </font><font size = 1, color=red> there's </font><font size = 1, color=red> really </font><font size = 1, color=red> nothing </font><font size = 1, color=blue> worth </font><font size = 1, color=red> watching </font><font size = 1, color=red> here. </font><font size = 1, color=gray> A </font><font size = 1, color=red> complete </font><font size = 3, color=red> waste </font><font size = 1, color=gray> of </font><font size = 1, color=gray> the </font><font size = 1, color=red> then </font><font size = 1, color=red> barely-tapped </font><font size = 1, color=red> talents </font><font size = 1, color=gray> of </font><font size = 1, color=blue> Ice-T </font><font size = 1, color=gray> and </font><font size = 1, color=gray> Ice </font><font size = 1, color=blue> Cube, </font><font size = 1, color=blue> who've </font><font size = 1, color=blue> each </font><font size = 1, color=red> proven </font><font size = 1, color=blue> many </font><font size = 1, color=blue> times </font><font size = 1, color=red> over </font><font size = 1, color=red> that </font><font size = 1, color=red> they </font><font size = 1, color=gray> are </font><font size = 1, color=red> capable </font><font size = 1, color=gray> of </font><font size = 1, color=red> acting, </font><font size = 1, color=gray> and </font><font size = 1, color=gray> acting </font><font size = 1, color=blue> well. </font><font size = 1, color=red> Don't </font><font size = 2, color=red> bother </font><font size = 1, color=blue> with </font><font size = 1, color=gray> this </font><font size = 1, color=blue> one, </font><font size = 1, color=red> go </font><font size = 1, color=blue> see </font><font size = 1, color=blue> New </font><font size = 1, color=blue> Jack </font><font size = 1, color=blue> City, </font><font size = 2, color=red> Ricochet </font><font size = 1, color=red> or </font><font size = 1, color=red> watch </font><font size = 1, color=gray> New </font><font size = 1, color=blue> York </font><font size = 1, color=blue> Undercover </font><font size = 1, color=red> for </font><font size = 1, color=gray> Ice-T, </font><font size = 1, color=gray> or </font><font size = 1, color=blue> Boyz </font><font size = 1, color=gray> n </font><font size = 1, color=gray> the </font><font size = 1, color=red> Hood, </font><font size = 1, color=blue> Higher </font><font size = 1, color=blue> Learning </font><font size = 1, color=gray> or </font><font size = 1, color=red> Friday </font><font size = 1, color=gray> for </font><font size = 1, color=gray> Ice </font><font size = 1, color=gray> Cube </font><font size = 1, color=gray> and </font><font size = 1, color=gray> see </font><font size = 1, color=gray> the </font><font size = 1, color=blue> real </font><font size = 1, color=blue> deal. </font><font size = 1, color=gray> Ice-T's </font><font size = 2, color=red> horribly </font><font size = 2, color=red> cliched </font><font size = 1, color=red> dialogue </font><font size = 1, color=red> alone </font><font size = 1, color=blue> makes </font><font size = 1, color=gray> this </font><font size = 1, color=blue> film </font><font size = 1, color=red> grate </font><font size = 1, color=red> at </font><font size = 1, color=gray> the </font><font size = 1, color=red> teeth, </font><font size = 1, color=gray> and </font><font size = 1, color=gray> I'm </font><font size = 1, color=blue> still </font><font size = 1, color=red> wondering </font><font size = 1, color=red> what </font><font size = 1, color=gray> the </font><font size = 1, color=red> heck </font><font size = 1, color=blue> Bill </font><font size = 1, color=blue> Paxton </font><font size = 1, color=red> was </font><font size = 1, color=red> doing </font><font size = 1, color=blue> in </font><font size = 1, color=gray> this </font><font size = 1, color=gray> film? </font><font size = 1, color=gray> And </font><font size = 1, color=gray> why </font><font size = 1, color=gray> the </font><font size = 1, color=gray> heck </font><font size = 1, color=blue> does </font><font size = 1, color=blue> he </font><font size = 1, color=blue> always </font><font size = 1, color=blue> play </font><font size = 1, color=gray> the </font><font size = 1, color=red> exact </font><font size = 1, color=gray> same </font><font size = 1, color=blue> character? </font><font size = 1, color=blue> From </font><font size = 1, color=red> Aliens </font><font size = 1, color=blue> onward, </font><font size = 1, color=red> every </font><font size = 1, color=gray> film </font><font size = 1, color=red> I've </font><font size = 1, color=blue> seen </font><font size = 1, color=gray> with </font><font size = 1, color=gray> Bill </font><font size = 1, color=gray> Paxton </font><font size = 1, color=blue> has </font><font size = 1, color=blue> him </font><font size = 1, color=blue> playing </font><font size = 1, color=gray> the </font><font size = 1, color=gray> exact </font><font size = 1, color=gray> same </font><font size = 2, color=red> irritating </font><font size = 1, color=gray> character, </font><font size = 1, color=gray> and </font><font size = 1, color=gray> at </font><font size = 1, color=red> least </font><font size = 1, color=gray> in </font><font size = 1, color=gray> Aliens </font><font size = 1, color=blue> his </font><font size = 1, color=gray> character </font><font size = 1, color=blue> died, </font><font size = 1, color=blue> which </font><font size = 1, color=red> made </font><font size = 1, color=red> it </font><font size = 1, color=blue> somewhat </font><font size = 2, color=blue> gratifying...<br </font><font size = 1, color=red> /><br </font><font size = 1, color=blue> />Overall, </font><font size = 1, color=gray> this </font><font size = 1, color=gray> is </font><font size = 1, color=blue> second-rate </font><font size = 1, color=gray> action </font><font size = 1, color=red> trash. </font><font size = 1, color=gray> There </font><font size = 1, color=gray> are </font><font size = 1, color=red> countless </font><font size = 1, color=red> better </font><font size = 1, color=gray> films </font><font size = 1, color=red> to </font><font size = 1, color=gray> see, </font><font size = 1, color=gray> and </font><font size = 1, color=red> if </font><font size = 1, color=red> you </font><font size = 1, color=gray> really </font><font size = 1, color=red> want </font><font size = 1, color=gray> to </font><font size = 1, color=gray> see </font><font size = 1, color=gray> this </font><font size = 1, color=gray> one, </font><font size = 1, color=gray> watch </font><font size = 1, color=red> Judgement </font><font size = 1, color=blue> Night, </font><font size = 1, color=gray> which </font><font size = 1, color=gray> is </font><font size = 1, color=red> practically </font><font size = 1, color=gray> a </font><font size = 1, color=red> carbon </font><font size = 1, color=blue> copy </font><font size = 1, color=red> but </font><font size = 1, color=gray> has </font><font size = 1, color=gray> better </font><font size = 1, color=gray> acting </font><font size = 1, color=gray> and </font><font size = 1, color=gray> a </font><font size = 1, color=gray> better </font><font size = 1, color=red> script. </font><font size = 1, color=gray> The </font><font size = 1, color=red> only </font><font size = 1, color=red> thing </font><font size = 1, color=gray> that </font><font size = 1, color=gray> made </font><font size = 1, color=gray> this </font><font size = 1, color=gray> at </font><font size = 1, color=red> all </font><font size = 1, color=gray> worth </font><font size = 1, color=gray> watching </font><font size = 1, color=gray> was </font><font size = 1, color=gray> a </font><font size = 1, color=red> decent </font><font size = 1, color=red> hand </font><font size = 1, color=red> on </font><font size = 1, color=gray> the </font><font size = 1, color=red> camera </font><font size = 1, color=gray> - </font><font size = 1, color=gray> the </font><font size = 1, color=blue> cinematography </font><font size = 1, color=gray> was </font><font size = 1, color=red> almost </font><font size = 2, color=blue> refreshing, </font><font size = 1, color=gray> which </font><font size = 1, color=blue> comes </font><font size = 1, color=blue> close </font><font size = 1, color=gray> to </font><font size = 1, color=red> making </font><font size = 1, color=red> up </font><font size = 1, color=gray> for </font><font size = 1, color=gray> the </font><font size = 2, color=red> horrible </font><font size = 1, color=gray> film </font><font size = 1, color=red> itself </font><font size = 1, color=gray> - </font><font size = 1, color=gray> but </font><font size = 1, color=red> not </font><font size = 1, color=blue> quite. </font><font size = 1, color=blue> 4/10. </font>"
      ],
      "text/plain": [
       "<coloredweighteddoc.ColoredWeightedDoc at 0x22a6d047278>"
      ]
     },
     "metadata": {},
     "output_type": "display_data"
    }
   ],
   "source": [
    "a=0.01\n",
    "mnb = MultinomialNB(alpha=a)\n",
    "mnb.fit(X_train, y_train)\n",
    "mnb_weights = mnb.feature_log_prob_[1] - mnb.feature_log_prob_[0]\n",
    "print(mnb.score(X_test, y_test))\n",
    "print(mnb.predict_proba(X_test[to]))\n",
    "display.display(ColoredWeightedDoc(test_corpus[to], words, mnb_weights, binary = True))"
   ]
  },
  {
   "cell_type": "markdown",
   "metadata": {},
   "source": [
    "## Most"
   ]
  },
  {
   "cell_type": "code",
   "execution_count": 511,
   "metadata": {
    "collapsed": true
   },
   "outputs": [],
   "source": [
    "clf_str = 'l1lr'"
   ]
  },
  {
   "cell_type": "code",
   "execution_count": 525,
   "metadata": {
    "collapsed": true
   },
   "outputs": [],
   "source": [
    "if clf_str == 'mnb':\n",
    "    a=1\n",
    "    clf = MultinomialNB(alpha=a)\n",
    "    clf.fit(X_train, y_train)\n",
    "    weights = mnb.feature_log_prob_[1] - mnb.feature_log_prob_[0]\n",
    "    bias = clf.class_log_prior_[1] - clf.class_log_prior_[0]\n",
    "elif clf_str == 'l1lr':\n",
    "    c=0.01\n",
    "    p='l1'\n",
    "    clf = LogisticRegression(penalty=p, C=c)\n",
    "    clf.fit(X_train, y_train)\n",
    "    weights = clf.coef_[0]\n",
    "    bias = clf.intercept_[0]\n",
    "elif clf_str == 'l2lr':\n",
    "    c=1\n",
    "    p='l2'\n",
    "    clf = LogisticRegression(penalty=p, C=c)\n",
    "    clf.fit(X_train, y_train)\n",
    "    weights = clf.coef_[0]\n",
    "    bias = clf.intercept_[0]\n",
    "else:\n",
    "    print(\"Unknown classifier\")\n",
    "    clf = None"
   ]
  },
  {
   "cell_type": "code",
   "execution_count": 526,
   "metadata": {
    "collapsed": false
   },
   "outputs": [
    {
     "data": {
      "text/plain": [
       "0.81552000000000002"
      ]
     },
     "execution_count": 526,
     "metadata": {},
     "output_type": "execute_result"
    }
   ],
   "source": [
    "clf.score(X_train, y_train)"
   ]
  },
  {
   "cell_type": "code",
   "execution_count": 527,
   "metadata": {
    "collapsed": false
   },
   "outputs": [
    {
     "data": {
      "text/plain": [
       "0.81240000000000001"
      ]
     },
     "execution_count": 527,
     "metadata": {},
     "output_type": "execute_result"
    }
   ],
   "source": [
    "clf.score(X_test, y_test)"
   ]
  },
  {
   "cell_type": "code",
   "execution_count": 528,
   "metadata": {
    "collapsed": true
   },
   "outputs": [],
   "source": [
    "probs = clf.predict_proba(X_test)\n",
    "neg_evi, pos_evi = compute_evidences_nonnegative_matrix(weights, X_test, bias)"
   ]
  },
  {
   "cell_type": "markdown",
   "metadata": {},
   "source": [
    "### Most Negative wrt Probs"
   ]
  },
  {
   "cell_type": "code",
   "execution_count": 529,
   "metadata": {
    "collapsed": false
   },
   "outputs": [
    {
     "name": "stdout",
     "output_type": "stream",
     "text": [
      "[  9.99197033e-01   8.02966968e-04]\n",
      "-9.39312664015\n",
      "2.26673294965\n"
     ]
    },
    {
     "data": {
      "text/html": [
       "<font size = 1, color=gray> Predator </font><font size = 1, color=gray> Island </font><font size = 1, color=gray> starts </font><font size = 1, color=blue> as </font><font size = 1, color=gray> six </font><font size = 1, color=gray> friends, </font><font size = 1, color=gray> Eric </font><font size = 1, color=gray> (Tom </font><font size = 1, color=gray> Dahl), </font><font size = 1, color=gray> Chris </font><font size = 1, color=gray> (Dan </font><font size = 1, color=gray> Gordon) </font><font size = 1, color=gray> along </font><font size = 1, color=gray> with </font><font size = 1, color=gray> Heather </font><font size = 1, color=gray> (Iris </font><font size = 1, color=gray> McQuillan-Grace), </font><font size = 1, color=gray> Kim </font><font size = 1, color=gray> (Iana </font><font size = 1, color=gray> Baker) </font><font size = 1, color=gray> & </font><font size = 1, color=gray> Denise </font><font size = 1, color=gray> (Melissa </font><font size = 1, color=gray> Roby) </font><font size = 1, color=gray> get </font><font size = 1, color=gray> invited </font><font size = 1, color=gray> to </font><font size = 1, color=gray> spend </font><font size = 1, color=gray> sometime </font><font size = 1, color=gray> on </font><font size = 1, color=gray> Kevin's </font><font size = 1, color=gray> (Michael </font><font size = 1, color=gray> Wrann) </font><font size = 1, color=gray> father's </font><font size = 1, color=gray> boat </font><font size = 1, color=gray> partying </font><font size = 1, color=gray> in </font><font size = 1, color=gray> the </font><font size = 1, color=gray> open </font><font size = 1, color=gray> sea. </font><font size = 1, color=gray> What </font><font size = 1, color=red> could </font><font size = 1, color=gray> go </font><font size = 1, color=gray> wrong </font><font size = 1, color=gray> with </font><font size = 1, color=gray> such </font><font size = 1, color=gray> a </font><font size = 1, color=gray> super </font><font size = 1, color=gray> sounding </font><font size = 1, color=red> idea? </font><font size = 2, color=blue> Well </font><font size = 1, color=gray> for </font><font size = 1, color=gray> starters </font><font size = 1, color=gray> a </font><font size = 1, color=gray> big </font><font size = 1, color=gray> green </font><font size = 1, color=gray> meteorite </font><font size = 1, color=gray> could </font><font size = 1, color=gray> crash </font><font size = 1, color=gray> into </font><font size = 1, color=gray> the </font><font size = 1, color=gray> sea </font><font size = 1, color=gray> near </font><font size = 1, color=gray> your </font><font size = 1, color=gray> boat </font><font size = 1, color=gray> & </font><font size = 1, color=gray> an </font><font size = 1, color=gray> alien </font><font size = 1, color=blue> life-force </font><font size = 1, color=gray> could </font><font size = 1, color=gray> emerge </font><font size = 1, color=gray> from </font><font size = 1, color=blue> it </font><font size = 1, color=gray> & </font><font size = 1, color=gray> try </font><font size = 1, color=gray> to </font><font size = 1, color=gray> kill </font><font size = 1, color=gray> all </font><font size = 1, color=gray> of </font><font size = 1, color=gray> you, </font><font size = 1, color=red> then </font><font size = 1, color=gray> again </font><font size = 1, color=gray> that's </font><font size = 1, color=red> just </font><font size = 1, color=gray> a </font><font size = 1, color=gray> ridiculously </font><font size = 3, color=red> stupid </font><font size = 1, color=gray> idea, </font><font size = 1, color=gray> isn't </font><font size = 1, color=gray> it?<br </font><font size = 1, color=gray> /><br </font><font size = 1, color=gray> />Co-edited, </font><font size = 1, color=gray> written </font><font size = 1, color=gray> & </font><font size = 1, color=gray> directed </font><font size = 1, color=gray> by </font><font size = 1, color=gray> Steven </font><font size = 1, color=gray> Castle </font><font size = 1, color=gray> I </font><font size = 1, color=gray> thought </font><font size = 1, color=gray> Predator </font><font size = 1, color=gray> Island </font><font size = 1, color=red> was </font><font size = 1, color=red> crap </font><font size = 1, color=gray> & </font><font size = 1, color=gray> it's </font><font size = 1, color=gray> a </font><font size = 1, color=blue> simple </font><font size = 1, color=gray> & </font><font size = 1, color=gray> straight </font><font size = 1, color=gray> forward </font><font size = 1, color=gray> as </font><font size = 1, color=gray> that </font><font size = 1, color=gray> really. </font><font size = 1, color=gray> The </font><font size = 2, color=red> script </font><font size = 1, color=blue> is </font><font size = 1, color=gray> of </font><font size = 1, color=gray> the </font><font size = 6, color=red> worst </font><font size = 1, color=gray> kind, </font><font size = 1, color=gray> you </font><font size = 1, color=gray> know </font><font size = 1, color=gray> the </font><font size = 1, color=gray> sort </font><font size = 1, color=gray> of </font><font size = 1, color=gray> abomination </font><font size = 1, color=gray> that's </font><font size = 1, color=gray> full </font><font size = 1, color=gray> of </font><font size = 2, color=blue> highly </font><font size = 2, color=red> annoying </font><font size = 1, color=gray> teenage </font><font size = 1, color=gray> character's </font><font size = 1, color=blue> who </font><font size = 1, color=red> do </font><font size = 1, color=gray> & </font><font size = 1, color=gray> say </font><font size = 1, color=gray> the </font><font size = 1, color=blue> most </font><font size = 1, color=gray> stupid </font><font size = 1, color=gray> things, </font><font size = 1, color=gray> it's </font><font size = 1, color=gray> full </font><font size = 1, color=gray> of </font><font size = 1, color=gray> clichÃ©s </font><font size = 1, color=gray> & </font><font size = 1, color=gray> is </font><font size = 1, color=gray> utterly </font><font size = 1, color=gray> predictable, </font><font size = 1, color=gray> it </font><font size = 1, color=blue> makes </font><font size = 1, color=gray> next-to-no </font><font size = 1, color=gray> sense, </font><font size = 1, color=gray> things </font><font size = 1, color=gray> just </font><font size = 1, color=gray> suddenly </font><font size = 1, color=gray> happen </font><font size = 1, color=gray> without </font><font size = 1, color=red> any </font><font size = 1, color=gray> build </font><font size = 1, color=gray> up </font><font size = 1, color=red> or </font><font size = 1, color=gray> explanation, </font><font size = 1, color=gray> it's </font><font size = 4, color=red> boring </font><font size = 2, color=red> even </font><font size = 1, color=gray> at </font><font size = 1, color=red> only </font><font size = 1, color=gray> 70 </font><font size = 1, color=gray> odd </font><font size = 2, color=red> minutes </font><font size = 1, color=gray> & </font><font size = 1, color=gray> it </font><font size = 1, color=blue> has </font><font size = 1, color=gray> virtually </font><font size = 2, color=red> no </font><font size = 1, color=gray> entertainment </font><font size = 1, color=gray> value </font><font size = 1, color=gray> whatsoever, </font><font size = 1, color=red> not </font><font size = 1, color=gray> even </font><font size = 1, color=gray> unintentional </font><font size = 1, color=gray> laugh </font><font size = 1, color=gray> value. </font><font size = 1, color=gray> The </font><font size = 1, color=gray> film </font><font size = 1, color=gray> doesn't </font><font size = 1, color=gray> really </font><font size = 1, color=gray> have </font><font size = 1, color=red> much </font><font size = 1, color=gray> of </font><font size = 1, color=gray> what </font><font size = 1, color=gray> I </font><font size = 1, color=red> would </font><font size = 1, color=gray> call </font><font size = 1, color=gray> a </font><font size = 2, color=red> plot, </font><font size = 1, color=red> there's </font><font size = 1, color=gray> no </font><font size = 1, color=gray> explanation </font><font size = 1, color=gray> given </font><font size = 1, color=gray> as </font><font size = 1, color=gray> to </font><font size = 1, color=red> why </font><font size = 1, color=gray> or </font><font size = 1, color=gray> how </font><font size = 1, color=gray> this </font><font size = 1, color=gray> alien </font><font size = 1, color=gray> creature </font><font size = 1, color=gray> can </font><font size = 1, color=gray> take </font><font size = 1, color=gray> over </font><font size = 1, color=gray> people's </font><font size = 1, color=gray> minds </font><font size = 1, color=gray> or </font><font size = 1, color=gray> why </font><font size = 1, color=gray> it </font><font size = 1, color=gray> can </font><font size = 1, color=gray> be </font><font size = 1, color=gray> selective </font><font size = 1, color=gray> in </font><font size = 1, color=gray> the </font><font size = 1, color=gray> sense </font><font size = 1, color=gray> that </font><font size = 1, color=gray> one </font><font size = 1, color=gray> moment </font><font size = 1, color=gray> the </font><font size = 1, color=gray> person </font><font size = 2, color=blue> will </font><font size = 1, color=gray> be </font><font size = 1, color=gray> 'normal' </font><font size = 1, color=gray> the </font><font size = 1, color=gray> next, </font><font size = 1, color=blue> when </font><font size = 1, color=gray> the </font><font size = 1, color=blue> story </font><font size = 1, color=gray> calls </font><font size = 1, color=gray> for </font><font size = 1, color=gray> it </font><font size = 1, color=gray> & </font><font size = 1, color=gray> with </font><font size = 1, color=gray> no </font><font size = 1, color=gray> apparent </font><font size = 1, color=gray> cause, </font><font size = 1, color=red> they </font><font size = 1, color=gray> suddenly </font><font size = 1, color=gray> get </font><font size = 1, color=gray> green </font><font size = 1, color=gray> glowing </font><font size = 1, color=gray> eyes </font><font size = 1, color=gray> & </font><font size = 1, color=gray> a </font><font size = 1, color=gray> sudden </font><font size = 1, color=gray> urge </font><font size = 1, color=gray> to </font><font size = 1, color=gray> turn </font><font size = 1, color=gray> cannibal. </font><font size = 1, color=gray> There's </font><font size = 1, color=gray> not </font><font size = 1, color=red> enough </font><font size = 1, color=gray> horror </font><font size = 1, color=gray> in </font><font size = 1, color=gray> it, </font><font size = 1, color=gray> the </font><font size = 1, color=red> so-called </font><font size = 1, color=gray> action </font><font size = 1, color=gray> scenes </font><font size = 1, color=gray> are </font><font size = 1, color=gray> pitiful </font><font size = 1, color=gray> & </font><font size = 1, color=gray> I </font><font size = 1, color=gray> really </font><font size = 1, color=red> don't </font><font size = 1, color=gray> want </font><font size = 1, color=gray> to </font><font size = 6, color=red> waste </font><font size = 1, color=gray> another </font><font size = 1, color=gray> second </font><font size = 1, color=gray> thinking </font><font size = 1, color=gray> about </font><font size = 1, color=gray> Predator </font><font size = 1, color=gray> Island </font><font size = 1, color=gray> let </font><font size = 1, color=gray> alone </font><font size = 1, color=gray> wasting </font><font size = 1, color=blue> my </font><font size = 1, color=gray> precious </font><font size = 1, color=gray> energy </font><font size = 1, color=gray> typing </font><font size = 1, color=gray> these </font><font size = 1, color=gray> words...<br </font><font size = 1, color=gray> /><br </font><font size = 1, color=gray> />Director </font><font size = 1, color=gray> Castle </font><font size = 1, color=gray> doesn't </font><font size = 1, color=gray> do </font><font size = 1, color=red> anything </font><font size = 1, color=gray> to </font><font size = 1, color=red> make </font><font size = 1, color=gray> this </font><font size = 1, color=red> thing </font><font size = 1, color=gray> watchable </font><font size = 1, color=gray> & </font><font size = 1, color=gray> the </font><font size = 1, color=gray> 'special </font><font size = 1, color=gray> effects' </font><font size = 1, color=gray> are </font><font size = 1, color=gray> absolutely </font><font size = 3, color=red> terrible, </font><font size = 1, color=gray> this </font><font size = 1, color=gray> alien </font><font size = 1, color=gray> creature </font><font size = 1, color=gray> dude </font><font size = 1, color=gray> wouldn't </font><font size = 1, color=gray> even </font><font size = 1, color=gray> get </font><font size = 1, color=gray> into </font><font size = 1, color=gray> a </font><font size = 1, color=gray> 50's </font><font size = 1, color=gray> sci-fi </font><font size = 1, color=gray> film. </font><font size = 1, color=gray> The </font><font size = 1, color=gray> filmmakers </font><font size = 1, color=gray> even </font><font size = 1, color=gray> play </font><font size = 1, color=gray> some </font><font size = 1, color=gray> blooper </font><font size = 1, color=gray> footage </font><font size = 1, color=gray> over </font><font size = 1, color=gray> the </font><font size = 1, color=gray> end </font><font size = 1, color=gray> credits </font><font size = 1, color=gray> but </font><font size = 1, color=gray> this </font><font size = 1, color=gray> has </font><font size = 1, color=gray> to </font><font size = 1, color=gray> be </font><font size = 1, color=gray> the </font><font size = 1, color=red> least </font><font size = 1, color=gray> funny </font><font size = 1, color=gray> collection </font><font size = 1, color=gray> of </font><font size = 1, color=gray> mistakes </font><font size = 1, color=gray> ever, </font><font size = 1, color=gray> I </font><font size = 1, color=gray> mean </font><font size = 1, color=gray> they </font><font size = 1, color=gray> can't </font><font size = 1, color=gray> even </font><font size = 1, color=gray> get </font><font size = 1, color=gray> it </font><font size = 1, color=gray> wrong </font><font size = 1, color=gray> right </font><font size = 1, color=red> if </font><font size = 1, color=gray> you </font><font size = 1, color=gray> know </font><font size = 1, color=gray> what </font><font size = 1, color=gray> I </font><font size = 1, color=gray> mean! </font><font size = 1, color=gray> Forget </font><font size = 1, color=gray> about </font><font size = 1, color=gray> any </font><font size = 1, color=gray> decent </font><font size = 1, color=gray> gore </font><font size = 1, color=gray> as </font><font size = 1, color=gray> there </font><font size = 1, color=gray> isn't </font><font size = 1, color=gray> any, </font><font size = 1, color=gray> there's </font><font size = 1, color=gray> a </font><font size = 1, color=blue> bit </font><font size = 1, color=gray> of </font><font size = 1, color=gray> cannibalism </font><font size = 1, color=gray> & </font><font size = 1, color=gray> some </font><font size = 1, color=gray> intestines </font><font size = 1, color=gray> placed </font><font size = 1, color=gray> on </font><font size = 1, color=gray> the </font><font size = 1, color=gray> unfortunate </font><font size = 1, color=gray> actors </font><font size = 1, color=gray> stomach </font><font size = 1, color=gray> so </font><font size = 1, color=gray> another </font><font size = 1, color=gray> unfortunate </font><font size = 1, color=gray> actor </font><font size = 1, color=gray> can </font><font size = 1, color=gray> pick </font><font size = 1, color=gray> them </font><font size = 1, color=gray> up </font><font size = 1, color=gray> & </font><font size = 1, color=gray> pretend </font><font size = 1, color=gray> to </font><font size = 1, color=gray> eat </font><font size = 1, color=gray> them.<br </font><font size = 1, color=gray> /><br </font><font size = 1, color=gray> />With </font><font size = 1, color=gray> a </font><font size = 2, color=red> supposed </font><font size = 1, color=gray> budget </font><font size = 1, color=gray> of </font><font size = 1, color=gray> about </font><font size = 1, color=gray> $150,000 </font><font size = 1, color=gray> I </font><font size = 1, color=gray> have </font><font size = 1, color=gray> to </font><font size = 1, color=gray> concede </font><font size = 1, color=gray> that </font><font size = 1, color=gray> the </font><font size = 1, color=gray> filmmakers </font><font size = 1, color=red> were </font><font size = 1, color=gray> working </font><font size = 1, color=gray> on </font><font size = 1, color=gray> a </font><font size = 1, color=gray> seriously </font><font size = 1, color=gray> low </font><font size = 1, color=gray> budget, </font><font size = 1, color=gray> that's </font><font size = 2, color=blue> still </font><font size = 1, color=gray> no </font><font size = 1, color=gray> excuse </font><font size = 1, color=gray> for </font><font size = 1, color=gray> making </font><font size = 1, color=gray> such </font><font size = 1, color=gray> a </font><font size = 4, color=red> poor </font><font size = 1, color=gray> film. </font><font size = 1, color=gray> The </font><font size = 1, color=gray> whole </font><font size = 1, color=gray> thing </font><font size = 1, color=red> looks </font><font size = 2, color=blue> very </font><font size = 1, color=gray> cheap </font><font size = 1, color=gray> & </font><font size = 1, color=gray> the </font><font size = 1, color=red> acting </font><font size = 1, color=gray> is </font><font size = 1, color=gray> pretty </font><font size = 5, color=red> bad.<br </font><font size = 1, color=gray> /><br </font><font size = 1, color=gray> />Predator </font><font size = 1, color=gray> Island </font><font size = 1, color=gray> is </font><font size = 1, color=gray> crap, </font><font size = 1, color=gray> I'm </font><font size = 1, color=gray> sorry </font><font size = 1, color=gray> but </font><font size = 1, color=gray> that's </font><font size = 1, color=gray> the </font><font size = 1, color=gray> way </font><font size = 1, color=gray> it </font><font size = 1, color=gray> is </font><font size = 1, color=gray> & </font><font size = 1, color=gray> I </font><font size = 1, color=gray> just </font><font size = 1, color=gray> fail </font><font size = 1, color=gray> to </font><font size = 1, color=blue> see </font><font size = 1, color=gray> what </font><font size = 1, color=gray> anyone </font><font size = 1, color=gray> would </font><font size = 1, color=gray> get </font><font size = 1, color=gray> out </font><font size = 1, color=gray> of </font><font size = 1, color=gray> it. </font><font size = 1, color=gray> In </font><font size = 1, color=gray> my </font><font size = 1, color=gray> humble </font><font size = 1, color=gray> opinion </font><font size = 1, color=gray> this </font><font size = 1, color=gray> probably </font><font size = 1, color=gray> one </font><font size = 1, color=gray> to </font><font size = 1, color=red> avoid. </font>"
      ],
      "text/plain": [
       "<coloredweighteddoc.ColoredWeightedDoc at 0x22ac0bed518>"
      ]
     },
     "metadata": {},
     "output_type": "display_data"
    }
   ],
   "source": [
    "j = np.argmax(probs[:,0])\n",
    "print(probs[j])\n",
    "print(neg_evi[j])\n",
    "print(pos_evi[j])\n",
    "display.display(ColoredWeightedDoc(test_corpus[j], words, weights, binary = True))"
   ]
  },
  {
   "cell_type": "markdown",
   "metadata": {},
   "source": [
    "### Most Positive wrt Probs"
   ]
  },
  {
   "cell_type": "code",
   "execution_count": 530,
   "metadata": {
    "collapsed": false
   },
   "outputs": [
    {
     "name": "stdout",
     "output_type": "stream",
     "text": [
      "[ 0.00448513  0.99551487]\n",
      "-0.823021349497\n",
      "6.22551464475\n"
     ]
    },
    {
     "data": {
      "text/html": [
       "<font size = 1, color=gray> Universal </font><font size = 1, color=gray> Studios </font><font size = 1, color=gray> version </font><font size = 1, color=gray> of </font><font size = 1, color=gray> \"Flipper\" </font><font size = 1, color=gray> (1996) </font><font size = 1, color=blue> is </font><font size = 1, color=gray> a </font><font size = 4, color=blue> great </font><font size = 1, color=gray> heartwarming </font><font size = 1, color=gray> film </font><font size = 1, color=gray> for </font><font size = 1, color=gray> the </font><font size = 1, color=gray> entire </font><font size = 1, color=blue> family </font><font size = 1, color=gray> with </font><font size = 1, color=blue> good </font><font size = 1, color=gray> values </font><font size = 1, color=blue> and </font><font size = 1, color=gray> sentimentality. </font><font size = 1, color=blue> It </font><font size = 1, color=gray> is </font><font size = 1, color=gray> the </font><font size = 1, color=blue> story </font><font size = 1, color=gray> of </font><font size = 1, color=gray> Sandy </font><font size = 1, color=gray> Ricks, </font><font size = 1, color=gray> a </font><font size = 1, color=gray> teenager </font><font size = 1, color=gray> from </font><font size = 1, color=gray> Chicago </font><font size = 1, color=blue> who </font><font size = 1, color=gray> reluctantly </font><font size = 1, color=gray> spends </font><font size = 1, color=blue> his </font><font size = 1, color=gray> vacation </font><font size = 1, color=gray> with </font><font size = 1, color=gray> his </font><font size = 1, color=gray> Uncle </font><font size = 1, color=gray> Porter </font><font size = 1, color=gray> Ricks </font><font size = 1, color=gray> in </font><font size = 1, color=gray> the </font><font size = 1, color=gray> Bahamas. </font><font size = 1, color=gray> This </font><font size = 1, color=gray> ultimately </font><font size = 1, color=gray> changes </font><font size = 1, color=gray> the </font><font size = 1, color=gray> teenagers </font><font size = 1, color=blue> life </font><font size = 1, color=gray> and </font><font size = 1, color=gray> he </font><font size = 1, color=gray> grows </font><font size = 1, color=gray> up </font><font size = 1, color=gray> in </font><font size = 1, color=gray> the </font><font size = 1, color=gray> process. </font><font size = 1, color=gray> He </font><font size = 1, color=gray> learns </font><font size = 1, color=gray> to </font><font size = 1, color=gray> appreciate </font><font size = 1, color=gray> nature </font><font size = 1, color=gray> and </font><font size = 1, color=gray> to </font><font size = 1, color=gray> have </font><font size = 1, color=gray> a </font><font size = 1, color=gray> respect </font><font size = 1, color=gray> for </font><font size = 1, color=gray> the </font><font size = 1, color=gray> environment. </font><font size = 1, color=gray> I </font><font size = 1, color=gray> grew </font><font size = 1, color=gray> up </font><font size = 1, color=gray> in </font><font size = 1, color=gray> the </font><font size = 1, color=gray> 1960's </font><font size = 1, color=gray> and </font><font size = 1, color=gray> the </font><font size = 1, color=gray> NBC </font><font size = 1, color=gray> television </font><font size = 1, color=gray> show </font><font size = 1, color=gray> \"Flipper\" </font><font size = 1, color=red> was </font><font size = 1, color=blue> my </font><font size = 2, color=blue> favorite </font><font size = 1, color=gray> childhood </font><font size = 1, color=gray> show. </font><font size = 1, color=gray> Elijah </font><font size = 1, color=gray> Wood </font><font size = 1, color=gray> is </font><font size = 1, color=gray> perfectly </font><font size = 1, color=gray> cast </font><font size = 1, color=blue> as </font><font size = 1, color=gray> a </font><font size = 1, color=gray> 1990's </font><font size = 1, color=gray> Sandy </font><font size = 1, color=gray> Ricks </font><font size = 1, color=gray> and </font><font size = 1, color=gray> gives </font><font size = 1, color=gray> an </font><font size = 5, color=blue> excellent </font><font size = 1, color=blue> performance. </font><font size = 1, color=gray> As </font><font size = 1, color=red> much </font><font size = 1, color=gray> as </font><font size = 1, color=gray> I </font><font size = 1, color=gray> liked </font><font size = 1, color=gray> the </font><font size = 1, color=gray> NBC </font><font size = 1, color=gray> television </font><font size = 1, color=gray> show </font><font size = 1, color=gray> and </font><font size = 1, color=gray> MGM </font><font size = 1, color=gray> theatrical </font><font size = 1, color=gray> feature </font><font size = 1, color=blue> films </font><font size = 1, color=gray> with </font><font size = 1, color=gray> Luke </font><font size = 1, color=gray> Halpin </font><font size = 1, color=gray> as </font><font size = 1, color=gray> Sandy </font><font size = 1, color=gray> in </font><font size = 1, color=gray> the </font><font size = 1, color=gray> 1960's </font><font size = 1, color=gray> I </font><font size = 1, color=gray> liked </font><font size = 1, color=gray> this </font><font size = 1, color=gray> feature </font><font size = 1, color=gray> the </font><font size = 3, color=blue> best! </font><font size = 1, color=gray> I </font><font size = 1, color=gray> feel </font><font size = 1, color=gray> Elijah </font><font size = 1, color=gray> Wood </font><font size = 1, color=gray> is </font><font size = 1, color=gray> the </font><font size = 1, color=gray> best </font><font size = 1, color=gray> Sandy </font><font size = 1, color=gray> Ricks. </font><font size = 1, color=gray> With </font><font size = 1, color=gray> respect </font><font size = 1, color=gray> to </font><font size = 1, color=gray> Luke </font><font size = 1, color=gray> Halpin </font><font size = 1, color=gray> I </font><font size = 1, color=gray> feel </font><font size = 1, color=gray> Elijah </font><font size = 1, color=gray> Wood </font><font size = 1, color=blue> has </font><font size = 1, color=blue> more </font><font size = 1, color=gray> of </font><font size = 1, color=gray> a </font><font size = 1, color=gray> range </font><font size = 1, color=gray> of </font><font size = 1, color=red> acting </font><font size = 1, color=gray> talent </font><font size = 1, color=gray> and </font><font size = 1, color=gray> emotes </font><font size = 1, color=gray> more </font><font size = 1, color=gray> as </font><font size = 1, color=gray> an </font><font size = 1, color=gray> actor </font><font size = 1, color=gray> which </font><font size = 1, color=blue> makes </font><font size = 1, color=gray> his </font><font size = 1, color=gray> performance </font><font size = 1, color=gray> excellent </font><font size = 1, color=gray> and </font><font size = 1, color=gray> more </font><font size = 1, color=gray> believable. </font><font size = 1, color=gray> I </font><font size = 1, color=gray> think </font><font size = 1, color=gray> Elijah </font><font size = 1, color=gray> Wood </font><font size = 1, color=gray> is </font><font size = 1, color=gray> the </font><font size = 1, color=gray> best </font><font size = 1, color=blue> young </font><font size = 1, color=gray> actor </font><font size = 1, color=gray> working </font><font size = 2, color=blue> today </font><font size = 1, color=gray> in </font><font size = 1, color=gray> films. </font><font size = 1, color=gray> Director </font><font size = 1, color=gray> Alan </font><font size = 1, color=gray> Shapiro </font><font size = 2, color=blue> also </font><font size = 1, color=gray> wrote </font><font size = 1, color=gray> the </font><font size = 1, color=gray> screenplay </font><font size = 1, color=gray> and </font><font size = 1, color=gray> has </font><font size = 1, color=gray> done </font><font size = 1, color=gray> an </font><font size = 1, color=gray> excellent </font><font size = 1, color=blue> job </font><font size = 1, color=gray> as </font><font size = 2, color=blue> both </font><font size = 1, color=gray> writer </font><font size = 1, color=gray> and </font><font size = 1, color=gray> director </font><font size = 1, color=gray> of </font><font size = 1, color=gray> this </font><font size = 1, color=gray> film. </font><font size = 1, color=gray> Paul </font><font size = 1, color=gray> Hogan </font><font size = 1, color=gray> gives </font><font size = 1, color=gray> a </font><font size = 1, color=gray> comical </font><font size = 1, color=gray> and </font><font size = 1, color=gray> likable </font><font size = 1, color=gray> performance </font><font size = 1, color=gray> as </font><font size = 1, color=gray> Sandy's </font><font size = 1, color=gray> Uncle </font><font size = 1, color=gray> Porter </font><font size = 1, color=gray> Ricks. </font><font size = 1, color=gray> Mr. </font><font size = 1, color=gray> Hogan's </font><font size = 1, color=gray> performance </font><font size = 1, color=gray> perfectly </font><font size = 1, color=gray> offsets </font><font size = 1, color=gray> Elijah's </font><font size = 1, color=gray> role </font><font size = 1, color=gray> as </font><font size = 1, color=gray> Sandy. </font><font size = 1, color=gray> I </font><font size = 1, color=gray> am </font><font size = 1, color=gray> a </font><font size = 1, color=gray> big </font><font size = 1, color=gray> fan </font><font size = 1, color=gray> of </font><font size = 1, color=gray> underwater </font><font size = 1, color=gray> films. </font><font size = 1, color=gray> This </font><font size = 1, color=gray> film </font><font size = 1, color=gray> was </font><font size = 1, color=gray> beautifully </font><font size = 1, color=gray> shot </font><font size = 1, color=gray> in </font><font size = 1, color=gray> the </font><font size = 1, color=gray> Bahamas </font><font size = 1, color=gray> like </font><font size = 1, color=gray> \"Thunderball\" </font><font size = 1, color=gray> (1965 </font><font size = 1, color=gray> UA) </font><font size = 1, color=gray> was. </font><font size = 1, color=gray> The </font><font size = 1, color=gray> director </font><font size = 1, color=gray> of </font><font size = 1, color=gray> photography </font><font size = 1, color=gray> was </font><font size = 1, color=gray> Bill </font><font size = 1, color=gray> Butler </font><font size = 1, color=gray> A.S.C. </font><font size = 1, color=gray> who </font><font size = 1, color=gray> lensed </font><font size = 1, color=gray> the </font><font size = 1, color=gray> film </font><font size = 1, color=gray> \"Jaws\" </font><font size = 1, color=gray> in </font><font size = 1, color=gray> 1975. </font><font size = 1, color=gray> Mr. </font><font size = 1, color=gray> Butler </font><font size = 1, color=gray> is </font><font size = 1, color=gray> a </font><font size = 2, color=blue> very </font><font size = 1, color=gray> talented </font><font size = 1, color=gray> cinematographer. </font><font size = 1, color=gray> The </font><font size = 1, color=gray> underwater </font><font size = 1, color=gray> director </font><font size = 1, color=gray> of </font><font size = 1, color=gray> photography </font><font size = 1, color=gray> was </font><font size = 1, color=gray> Pete </font><font size = 1, color=gray> Romano. </font><font size = 1, color=gray> He </font><font size = 1, color=gray> did </font><font size = 1, color=gray> a </font><font size = 1, color=blue> superb </font><font size = 1, color=gray> job </font><font size = 1, color=gray> with </font><font size = 1, color=gray> the </font><font size = 1, color=gray> underwater </font><font size = 1, color=gray> cinematography. </font><font size = 1, color=gray> I </font><font size = 1, color=blue> enjoyed </font><font size = 1, color=gray> the </font><font size = 1, color=gray> film </font><font size = 1, color=gray> score </font><font size = 1, color=gray> by </font><font size = 1, color=gray> Joel </font><font size = 1, color=gray> McNeely. </font><font size = 1, color=gray> This </font><font size = 1, color=gray> good </font><font size = 1, color=gray> film </font><font size = 1, color=gray> score </font><font size = 1, color=gray> featured </font><font size = 1, color=gray> Crosby, </font><font size = 1, color=gray> Stills </font><font size = 1, color=gray> and </font><font size = 1, color=gray> Nash </font><font size = 1, color=gray> among </font><font size = 1, color=gray> other </font><font size = 1, color=gray> talented </font><font size = 1, color=gray> artists. </font><font size = 1, color=gray> This </font><font size = 1, color=gray> motion </font><font size = 1, color=gray> picture </font><font size = 1, color=gray> was </font><font size = 1, color=gray> shot </font><font size = 1, color=gray> in </font><font size = 1, color=gray> Panavision </font><font size = 1, color=gray> like </font><font size = 1, color=gray> \"Thunderball\" </font><font size = 1, color=gray> in </font><font size = 1, color=gray> the </font><font size = 1, color=gray> aspect </font><font size = 1, color=gray> ratio </font><font size = 1, color=gray> of </font><font size = 1, color=gray> 2.35:1 </font><font size = 1, color=red> If </font><font size = 1, color=gray> possible </font><font size = 1, color=gray> try </font><font size = 1, color=gray> to </font><font size = 1, color=blue> see </font><font size = 1, color=gray> this </font><font size = 1, color=gray> film </font><font size = 1, color=gray> in </font><font size = 1, color=gray> a </font><font size = 1, color=gray> scope </font><font size = 1, color=gray> version </font><font size = 1, color=gray> as </font><font size = 1, color=gray> originally </font><font size = 1, color=gray> framed </font><font size = 1, color=gray> and </font><font size = 1, color=gray> visioned </font><font size = 1, color=gray> by </font><font size = 1, color=gray> Alan </font><font size = 1, color=gray> Shapiro </font><font size = 1, color=gray> and </font><font size = 1, color=gray> Bill </font><font size = 1, color=gray> Butler. </font><font size = 1, color=gray> Another </font><font size = 1, color=gray> very </font><font size = 1, color=gray> nice </font><font size = 1, color=red> thing </font><font size = 1, color=gray> is </font><font size = 1, color=gray> that </font><font size = 1, color=gray> Mr. </font><font size = 1, color=gray> Shapiro </font><font size = 1, color=gray> gave </font><font size = 1, color=gray> the </font><font size = 1, color=gray> \"original\" </font><font size = 1, color=gray> Sandy </font><font size = 1, color=gray> Ricks </font><font size = 1, color=gray> (Luke </font><font size = 1, color=gray> Halpin) </font><font size = 1, color=gray> a </font><font size = 1, color=gray> small </font><font size = 1, color=gray> part </font><font size = 1, color=gray> in </font><font size = 1, color=gray> this </font><font size = 1, color=gray> remake. </font><font size = 1, color=gray> He </font><font size = 1, color=gray> portrayed </font><font size = 1, color=gray> Bounty </font><font size = 1, color=gray> Fisherman </font><font size = 1, color=gray> #3 </font><font size = 1, color=gray> in </font><font size = 1, color=gray> this </font><font size = 1, color=gray> film. </font><font size = 1, color=gray> This </font><font size = 1, color=gray> was </font><font size = 1, color=gray> a </font><font size = 1, color=gray> very </font><font size = 1, color=gray> kind </font><font size = 1, color=gray> gesture </font><font size = 1, color=gray> on </font><font size = 1, color=gray> Mr. </font><font size = 1, color=gray> Shapiro's </font><font size = 1, color=gray> part! </font><font size = 1, color=gray> As </font><font size = 1, color=gray> you </font><font size = 1, color=gray> can </font><font size = 1, color=gray> tell </font><font size = 1, color=gray> I </font><font size = 1, color=gray> am </font><font size = 1, color=gray> a </font><font size = 1, color=gray> real </font><font size = 1, color=blue> true </font><font size = 1, color=gray> fan </font><font size = 1, color=gray> of </font><font size = 1, color=gray> this </font><font size = 1, color=gray> film. </font><font size = 1, color=gray> Sadly </font><font size = 1, color=gray> this </font><font size = 2, color=blue> beautiful </font><font size = 1, color=gray> film </font><font size = 1, color=gray> was </font><font size = 1, color=gray> met </font><font size = 1, color=gray> with </font><font size = 1, color=gray> harsh </font><font size = 1, color=gray> words </font><font size = 1, color=gray> by </font><font size = 1, color=gray> the </font><font size = 1, color=gray> majority </font><font size = 1, color=gray> of </font><font size = 1, color=red> movie </font><font size = 1, color=gray> critics. </font><font size = 1, color=gray> I </font><font size = 1, color=gray> originally </font><font size = 1, color=gray> saw </font><font size = 1, color=gray> this </font><font size = 1, color=gray> movie </font><font size = 1, color=gray> on </font><font size = 1, color=gray> my </font><font size = 1, color=gray> birthday, </font><font size = 1, color=blue> May </font><font size = 1, color=gray> 31st </font><font size = 1, color=gray> of </font><font size = 1, color=gray> 1996 </font><font size = 1, color=gray> in </font><font size = 1, color=gray> a </font><font size = 1, color=gray> movie </font><font size = 1, color=gray> theater. </font><font size = 1, color=gray> It </font><font size = 1, color=gray> meant </font><font size = 1, color=gray> a </font><font size = 1, color=gray> lot </font><font size = 1, color=gray> to </font><font size = 1, color=gray> me. </font><font size = 1, color=gray> I </font><font size = 1, color=gray> have </font><font size = 1, color=gray> it </font><font size = 1, color=gray> on </font><font size = 1, color=gray> numerous </font><font size = 1, color=gray> video </font><font size = 1, color=gray> versions. </font><font size = 1, color=gray> The </font><font size = 1, color=gray> VHS </font><font size = 1, color=gray> versions </font><font size = 1, color=gray> are </font><font size = 1, color=gray> in </font><font size = 1, color=gray> \"pan </font><font size = 1, color=gray> and </font><font size = 1, color=gray> scan\". </font><font size = 1, color=gray> The </font><font size = 1, color=gray> laserdisc </font><font size = 1, color=gray> version </font><font size = 1, color=gray> is </font><font size = 1, color=gray> \"letterboxed\" </font><font size = 1, color=gray> 2.35:1! </font><font size = 1, color=gray> I </font><font size = 2, color=red> even </font><font size = 1, color=gray> have </font><font size = 1, color=gray> a </font><font size = 1, color=gray> VCD </font><font size = 1, color=gray> in </font><font size = 1, color=gray> 2.35:1 </font><font size = 1, color=gray> from </font><font size = 1, color=gray> Hong </font><font size = 1, color=gray> Kong </font><font size = 1, color=gray> which </font><font size = 1, color=gray> is </font><font size = 1, color=gray> \"letterboxed\". </font><font size = 1, color=gray> But </font><font size = 1, color=gray> my </font><font size = 1, color=blue> most </font><font size = 1, color=gray> prized </font><font size = 1, color=gray> possession </font><font size = 1, color=gray> is </font><font size = 1, color=gray> an </font><font size = 1, color=gray> \"original\" </font><font size = 1, color=gray> 16mm </font><font size = 1, color=gray> theatrical </font><font size = 1, color=gray> feature </font><font size = 1, color=gray> print </font><font size = 1, color=gray> which </font><font size = 1, color=gray> I </font><font size = 2, color=blue> will </font><font size = 1, color=gray> treasure </font><font size = 1, color=gray> for </font><font size = 1, color=gray> the </font><font size = 1, color=gray> rest </font><font size = 1, color=gray> of </font><font size = 1, color=gray> my </font><font size = 1, color=gray> life! </font><font size = 1, color=gray> Thank </font><font size = 1, color=gray> you </font><font size = 1, color=gray> Mr. </font><font size = 1, color=gray> Shapiro, </font><font size = 1, color=gray> Elijah </font><font size = 1, color=gray> Wood, </font><font size = 1, color=gray> Paul </font><font size = 1, color=gray> Hogan </font><font size = 1, color=gray> and </font><font size = 1, color=gray> everyone </font><font size = 1, color=gray> involved </font><font size = 1, color=gray> for </font><font size = 1, color=gray> making </font><font size = 1, color=gray> this </font><font size = 1, color=gray> a </font><font size = 1, color=gray> memorable </font><font size = 1, color=gray> movie </font><font size = 1, color=gray> for </font><font size = 1, color=gray> me </font><font size = 1, color=gray> to </font><font size = 1, color=blue> enjoy!<br </font><font size = 1, color=gray> /><br </font><font size = 1, color=gray> />P.S. </font><font size = 1, color=gray> I </font><font size = 1, color=gray> must </font><font size = 1, color=gray> add </font><font size = 1, color=gray> that </font><font size = 1, color=gray> the </font><font size = 1, color=gray> quality </font><font size = 1, color=gray> of </font><font size = 1, color=gray> the </font><font size = 1, color=gray> Universal </font><font size = 1, color=gray> DVD </font><font size = 1, color=gray> is </font><font size = 1, color=gray> superb! </font><font size = 1, color=gray> It </font><font size = 1, color=gray> is </font><font size = 1, color=gray> the </font><font size = 1, color=gray> best </font><font size = 1, color=gray> DVD </font><font size = 1, color=gray> as </font><font size = 1, color=gray> far </font><font size = 1, color=gray> as </font><font size = 1, color=gray> quality </font><font size = 1, color=gray> I </font><font size = 1, color=gray> have </font><font size = 1, color=gray> ever </font><font size = 1, color=blue> seen. </font><font size = 1, color=gray> The </font><font size = 1, color=gray> color </font><font size = 1, color=gray> and </font><font size = 1, color=gray> resolution </font><font size = 1, color=gray> is </font><font size = 1, color=gray> spectacular. </font><font size = 1, color=gray> The </font><font size = 1, color=gray> soundtrack </font><font size = 1, color=gray> is </font><font size = 1, color=gray> great. </font><font size = 1, color=gray> I </font><font size = 1, color=gray> think </font><font size = 1, color=gray> Universal </font><font size = 1, color=gray> must </font><font size = 1, color=gray> have </font><font size = 1, color=gray> used </font><font size = 1, color=gray> the </font><font size = 1, color=gray> same </font><font size = 1, color=gray> transfer </font><font size = 1, color=gray> for </font><font size = 1, color=gray> the </font><font size = 1, color=gray> DVD </font><font size = 1, color=gray> that </font><font size = 1, color=red> they </font><font size = 1, color=gray> did </font><font size = 1, color=gray> for </font><font size = 1, color=gray> the </font><font size = 1, color=gray> laserdisc </font><font size = 1, color=gray> version. </font><font size = 1, color=gray> The </font><font size = 1, color=gray> 35mm </font><font size = 1, color=gray> scope </font><font size = 1, color=gray> print </font><font size = 1, color=gray> is </font><font size = 1, color=gray> \"mint\" </font><font size = 1, color=gray> and </font><font size = 1, color=gray> Alan's </font><font size = 1, color=gray> film </font><font size = 1, color=gray> really </font><font size = 1, color=gray> has </font><font size = 1, color=gray> a </font><font size = 3, color=blue> wonderful </font><font size = 1, color=gray> look </font><font size = 1, color=gray> to </font><font size = 1, color=gray> it. </font><font size = 1, color=gray> A </font><font size = 1, color=gray> great </font><font size = 1, color=gray> tribute </font><font size = 1, color=gray> to </font><font size = 1, color=gray> a </font><font size = 1, color=gray> wonderful </font><font size = 1, color=gray> film! </font><font size = 1, color=gray> The </font><font size = 1, color=gray> DVD's </font><font size = 1, color=gray> resolution </font><font size = 1, color=gray> is </font><font size = 1, color=gray> even </font><font size = 1, color=gray> superior </font><font size = 1, color=gray> to </font><font size = 1, color=gray> the </font><font size = 1, color=gray> laserdisc </font><font size = 1, color=gray> quality! </font><font size = 1, color=gray> It's </font><font size = 1, color=red> just </font><font size = 1, color=gray> spectacular! </font><font size = 1, color=gray> Thank </font><font size = 1, color=gray> you </font><font size = 1, color=gray> Universal </font><font size = 1, color=gray> Home </font><font size = 1, color=gray> Video </font><font size = 1, color=gray> for </font><font size = 1, color=gray> the </font><font size = 1, color=gray> great </font><font size = 1, color=gray> quality </font><font size = 1, color=gray> control </font><font size = 1, color=gray> and </font><font size = 1, color=gray> transfer. </font><font size = 1, color=blue> Many </font><font size = 1, color=gray> thank's </font><font size = 1, color=gray> for </font><font size = 1, color=gray> doing </font><font size = 1, color=gray> a </font><font size = 1, color=gray> superb </font><font size = 1, color=gray> job </font><font size = 1, color=gray> on </font><font size = 1, color=gray> this </font><font size = 1, color=gray> wonderful </font><font size = 1, color=gray> family </font><font size = 1, color=gray> film. </font><font size = 1, color=gray> Also </font><font size = 1, color=gray> many </font><font size = 1, color=gray> thank's </font><font size = 1, color=gray> to </font><font size = 1, color=gray> you </font><font size = 1, color=gray> Alan </font><font size = 1, color=gray> for </font><font size = 1, color=gray> all </font><font size = 1, color=gray> your </font><font size = 1, color=gray> extreme </font><font size = 1, color=gray> kindness </font><font size = 1, color=gray> to </font><font size = 1, color=gray> me!!! </font><font size = 1, color=gray> It's </font><font size = 1, color=gray> a </font><font size = 1, color=gray> real </font><font size = 1, color=gray> honor </font><font size = 1, color=gray> to </font><font size = 1, color=gray> know </font><font size = 1, color=gray> you!!! </font><font size = 1, color=gray> (Review </font><font size = 1, color=gray> Revised/Updated </font><font size = 1, color=gray> June </font><font size = 1, color=gray> 27, </font><font size = 1, color=gray> 2005) </font>"
      ],
      "text/plain": [
       "<coloredweighteddoc.ColoredWeightedDoc at 0x22a6d06e860>"
      ]
     },
     "metadata": {},
     "output_type": "display_data"
    }
   ],
   "source": [
    "j = np.argmax(probs[:,1])\n",
    "print(probs[j])\n",
    "print(neg_evi[j])\n",
    "print(pos_evi[j])\n",
    "display.display(ColoredWeightedDoc(test_corpus[j], words, weights, binary = True))"
   ]
  },
  {
   "cell_type": "markdown",
   "metadata": {},
   "source": [
    "### Highest Negative Evidence"
   ]
  },
  {
   "cell_type": "code",
   "execution_count": 531,
   "metadata": {
    "collapsed": false
   },
   "outputs": [
    {
     "name": "stdout",
     "output_type": "stream",
     "text": [
      "[  9.99126863e-01   8.73136873e-04]\n",
      "-9.57568735984\n",
      "2.53314264832\n"
     ]
    },
    {
     "data": {
      "text/html": [
       "<font size = 1, color=gray> Plankton, </font><font size = 1, color=red> or </font><font size = 1, color=gray> Creatures </font><font size = 1, color=gray> from </font><font size = 1, color=gray> the </font><font size = 1, color=gray> Abyss </font><font size = 1, color=blue> as </font><font size = 1, color=gray> I'm </font><font size = 1, color=gray> positive </font><font size = 1, color=blue> it's </font><font size = 1, color=blue> more </font><font size = 1, color=gray> commonly </font><font size = 1, color=gray> known </font><font size = 1, color=gray> as </font><font size = 1, color=gray> & </font><font size = 1, color=gray> filmed </font><font size = 1, color=gray> under </font><font size = 1, color=gray> as </font><font size = 1, color=gray> the </font><font size = 1, color=gray> title </font><font size = 1, color=gray> Creatures </font><font size = 1, color=gray> from </font><font size = 1, color=gray> the </font><font size = 1, color=gray> Abyss </font><font size = 1, color=gray> appears </font><font size = 1, color=gray> over </font><font size = 1, color=gray> a </font><font size = 1, color=gray> moving </font><font size = 1, color=gray> image </font><font size = 1, color=gray> & </font><font size = 1, color=gray> in </font><font size = 1, color=gray> the </font><font size = 1, color=gray> same </font><font size = 1, color=gray> font </font><font size = 1, color=gray> type </font><font size = 1, color=gray> as </font><font size = 1, color=gray> the </font><font size = 1, color=gray> rest </font><font size = 1, color=gray> of </font><font size = 1, color=gray> the </font><font size = 1, color=gray> credits, </font><font size = 1, color=gray> starts </font><font size = 1, color=gray> with </font><font size = 1, color=gray> five </font><font size = 1, color=gray> 20 </font><font size = 1, color=red> something </font><font size = 1, color=gray> kids, </font><font size = 1, color=gray> Mike </font><font size = 1, color=gray> (Clay </font><font size = 1, color=gray> Rogers) </font><font size = 1, color=blue> his </font><font size = 1, color=gray> girlfriend </font><font size = 1, color=gray> Margaret </font><font size = 1, color=gray> (Sharon </font><font size = 1, color=gray> Twomey), </font><font size = 1, color=gray> sisters </font><font size = 1, color=gray> Julie </font><font size = 1, color=gray> (Ann </font><font size = 1, color=gray> Wolf) </font><font size = 1, color=gray> & </font><font size = 1, color=gray> Dorothy </font><font size = 1, color=gray> (Loren </font><font size = 1, color=gray> DePalm) </font><font size = 1, color=gray> & </font><font size = 1, color=gray> an </font><font size = 2, color=red> annoying </font><font size = 1, color=gray> idiot </font><font size = 1, color=gray> named </font><font size = 1, color=gray> Bobby </font><font size = 1, color=gray> (Michael </font><font size = 1, color=gray> Bon) </font><font size = 1, color=gray> whom </font><font size = 1, color=gray> decide </font><font size = 1, color=gray> to </font><font size = 1, color=gray> all </font><font size = 1, color=gray> fit </font><font size = 1, color=gray> into </font><font size = 1, color=gray> a </font><font size = 1, color=gray> small </font><font size = 1, color=gray> rubber </font><font size = 1, color=gray> boat </font><font size = 1, color=gray> & </font><font size = 1, color=gray> head </font><font size = 1, color=gray> out </font><font size = 1, color=gray> to </font><font size = 1, color=gray> sea, </font><font size = 1, color=red> don't </font><font size = 1, color=gray> ask </font><font size = 1, color=red> why </font><font size = 1, color=gray> as </font><font size = 1, color=gray> I </font><font size = 1, color=gray> don't </font><font size = 1, color=gray> know. </font><font size = 1, color=red> Oh </font><font size = 1, color=gray> & </font><font size = 1, color=gray> the </font><font size = 1, color=gray> complete </font><font size = 1, color=gray> idiot </font><font size = 1, color=gray> Bobby </font><font size = 1, color=gray> left </font><font size = 1, color=gray> the </font><font size = 1, color=gray> petrol </font><font size = 1, color=gray> behind </font><font size = 1, color=gray> & </font><font size = 1, color=gray> never </font><font size = 1, color=gray> thought </font><font size = 1, color=gray> to </font><font size = 1, color=gray> tell </font><font size = 1, color=gray> anyone </font><font size = 1, color=red> so </font><font size = 1, color=gray> it </font><font size = 1, color=gray> comes </font><font size = 1, color=gray> as </font><font size = 2, color=red> no </font><font size = 4, color=blue> great </font><font size = 1, color=gray> surprise </font><font size = 1, color=gray> that </font><font size = 1, color=red> they </font><font size = 1, color=gray> end </font><font size = 1, color=gray> up </font><font size = 1, color=gray> stranded </font><font size = 1, color=gray> out </font><font size = 1, color=gray> at </font><font size = 1, color=gray> sea </font><font size = 1, color=gray> without </font><font size = 1, color=red> any </font><font size = 1, color=gray> petrol </font><font size = 1, color=gray> for </font><font size = 1, color=gray> the </font><font size = 1, color=gray> motor </font><font size = 1, color=gray> & </font><font size = 1, color=gray> to </font><font size = 1, color=red> make </font><font size = 1, color=gray> matters </font><font size = 3, color=red> worse </font><font size = 1, color=gray> they </font><font size = 1, color=gray> become </font><font size = 1, color=gray> trapped </font><font size = 1, color=gray> in </font><font size = 1, color=gray> a </font><font size = 1, color=gray> thunder </font><font size = 1, color=gray> storm </font><font size = 1, color=gray> & </font><font size = 1, color=gray> discover </font><font size = 1, color=gray> a </font><font size = 1, color=gray> dead </font><font size = 1, color=gray> body </font><font size = 1, color=gray> floating </font><font size = 1, color=gray> in </font><font size = 1, color=gray> the </font><font size = 1, color=gray> water. </font><font size = 1, color=gray> Shortly </font><font size = 1, color=gray> after </font><font size = 1, color=gray> their </font><font size = 1, color=gray> luck </font><font size = 1, color=red> seems </font><font size = 1, color=gray> to </font><font size = 1, color=gray> change </font><font size = 1, color=blue> when </font><font size = 1, color=gray> they </font><font size = 1, color=gray> come </font><font size = 1, color=gray> across </font><font size = 1, color=gray> a </font><font size = 1, color=gray> yacht </font><font size = 1, color=gray> & </font><font size = 1, color=gray> potential </font><font size = 1, color=gray> safety, </font><font size = 1, color=gray> in </font><font size = 1, color=gray> a </font><font size = 1, color=gray> flash </font><font size = 1, color=gray> everyone </font><font size = 1, color=gray> boards </font><font size = 1, color=gray> the </font><font size = 1, color=gray> yacht </font><font size = 1, color=gray> & </font><font size = 1, color=gray> begin </font><font size = 1, color=gray> to </font><font size = 1, color=gray> explore. </font><font size = 1, color=blue> First </font><font size = 1, color=gray> of </font><font size = 1, color=gray> all </font><font size = 1, color=gray> they </font><font size = 1, color=gray> find </font><font size = 1, color=gray> a </font><font size = 1, color=gray> scientific </font><font size = 1, color=gray> lab </font><font size = 1, color=gray> with </font><font size = 1, color=gray> various </font><font size = 1, color=gray> fish </font><font size = 1, color=gray> specimens </font><font size = 1, color=gray> & </font><font size = 1, color=gray> computer </font><font size = 1, color=gray> equipment, </font><font size = 1, color=red> then </font><font size = 1, color=gray> down </font><font size = 1, color=gray> below </font><font size = 1, color=gray> they </font><font size = 1, color=gray> find </font><font size = 1, color=gray> fully </font><font size = 1, color=gray> furnished </font><font size = 1, color=gray> & </font><font size = 1, color=gray> luxurious </font><font size = 1, color=gray> cabins. </font><font size = 1, color=gray> They </font><font size = 1, color=gray> find </font><font size = 1, color=gray> a </font><font size = 1, color=gray> chemist </font><font size = 1, color=gray> (Deran </font><font size = 1, color=gray> Sarafian) </font><font size = 1, color=blue> who </font><font size = 1, color=gray> appears </font><font size = 1, color=gray> mad </font><font size = 1, color=gray> & </font><font size = 1, color=gray> can't </font><font size = 1, color=gray> talk. </font><font size = 1, color=gray> They </font><font size = 1, color=gray> eat </font><font size = 1, color=gray> fish </font><font size = 1, color=gray> from </font><font size = 1, color=gray> the </font><font size = 1, color=gray> fridge </font><font size = 1, color=gray> which </font><font size = 1, color=blue> makes </font><font size = 1, color=gray> Dorothy </font><font size = 1, color=gray> puke </font><font size = 1, color=gray> up </font><font size = 1, color=gray> green </font><font size = 1, color=gray> vomit, </font><font size = 1, color=gray> beetles </font><font size = 1, color=gray> & </font><font size = 1, color=gray> slugs. </font><font size = 1, color=gray> They </font><font size = 1, color=gray> learn </font><font size = 1, color=gray> that </font><font size = 1, color=gray> these </font><font size = 1, color=gray> fish </font><font size = 1, color=gray> are </font><font size = 1, color=gray> living </font><font size = 1, color=gray> fossil's </font><font size = 1, color=gray> 1000's </font><font size = 1, color=gray> of </font><font size = 1, color=blue> years </font><font size = 1, color=gray> old </font><font size = 1, color=gray> & </font><font size = 1, color=gray> have </font><font size = 1, color=red> been </font><font size = 1, color=gray> contaminated </font><font size = 1, color=gray> by </font><font size = 1, color=gray> toxic </font><font size = 6, color=red> waste </font><font size = 1, color=gray> dumped </font><font size = 1, color=gray> in </font><font size = 1, color=gray> the </font><font size = 1, color=gray> sea </font><font size = 1, color=gray> & </font><font size = 1, color=gray> that </font><font size = 1, color=gray> they </font><font size = 1, color=gray> fly, </font><font size = 1, color=gray> mutate, </font><font size = 1, color=gray> bite </font><font size = 1, color=gray> & </font><font size = 1, color=gray> are </font><font size = 1, color=gray> generally </font><font size = 1, color=gray> unpleasant </font><font size = 1, color=gray> to </font><font size = 1, color=gray> be </font><font size = 1, color=gray> around. </font><font size = 1, color=gray> I </font><font size = 1, color=gray> really </font><font size = 1, color=gray> can't </font><font size = 1, color=gray> be </font><font size = 1, color=gray> bothered </font><font size = 1, color=gray> to </font><font size = 1, color=gray> go </font><font size = 1, color=gray> on </font><font size = 1, color=gray> with </font><font size = 1, color=gray> this </font><font size = 2, color=red> plot </font><font size = 1, color=gray> outline </font><font size = 1, color=gray> so </font><font size = 1, color=gray> I </font><font size = 1, color=gray> won't, </font><font size = 1, color=gray> here's </font><font size = 1, color=gray> what </font><font size = 1, color=gray> I </font><font size = 1, color=gray> think...<br </font><font size = 1, color=gray> /><br </font><font size = 1, color=gray> />This </font><font size = 1, color=gray> Italian </font><font size = 1, color=gray> production </font><font size = 1, color=red> was </font><font size = 1, color=gray> produced </font><font size = 1, color=gray> & </font><font size = 1, color=gray> directed </font><font size = 1, color=gray> by </font><font size = 1, color=gray> Massimiliano </font><font size = 1, color=gray> Cerchi </font><font size = 1, color=gray> under </font><font size = 1, color=gray> the </font><font size = 1, color=gray> pseudonym </font><font size = 1, color=gray> Al </font><font size = 1, color=gray> Passeri </font><font size = 1, color=gray> (I'd </font><font size = 1, color=gray> hide </font><font size = 1, color=gray> under </font><font size = 1, color=gray> a </font><font size = 1, color=blue> different </font><font size = 1, color=gray> name </font><font size = 1, color=red> if </font><font size = 1, color=gray> I </font><font size = 1, color=gray> made </font><font size = 1, color=gray> a </font><font size = 1, color=gray> film </font><font size = 1, color=gray> this </font><font size = 5, color=red> bad </font><font size = 1, color=gray> too) </font><font size = 1, color=gray> & </font><font size = 1, color=gray> I </font><font size = 1, color=gray> think </font><font size = 1, color=gray> Plankton </font><font size = 1, color=blue> is </font><font size = 1, color=gray> quite </font><font size = 1, color=gray> simply </font><font size = 1, color=gray> one </font><font size = 1, color=gray> of </font><font size = 1, color=gray> the </font><font size = 6, color=red> worst </font><font size = 1, color=blue> films </font><font size = 1, color=gray> ever, </font><font size = 1, color=red> there </font><font size = 1, color=gray> are </font><font size = 1, color=gray> so </font><font size = 1, color=blue> many </font><font size = 1, color=gray> things </font><font size = 1, color=gray> wrong </font><font size = 1, color=gray> with </font><font size = 1, color=gray> this </font><font size = 1, color=gray> film </font><font size = 1, color=gray> it's </font><font size = 1, color=gray> difficult </font><font size = 1, color=gray> to </font><font size = 1, color=gray> know </font><font size = 1, color=gray> where </font><font size = 1, color=gray> to </font><font size = 1, color=gray> start. </font><font size = 1, color=gray> First </font><font size = 1, color=gray> the </font><font size = 2, color=red> script </font><font size = 1, color=gray> by </font><font size = 1, color=gray> Richard </font><font size = 1, color=gray> Baumann </font><font size = 1, color=gray> is </font><font size = 1, color=gray> total </font><font size = 1, color=red> crap, </font><font size = 1, color=gray> it </font><font size = 1, color=gray> makes </font><font size = 1, color=gray> no </font><font size = 1, color=gray> sense </font><font size = 1, color=gray> whatsoever </font><font size = 1, color=gray> & </font><font size = 1, color=gray> is </font><font size = 1, color=gray> so </font><font size = 1, color=gray> slow </font><font size = 1, color=gray> & </font><font size = 2, color=red> dull </font><font size = 1, color=gray> it </font><font size = 1, color=gray> was </font><font size = 1, color=gray> torture </font><font size = 1, color=gray> for </font><font size = 1, color=gray> me </font><font size = 1, color=gray> to </font><font size = 1, color=gray> sit </font><font size = 1, color=gray> through. </font><font size = 1, color=gray> Why </font><font size = 1, color=red> would </font><font size = 1, color=gray> five </font><font size = 1, color=gray> people </font><font size = 1, color=red> just </font><font size = 1, color=gray> simply </font><font size = 1, color=gray> set </font><font size = 1, color=gray> sail </font><font size = 1, color=gray> for </font><font size = 1, color=gray> the </font><font size = 1, color=gray> middle </font><font size = 1, color=gray> of </font><font size = 1, color=gray> the </font><font size = 1, color=gray> ocean </font><font size = 1, color=gray> on </font><font size = 1, color=gray> a </font><font size = 1, color=gray> rubber </font><font size = 1, color=gray> dinghy </font><font size = 1, color=gray> barely </font><font size = 1, color=gray> big </font><font size = 1, color=red> enough </font><font size = 1, color=gray> to </font><font size = 1, color=gray> fit </font><font size = 1, color=gray> them </font><font size = 1, color=gray> all </font><font size = 1, color=gray> in? </font><font size = 1, color=gray> What </font><font size = 1, color=red> were </font><font size = 1, color=gray> they </font><font size = 1, color=gray> planning </font><font size = 1, color=gray> on </font><font size = 1, color=gray> doing </font><font size = 1, color=gray> exactly? </font><font size = 1, color=gray> Why </font><font size = 1, color=red> do </font><font size = 1, color=gray> we </font><font size = 1, color=gray> often </font><font size = 1, color=gray> get </font><font size = 1, color=gray> point-of-view </font><font size = 1, color=gray> shots </font><font size = 1, color=gray> from </font><font size = 1, color=gray> these </font><font size = 1, color=gray> fish </font><font size = 1, color=gray> creatures </font><font size = 1, color=gray> but </font><font size = 1, color=gray> they </font><font size = 1, color=gray> seem </font><font size = 1, color=gray> to </font><font size = 1, color=gray> be </font><font size = 1, color=gray> totally </font><font size = 1, color=gray> invisible </font><font size = 1, color=gray> to </font><font size = 1, color=gray> the </font><font size = 1, color=gray> characters </font><font size = 1, color=gray> as </font><font size = 1, color=gray> they </font><font size = 1, color=gray> are </font><font size = 1, color=gray> never </font><font size = 1, color=gray> shown </font><font size = 1, color=gray> on </font><font size = 1, color=gray> screen </font><font size = 2, color=red> even </font><font size = 1, color=gray> though </font><font size = 1, color=gray> they </font><font size = 1, color=gray> are </font><font size = 1, color=gray> right </font><font size = 1, color=gray> next </font><font size = 1, color=gray> to </font><font size = 1, color=gray> a </font><font size = 1, color=gray> character, </font><font size = 1, color=gray> & </font><font size = 1, color=gray> how </font><font size = 1, color=gray> do </font><font size = 1, color=gray> these </font><font size = 1, color=gray> fish </font><font size = 1, color=gray> get </font><font size = 1, color=gray> around </font><font size = 1, color=gray> the </font><font size = 1, color=gray> boat </font><font size = 1, color=gray> as </font><font size = 1, color=gray> there </font><font size = 1, color=gray> is </font><font size = 1, color=gray> no </font><font size = 1, color=gray> water </font><font size = 1, color=gray> for </font><font size = 1, color=gray> them </font><font size = 1, color=gray> to </font><font size = 1, color=gray> swim </font><font size = 1, color=gray> in? </font><font size = 1, color=gray> People's </font><font size = 1, color=gray> actions </font><font size = 1, color=gray> & </font><font size = 1, color=gray> reactions </font><font size = 1, color=gray> to </font><font size = 1, color=gray> things </font><font size = 1, color=gray> are </font><font size = 1, color=gray> all </font><font size = 1, color=gray> wrong, </font><font size = 1, color=gray> they </font><font size = 1, color=gray> constantly </font><font size = 1, color=gray> split </font><font size = 1, color=gray> up, </font><font size = 1, color=gray> they </font><font size = 1, color=gray> make </font><font size = 1, color=gray> bizarre </font><font size = 1, color=gray> decisions </font><font size = 1, color=gray> that </font><font size = 1, color=gray> simply </font><font size = 1, color=gray> don't </font><font size = 1, color=gray> make </font><font size = 1, color=gray> any </font><font size = 1, color=gray> sense </font><font size = 1, color=gray> in </font><font size = 1, color=gray> the </font><font size = 1, color=gray> situation </font><font size = 1, color=gray> they </font><font size = 1, color=gray> find </font><font size = 1, color=gray> themselves </font><font size = 1, color=gray> in </font><font size = 1, color=gray> & </font><font size = 1, color=gray> some </font><font size = 1, color=gray> of </font><font size = 1, color=gray> the </font><font size = 1, color=gray> dialogue </font><font size = 1, color=gray> is </font><font size = 1, color=gray> as </font><font size = 5, color=red> awful </font><font size = 1, color=gray> as </font><font size = 1, color=red> anything </font><font size = 1, color=gray> I've </font><font size = 1, color=gray> heard. </font><font size = 1, color=gray> I </font><font size = 1, color=red> could </font><font size = 1, color=gray> go </font><font size = 1, color=gray> on </font><font size = 1, color=gray> all </font><font size = 1, color=gray> day </font><font size = 1, color=gray> about </font><font size = 1, color=gray> all </font><font size = 1, color=gray> the </font><font size = 1, color=gray> plot </font><font size = 1, color=gray> holes </font><font size = 1, color=gray> & </font><font size = 1, color=red> ridiculous </font><font size = 1, color=gray> goings </font><font size = 1, color=gray> on </font><font size = 1, color=gray> but </font><font size = 1, color=gray> I'll </font><font size = 1, color=gray> run </font><font size = 1, color=gray> out </font><font size = 1, color=gray> of </font><font size = 1, color=gray> space </font><font size = 1, color=gray> if </font><font size = 1, color=gray> I </font><font size = 1, color=gray> do. </font><font size = 1, color=gray> The </font><font size = 1, color=gray> fish </font><font size = 1, color=gray> creatures </font><font size = 1, color=gray> themselves </font><font size = 1, color=gray> look </font><font size = 1, color=gray> awful, </font><font size = 1, color=gray> a </font><font size = 1, color=gray> mixture </font><font size = 1, color=gray> of </font><font size = 1, color=gray> rubbish </font><font size = 1, color=gray> rubber </font><font size = 1, color=gray> puppets </font><font size = 1, color=gray> & </font><font size = 1, color=gray> some </font><font size = 1, color=gray> really </font><font size = 1, color=gray> bad </font><font size = 1, color=gray> stop </font><font size = 1, color=gray> motion </font><font size = 1, color=gray> animation </font><font size = 1, color=gray> at </font><font size = 1, color=gray> the </font><font size = 1, color=gray> end, </font><font size = 1, color=gray> the </font><font size = 1, color=gray> scenes </font><font size = 1, color=gray> where </font><font size = 1, color=gray> they </font><font size = 1, color=gray> interact </font><font size = 1, color=gray> with </font><font size = 1, color=gray> the </font><font size = 1, color=gray> human </font><font size = 1, color=gray> cast </font><font size = 2, color=blue> also </font><font size = 1, color=gray> look </font><font size = 3, color=red> terrible </font><font size = 1, color=gray> with </font><font size = 1, color=gray> some </font><font size = 1, color=gray> bad </font><font size = 1, color=gray> super </font><font size = 1, color=gray> imposition. </font><font size = 1, color=gray> I </font><font size = 1, color=gray> have </font><font size = 1, color=gray> heard </font><font size = 1, color=gray> a </font><font size = 1, color=gray> lot </font><font size = 1, color=gray> of </font><font size = 1, color=gray> comments </font><font size = 1, color=gray> saying </font><font size = 1, color=gray> that </font><font size = 1, color=gray> Plankton </font><font size = 1, color=gray> is </font><font size = 1, color=gray> gory, </font><font size = 1, color=gray> don't </font><font size = 1, color=gray> make </font><font size = 1, color=gray> me </font><font size = 1, color=gray> laugh! </font><font size = 1, color=gray> Forget </font><font size = 1, color=gray> it </font><font size = 1, color=gray> there </font><font size = 1, color=gray> is </font><font size = 1, color=gray> virtually </font><font size = 1, color=gray> no </font><font size = 1, color=gray> blood </font><font size = 1, color=gray> or </font><font size = 1, color=gray> gore </font><font size = 1, color=gray> in </font><font size = 1, color=gray> Plankton </font><font size = 1, color=gray> whatsoever, </font><font size = 1, color=gray> there </font><font size = 1, color=gray> are </font><font size = 1, color=gray> a </font><font size = 1, color=gray> couple </font><font size = 1, color=gray> of </font><font size = 1, color=gray> slimy </font><font size = 1, color=gray> scenes </font><font size = 1, color=gray> when </font><font size = 1, color=gray> Bobby </font><font size = 1, color=gray> transforms </font><font size = 1, color=gray> into </font><font size = 1, color=gray> a </font><font size = 1, color=gray> fish </font><font size = 1, color=gray> monster </font><font size = 1, color=gray> while </font><font size = 1, color=gray> having </font><font size = 1, color=gray> sex </font><font size = 1, color=gray> with </font><font size = 1, color=gray> Julie </font><font size = 1, color=gray> but </font><font size = 1, color=gray> it's </font><font size = 1, color=gray> pretty </font><font size = 1, color=gray> brief </font><font size = 1, color=gray> & </font><font size = 1, color=gray> he </font><font size = 1, color=gray> doesn't </font><font size = 1, color=gray> kill </font><font size = 1, color=gray> her, </font><font size = 1, color=gray> he </font><font size = 1, color=gray> just </font><font size = 1, color=gray> sort </font><font size = 1, color=gray> of </font><font size = 1, color=gray> drips </font><font size = 1, color=gray> slime </font><font size = 1, color=gray> on </font><font size = 1, color=gray> her, </font><font size = 1, color=gray> grows </font><font size = 1, color=gray> a </font><font size = 1, color=gray> couple </font><font size = 1, color=gray> of </font><font size = 1, color=gray> tentacles </font><font size = 1, color=gray> & </font><font size = 1, color=gray> a </font><font size = 1, color=gray> fish </font><font size = 1, color=gray> head </font><font size = 1, color=gray> comes </font><font size = 1, color=gray> out </font><font size = 1, color=gray> of </font><font size = 1, color=gray> his </font><font size = 1, color=gray> mouth. </font><font size = 1, color=gray> Later </font><font size = 1, color=gray> on </font><font size = 1, color=gray> Julie's </font><font size = 1, color=gray> vagina </font><font size = 1, color=gray> starts </font><font size = 1, color=gray> to </font><font size = 1, color=gray> drip </font><font size = 1, color=gray> some </font><font size = 1, color=gray> dark </font><font size = 1, color=gray> slime </font><font size = 1, color=gray> but </font><font size = 1, color=gray> that's </font><font size = 1, color=gray> it, </font><font size = 1, color=gray> we </font><font size = 1, color=gray> never </font><font size = 1, color=gray> get </font><font size = 1, color=gray> to </font><font size = 1, color=gray> actually </font><font size = 1, color=blue> see </font><font size = 1, color=gray> what </font><font size = 1, color=gray> happens </font><font size = 1, color=gray> to </font><font size = 1, color=gray> her </font><font size = 1, color=gray> or </font><font size = 1, color=gray> what </font><font size = 1, color=gray> the </font><font size = 1, color=gray> slime </font><font size = 1, color=gray> is. </font><font size = 1, color=gray> Dorothy </font><font size = 1, color=blue> has </font><font size = 1, color=gray> a </font><font size = 1, color=gray> fish </font><font size = 1, color=gray> creature </font><font size = 1, color=gray> come </font><font size = 1, color=gray> out </font><font size = 1, color=gray> of </font><font size = 1, color=gray> her </font><font size = 1, color=gray> back, </font><font size = 1, color=red> off </font><font size = 1, color=gray> screen, </font><font size = 1, color=gray> & </font><font size = 1, color=gray> control </font><font size = 1, color=gray> her </font><font size = 1, color=gray> but </font><font size = 1, color=gray> again </font><font size = 1, color=gray> we </font><font size = 1, color=gray> never </font><font size = 1, color=gray> get </font><font size = 1, color=gray> to </font><font size = 1, color=gray> see </font><font size = 1, color=gray> what </font><font size = 1, color=gray> happens </font><font size = 1, color=gray> to </font><font size = 1, color=gray> her </font><font size = 1, color=gray> while </font><font size = 1, color=gray> Margaret </font><font size = 1, color=gray> commits </font><font size = 1, color=gray> suicide, </font><font size = 1, color=gray> a </font><font size = 2, color=blue> very </font><font size = 1, color=gray> brief </font><font size = 1, color=gray> shot </font><font size = 1, color=gray> of </font><font size = 1, color=gray> a </font><font size = 1, color=gray> plastic </font><font size = 1, color=gray> harpoon </font><font size = 1, color=gray> stuck </font><font size = 1, color=gray> to </font><font size = 1, color=gray> her </font><font size = 1, color=gray> forehead. </font><font size = 1, color=gray> Easily </font><font size = 1, color=gray> the </font><font size = 1, color=gray> grossest </font><font size = 1, color=gray> scene </font><font size = 1, color=gray> is </font><font size = 1, color=gray> when </font><font size = 1, color=gray> Dorothy </font><font size = 1, color=gray> pukes </font><font size = 1, color=gray> up </font><font size = 1, color=gray> that </font><font size = 1, color=gray> green </font><font size = 1, color=gray> stuff </font><font size = 1, color=gray> with </font><font size = 1, color=gray> what </font><font size = 1, color=red> looks </font><font size = 1, color=gray> like </font><font size = 1, color=gray> beetles </font><font size = 1, color=gray> & </font><font size = 1, color=gray> slugs </font><font size = 1, color=gray> in </font><font size = 1, color=gray> it. </font><font size = 1, color=gray> That's </font><font size = 1, color=gray> it, </font><font size = 1, color=red> only </font><font size = 1, color=gray> one </font><font size = 1, color=gray> person </font><font size = 1, color=gray> actually </font><font size = 1, color=gray> dies </font><font size = 1, color=gray> on </font><font size = 1, color=gray> screen </font><font size = 1, color=gray> & </font><font size = 1, color=gray> for </font><font size = 1, color=gray> the </font><font size = 1, color=blue> most </font><font size = 1, color=gray> part </font><font size = 1, color=gray> Plankton </font><font size = 1, color=gray> is </font><font size = 1, color=gray> quite </font><font size = 1, color=gray> tame </font><font size = 1, color=gray> & </font><font size = 1, color=gray> as </font><font size = 1, color=gray> exciting </font><font size = 1, color=gray> as </font><font size = 1, color=gray> watching </font><font size = 1, color=gray> paint </font><font size = 1, color=gray> dry </font><font size = 1, color=gray> & </font><font size = 1, color=gray> I </font><font size = 1, color=gray> nearly </font><font size = 1, color=gray> fell </font><font size = 1, color=gray> asleep </font><font size = 1, color=gray> it's </font><font size = 1, color=gray> so </font><font size = 4, color=red> boring. </font><font size = 1, color=gray> I </font><font size = 1, color=gray> can't </font><font size = 1, color=gray> see </font><font size = 1, color=gray> how </font><font size = 1, color=gray> anybody </font><font size = 1, color=gray> can </font><font size = 1, color=gray> like </font><font size = 1, color=gray> this </font><font size = 1, color=gray> total </font><font size = 1, color=gray> crap, </font><font size = 1, color=gray> I </font><font size = 1, color=gray> just </font><font size = 1, color=gray> can't. </font><font size = 1, color=gray> The </font><font size = 1, color=red> acting </font><font size = 1, color=gray> is </font><font size = 1, color=gray> awful, </font><font size = 1, color=gray> the </font><font size = 1, color=gray> dubbing </font><font size = 1, color=gray> is </font><font size = 1, color=gray> awful, </font><font size = 1, color=gray> the </font><font size = 1, color=gray> characters </font><font size = 1, color=gray> are </font><font size = 1, color=gray> awful </font><font size = 1, color=gray> & </font><font size = 1, color=gray> I </font><font size = 1, color=gray> hated </font><font size = 1, color=gray> all </font><font size = 1, color=gray> of </font><font size = 1, color=gray> them. </font><font size = 1, color=gray> Tecnically </font><font size = 1, color=gray> Plankton </font><font size = 1, color=gray> is </font><font size = 1, color=gray> predictably </font><font size = 1, color=gray> crap </font><font size = 1, color=gray> as </font><font size = 2, color=blue> well, </font><font size = 1, color=gray> with </font><font size = 1, color=gray> an </font><font size = 1, color=gray> estimated </font><font size = 1, color=gray> budget </font><font size = 1, color=gray> of </font><font size = 1, color=gray> only </font><font size = 1, color=gray> $250,000 </font><font size = 1, color=gray> all </font><font size = 1, color=gray> I </font><font size = 1, color=gray> can </font><font size = 1, color=gray> say </font><font size = 1, color=gray> is </font><font size = 1, color=gray> where </font><font size = 1, color=gray> did </font><font size = 1, color=gray> the </font><font size = 1, color=red> money </font><font size = 1, color=gray> go? </font><font size = 1, color=gray> The </font><font size = 1, color=gray> sets </font><font size = 1, color=gray> are </font><font size = 1, color=gray> monotonous </font><font size = 1, color=gray> & </font><font size = 1, color=gray> dull </font><font size = 1, color=gray> with </font><font size = 1, color=gray> one </font><font size = 1, color=gray> lab </font><font size = 1, color=gray> & </font><font size = 1, color=gray> a </font><font size = 1, color=gray> few </font><font size = 1, color=gray> cabins, </font><font size = 1, color=gray> the </font><font size = 1, color=gray> special </font><font size = 1, color=gray> effect's </font><font size = 1, color=gray> are </font><font size = 1, color=gray> bottom </font><font size = 1, color=gray> of </font><font size = 1, color=gray> the </font><font size = 1, color=gray> barrel </font><font size = 1, color=gray> stuff </font><font size = 1, color=gray> including </font><font size = 1, color=gray> the </font><font size = 1, color=gray> most </font><font size = 1, color=gray> fake </font><font size = 1, color=gray> looking </font><font size = 1, color=gray> exploding </font><font size = 1, color=gray> boat </font><font size = 1, color=gray> ever, </font><font size = 1, color=gray> the </font><font size = 1, color=gray> cinematography </font><font size = 1, color=gray> is </font><font size = 1, color=gray> bland, </font><font size = 1, color=gray> the </font><font size = 1, color=gray> music </font><font size = 1, color=gray> sucks </font><font size = 1, color=gray> there </font><font size = 1, color=gray> is </font><font size = 1, color=gray> zero </font><font size = 1, color=gray> atmosphere </font><font size = 1, color=gray> or </font><font size = 1, color=gray> tension </font><font size = 1, color=gray> & </font><font size = 1, color=gray> as </font><font size = 1, color=gray> a </font><font size = 1, color=gray> whole </font><font size = 1, color=gray> Plankton, </font><font size = 1, color=gray> like </font><font size = 1, color=gray> it's </font><font size = 1, color=gray> name </font><font size = 1, color=gray> sake, </font><font size = 1, color=gray> is </font><font size = 1, color=gray> as </font><font size = 1, color=gray> low </font><font size = 1, color=gray> in </font><font size = 1, color=gray> the </font><font size = 1, color=gray> food </font><font size = 1, color=gray> chain </font><font size = 1, color=gray> as </font><font size = 1, color=gray> it </font><font size = 1, color=gray> could </font><font size = 1, color=gray> possibly </font><font size = 1, color=gray> be. </font><font size = 1, color=gray> I </font><font size = 1, color=gray> hate </font><font size = 1, color=gray> Plankton, </font><font size = 1, color=gray> it's </font><font size = 1, color=gray> awful </font><font size = 1, color=gray> in </font><font size = 1, color=gray> every </font><font size = 1, color=gray> single </font><font size = 1, color=gray> aspect </font><font size = 1, color=gray> of </font><font size = 1, color=gray> it's </font><font size = 1, color=gray> overlong </font><font size = 1, color=gray> 86 </font><font size = 1, color=gray> minute </font><font size = 1, color=gray> duration. </font><font size = 1, color=gray> Do </font><font size = 1, color=gray> yourself </font><font size = 1, color=gray> a </font><font size = 1, color=gray> favour </font><font size = 1, color=gray> & </font><font size = 1, color=red> avoid </font><font size = 1, color=gray> this </font><font size = 1, color=gray> one </font><font size = 1, color=gray> at </font><font size = 1, color=gray> all </font><font size = 1, color=gray> costs </font><font size = 1, color=gray> unless </font><font size = 1, color=gray> your </font><font size = 1, color=gray> either </font><font size = 1, color=gray> a </font><font size = 1, color=gray> masochist </font><font size = 1, color=gray> or </font><font size = 1, color=gray> insomniac. </font>"
      ],
      "text/plain": [
       "<coloredweighteddoc.ColoredWeightedDoc at 0x22ac0bed588>"
      ]
     },
     "metadata": {},
     "output_type": "display_data"
    }
   ],
   "source": [
    "j = np.argmin(neg_evi)\n",
    "print(probs[j])\n",
    "print(neg_evi[j])\n",
    "print(pos_evi[j])\n",
    "display.display(ColoredWeightedDoc(test_corpus[j], words, weights, binary = True))"
   ]
  },
  {
   "cell_type": "markdown",
   "metadata": {},
   "source": [
    "### Highest Positive Evidence"
   ]
  },
  {
   "cell_type": "code",
   "execution_count": 532,
   "metadata": {
    "collapsed": false
   },
   "outputs": [
    {
     "name": "stdout",
     "output_type": "stream",
     "text": [
      "[ 0.0065093  0.9934907]\n",
      "-2.03764192191\n",
      "7.06563495053\n"
     ]
    },
    {
     "data": {
      "text/html": [
       "<font size = 1, color=gray> 78 </font><font size = 1, color=blue> years </font><font size = 1, color=gray> ago...the </font><font size = 1, color=gray> premiere </font><font size = 1, color=gray> of </font><font size = 1, color=gray> \"Anna </font><font size = 1, color=gray> Christie\" </font><font size = 1, color=gray> advertised </font><font size = 1, color=gray> by </font><font size = 1, color=gray> the </font><font size = 1, color=gray> slogan </font><font size = 1, color=gray> \"Garbo </font><font size = 1, color=gray> Talks!\" </font><font size = 1, color=gray> The </font><font size = 1, color=gray> film </font><font size = 1, color=gray> runs </font><font size = 1, color=gray> for </font><font size = 1, color=gray> 16 </font><font size = 2, color=red> minutes </font><font size = 1, color=blue> and </font><font size = 1, color=gray> the </font><font size = 1, color=gray> viewers </font><font size = 1, color=gray> reach </font><font size = 1, color=gray> the </font><font size = 1, color=gray> climax </font><font size = 1, color=gray> of </font><font size = 1, color=gray> curiosity: </font><font size = 1, color=gray> Greta </font><font size = 1, color=gray> enters </font><font size = 1, color=gray> the </font><font size = 1, color=gray> bar </font><font size = 1, color=gray> and </font><font size = 1, color=gray> gets </font><font size = 1, color=gray> through </font><font size = 1, color=gray> a </font><font size = 1, color=gray> long </font><font size = 1, color=gray> awaited </font><font size = 1, color=gray> transfer </font><font size = 1, color=gray> from </font><font size = 1, color=gray> silence </font><font size = 1, color=gray> into </font><font size = 1, color=gray> sound: </font><font size = 1, color=gray> a </font><font size = 1, color=gray> few </font><font size = 1, color=gray> seconds </font><font size = 1, color=gray> closing </font><font size = 1, color=gray> her </font><font size = 1, color=gray> silent </font><font size = 1, color=gray> era </font><font size = 1, color=gray> and, </font><font size = 1, color=gray> at </font><font size = 1, color=gray> last, </font><font size = 1, color=gray> Greta </font><font size = 1, color=gray> Garbo </font><font size = 1, color=gray> says </font><font size = 1, color=gray> a </font><font size = 1, color=gray> historic </font><font size = 1, color=gray> line: </font><font size = 1, color=gray> \"Gimme </font><font size = 1, color=gray> a </font><font size = 1, color=gray> whiskey, </font><font size = 1, color=gray> ginger </font><font size = 1, color=gray> ale </font><font size = 1, color=gray> on </font><font size = 1, color=gray> the </font><font size = 1, color=gray> side </font><font size = 1, color=gray> and </font><font size = 1, color=red> don't </font><font size = 1, color=gray> be </font><font size = 1, color=gray> stingy, </font><font size = 1, color=gray> baby!\" </font><font size = 1, color=gray> <br </font><font size = 1, color=gray> /><br </font><font size = 1, color=gray> />\"Anna </font><font size = 1, color=gray> Christie\" </font><font size = 1, color=gray> (1930) </font><font size = 1, color=blue> is </font><font size = 1, color=gray> the </font><font size = 1, color=red> movie </font><font size = 1, color=gray> by </font><font size = 1, color=gray> Clarence </font><font size = 1, color=gray> Brown </font><font size = 1, color=gray> that </font><font size = 1, color=gray> introduced </font><font size = 1, color=gray> a </font><font size = 4, color=blue> great </font><font size = 1, color=gray> silent </font><font size = 1, color=gray> star </font><font size = 1, color=gray> Greta </font><font size = 1, color=gray> Garbo </font><font size = 1, color=gray> to </font><font size = 1, color=gray> talkies. </font><font size = 1, color=gray> Nowadays, </font><font size = 1, color=gray> we </font><font size = 1, color=gray> can </font><font size = 1, color=red> only </font><font size = 1, color=gray> imagine </font><font size = 1, color=gray> what </font><font size = 1, color=gray> serious </font><font size = 1, color=gray> transfer </font><font size = 1, color=blue> it </font><font size = 1, color=red> was </font><font size = 1, color=gray> for </font><font size = 1, color=gray> actors </font><font size = 1, color=gray> and </font><font size = 1, color=gray> actresses. </font><font size = 1, color=gray> The </font><font size = 1, color=gray> careers </font><font size = 1, color=gray> of </font><font size = 1, color=blue> many </font><font size = 1, color=red> were </font><font size = 1, color=gray> bound </font><font size = 1, color=gray> to </font><font size = 1, color=gray> end </font><font size = 1, color=gray> - </font><font size = 1, color=red> something </font><font size = 1, color=gray> we </font><font size = 1, color=gray> hardly </font><font size = 1, color=red> or </font><font size = 1, color=red> not </font><font size = 1, color=gray> at </font><font size = 1, color=gray> all </font><font size = 1, color=blue> see </font><font size = 1, color=gray> at </font><font size = 1, color=gray> present. </font><font size = 1, color=gray> And </font><font size = 1, color=gray> it </font><font size = 1, color=gray> was </font><font size = 2, color=red> no </font><font size = 1, color=gray> coincidence </font><font size = 1, color=gray> that </font><font size = 1, color=gray> it </font><font size = 1, color=gray> was </font><font size = 1, color=gray> Clarence </font><font size = 1, color=gray> Brown </font><font size = 1, color=blue> who </font><font size = 1, color=gray> directed </font><font size = 1, color=gray> the </font><font size = 1, color=blue> first </font><font size = 1, color=gray> talkie </font><font size = 1, color=gray> with </font><font size = 1, color=gray> the </font><font size = 1, color=gray> Swedish </font><font size = 1, color=gray> beauty. </font><font size = 1, color=gray> Garbo </font><font size = 1, color=gray> trusted </font><font size = 1, color=gray> the </font><font size = 1, color=gray> director </font><font size = 1, color=gray> after </font><font size = 1, color=gray> two </font><font size = 1, color=gray> of </font><font size = 1, color=blue> his </font><font size = 1, color=gray> great </font><font size = 1, color=gray> silent </font><font size = 1, color=gray> productions, </font><font size = 1, color=gray> FLESH </font><font size = 1, color=gray> AND </font><font size = 1, color=gray> THE </font><font size = 1, color=gray> DEVIL </font><font size = 1, color=gray> (1926) </font><font size = 1, color=gray> and </font><font size = 1, color=gray> A </font><font size = 1, color=gray> WOMAN </font><font size = 1, color=gray> OF </font><font size = 1, color=gray> AFFAIRS </font><font size = 1, color=gray> (1928): </font><font size = 1, color=gray> movies </font><font size = 1, color=gray> that </font><font size = 1, color=gray> achieved </font><font size = 1, color=gray> a </font><font size = 1, color=gray> smashing </font><font size = 1, color=gray> success </font><font size = 1, color=gray> at </font><font size = 1, color=gray> the </font><font size = 1, color=gray> box </font><font size = 1, color=gray> office, </font><font size = 2, color=blue> both </font><font size = 1, color=gray> with </font><font size = 1, color=gray> Garbo </font><font size = 1, color=gray> in </font><font size = 1, color=gray> the </font><font size = 1, color=gray> lead. </font><font size = 1, color=gray> <br </font><font size = 1, color=gray> /><br </font><font size = 1, color=gray> />But </font><font size = 1, color=gray> we </font><font size = 1, color=gray> are </font><font size = 1, color=gray> in </font><font size = 1, color=gray> 2008 </font><font size = 1, color=gray> and </font><font size = 1, color=gray> that </font><font size = 1, color=gray> fact </font><font size = 1, color=gray> about </font><font size = 1, color=gray> the </font><font size = 1, color=gray> movie, </font><font size = 1, color=gray> now </font><font size = 1, color=gray> purely </font><font size = 1, color=gray> historical, </font><font size = 1, color=gray> appears </font><font size = 1, color=gray> to </font><font size = 1, color=gray> be </font><font size = 1, color=gray> of </font><font size = 1, color=gray> minor </font><font size = 1, color=gray> importance. </font><font size = 1, color=gray> The </font><font size = 1, color=gray> question </font><font size = 1, color=gray> for </font><font size = 2, color=blue> today's </font><font size = 1, color=gray> viewer </font><font size = 1, color=gray> is </font><font size = 1, color=gray> not </font><font size = 1, color=gray> what </font><font size = 1, color=gray> Garbo's </font><font size = 1, color=gray> voice </font><font size = 1, color=gray> sounds </font><font size = 1, color=gray> like </font><font size = 1, color=gray> but </font><font size = 1, color=red> if </font><font size = 1, color=gray> the </font><font size = 1, color=gray> movie </font><font size = 1, color=gray> is </font><font size = 2, color=blue> still </font><font size = 1, color=gray> watchable </font><font size = 1, color=gray> after </font><font size = 1, color=gray> these </font><font size = 1, color=gray> 78 </font><font size = 1, color=gray> years. </font><font size = 1, color=gray> In </font><font size = 1, color=gray> other </font><font size = 1, color=gray> words, </font><font size = 1, color=gray> we </font><font size = 1, color=gray> all </font><font size = 1, color=gray> strive </font><font size = 1, color=gray> to </font><font size = 1, color=gray> answer </font><font size = 1, color=gray> the </font><font size = 1, color=gray> question </font><font size = 1, color=gray> if </font><font size = 1, color=gray> the </font><font size = 1, color=gray> movie </font><font size = 1, color=blue> has </font><font size = 1, color=gray> stood </font><font size = 1, color=gray> a </font><font size = 1, color=gray> test </font><font size = 1, color=gray> of </font><font size = 1, color=blue> time. </font><font size = 1, color=gray> Has </font><font size = 1, color=gray> it?<br </font><font size = 1, color=gray> /><br </font><font size = 1, color=blue> />When </font><font size = 1, color=gray> I </font><font size = 1, color=gray> recently </font><font size = 1, color=gray> watched </font><font size = 1, color=gray> it, </font><font size = 1, color=gray> I </font><font size = 1, color=gray> came </font><font size = 1, color=gray> into </font><font size = 1, color=gray> conclusion </font><font size = 1, color=gray> that, </font><font size = 1, color=gray> except </font><font size = 1, color=gray> for </font><font size = 1, color=gray> some </font><font size = 1, color=gray> minor </font><font size = 1, color=gray> technical </font><font size = 1, color=gray> aspects, </font><font size = 1, color=gray> including </font><font size = 1, color=gray> static </font><font size = 1, color=gray> camera, </font><font size = 1, color=gray> \"Anna </font><font size = 1, color=gray> Christie\" </font><font size = 1, color=gray> is </font><font size = 1, color=gray> still </font><font size = 2, color=blue> very </font><font size = 1, color=gray> entertaining. </font><font size = 1, color=gray> It's, </font><font size = 1, color=gray> on </font><font size = 1, color=gray> the </font><font size = 1, color=gray> one </font><font size = 1, color=gray> hand, </font><font size = 1, color=gray> a </font><font size = 3, color=blue> wonderful </font><font size = 1, color=blue> story </font><font size = 1, color=gray> of </font><font size = 1, color=gray> a </font><font size = 1, color=blue> life, </font><font size = 1, color=gray> of </font><font size = 1, color=gray> a </font><font size = 1, color=gray> reality </font><font size = 1, color=gray> that </font><font size = 1, color=gray> the </font><font size = 1, color=blue> young </font><font size = 1, color=gray> woman </font><font size = 1, color=gray> faces </font><font size = 1, color=gray> (being </font><font size = 1, color=gray> based </font><font size = 1, color=gray> on </font><font size = 1, color=gray> Eugene </font><font size = 1, color=gray> O\"Neill's </font><font size = 1, color=gray> play), </font><font size = 1, color=gray> and, </font><font size = 1, color=gray> on </font><font size = 1, color=gray> the </font><font size = 1, color=gray> other </font><font size = 1, color=gray> hand, </font><font size = 1, color=gray> an </font><font size = 1, color=gray> artistic </font><font size = 1, color=gray> manifestation </font><font size = 1, color=gray> of </font><font size = 1, color=blue> true </font><font size = 1, color=gray> magnificence </font><font size = 1, color=gray> in </font><font size = 1, color=gray> the </font><font size = 1, color=gray> field </font><font size = 1, color=gray> of </font><font size = 1, color=gray> direction </font><font size = 1, color=gray> and </font><font size = 1, color=red> acting. </font><font size = 1, color=gray> Let </font><font size = 1, color=gray> me </font><font size = 1, color=gray> analyze </font><font size = 1, color=gray> these </font><font size = 1, color=gray> two </font><font size = 1, color=gray> aspects </font><font size = 1, color=gray> in </font><font size = 1, color=gray> separate </font><font size = 1, color=gray> paragraphs.<br </font><font size = 1, color=gray> /><br </font><font size = 1, color=gray> />CONTENT: </font><font size = 1, color=gray> Chris </font><font size = 1, color=gray> Christopherson </font><font size = 1, color=gray> (George </font><font size = 1, color=gray> F </font><font size = 1, color=gray> Marion), </font><font size = 1, color=gray> a </font><font size = 1, color=gray> heavy </font><font size = 1, color=gray> drinker, </font><font size = 1, color=gray> lives </font><font size = 1, color=gray> a </font><font size = 1, color=gray> life </font><font size = 1, color=gray> of </font><font size = 1, color=gray> a </font><font size = 1, color=gray> sailor, </font><font size = 1, color=gray> on </font><font size = 1, color=gray> a </font><font size = 1, color=gray> barge. </font><font size = 1, color=gray> Although </font><font size = 1, color=gray> his </font><font size = 1, color=gray> days </font><font size = 1, color=gray> are </font><font size = 1, color=gray> filled </font><font size = 1, color=gray> with </font><font size = 1, color=gray> sorrows, </font><font size = 1, color=gray> he </font><font size = 1, color=gray> is </font><font size = 1, color=gray> consoled </font><font size = 1, color=gray> by </font><font size = 1, color=gray> a </font><font size = 1, color=gray> letter </font><font size = 1, color=gray> from </font><font size = 1, color=gray> his </font><font size = 1, color=gray> daughter </font><font size = 1, color=gray> Anna </font><font size = 1, color=gray> (Garbo) </font><font size = 1, color=gray> whom </font><font size = 1, color=gray> he </font><font size = 1, color=gray> hasn't </font><font size = 1, color=blue> seen </font><font size = 1, color=gray> for </font><font size = 1, color=gray> 15 </font><font size = 1, color=gray> years. </font><font size = 1, color=gray> She </font><font size = 1, color=gray> says </font><font size = 1, color=gray> that </font><font size = 1, color=gray> she </font><font size = 2, color=blue> will </font><font size = 1, color=gray> come </font><font size = 1, color=gray> back </font><font size = 1, color=gray> to </font><font size = 1, color=blue> him. </font><font size = 1, color=gray> He </font><font size = 1, color=gray> starts </font><font size = 1, color=gray> to </font><font size = 1, color=gray> change </font><font size = 1, color=gray> everything </font><font size = 1, color=gray> for </font><font size = 1, color=red> better; </font><font size = 1, color=gray> however </font><font size = 1, color=gray> forgets </font><font size = 1, color=gray> that </font><font size = 1, color=gray> his </font><font size = 1, color=gray> daughter </font><font size = 1, color=gray> is </font><font size = 1, color=gray> no </font><font size = 1, color=gray> longer </font><font size = 1, color=gray> a </font><font size = 1, color=gray> child </font><font size = 1, color=gray> lacking </font><font size = 1, color=gray> experience </font><font size = 1, color=gray> but </font><font size = 1, color=gray> a </font><font size = 1, color=gray> 23 </font><font size = 1, color=gray> year-old </font><font size = 1, color=gray> woman </font><font size = 1, color=gray> who </font><font size = 1, color=gray> has </font><font size = 1, color=gray> got </font><font size = 1, color=gray> through </font><font size = 1, color=gray> various </font><font size = 1, color=gray> sorts </font><font size = 1, color=gray> of </font><font size = 1, color=gray> things </font><font size = 1, color=gray> on </font><font size = 1, color=gray> a </font><font size = 1, color=gray> farm </font><font size = 1, color=gray> in </font><font size = 1, color=gray> Minnessota </font><font size = 1, color=gray> where </font><font size = 1, color=gray> she </font><font size = 1, color=gray> lived </font><font size = 1, color=gray> and </font><font size = 1, color=gray> worked. </font><font size = 1, color=gray> Moreover, </font><font size = 1, color=gray> he </font><font size = 1, color=gray> forgets </font><font size = 1, color=gray> that </font><font size = 1, color=gray> she </font><font size = 1, color=gray> has </font><font size = 1, color=gray> a </font><font size = 1, color=gray> right </font><font size = 1, color=gray> to </font><font size = 1, color=gray> accept </font><font size = 1, color=gray> another </font><font size = 1, color=gray> kind </font><font size = 1, color=gray> of </font><font size = 1, color=gray> male </font><font size = 2, color=blue> love </font><font size = 1, color=gray> in </font><font size = 1, color=gray> her </font><font size = 1, color=gray> life... </font><font size = 1, color=gray> This </font><font size = 1, color=gray> brief </font><font size = 1, color=gray> presentation </font><font size = 1, color=gray> of </font><font size = 1, color=gray> the </font><font size = 1, color=gray> content </font><font size = 1, color=gray> not </font><font size = 1, color=gray> from </font><font size = 1, color=gray> the </font><font size = 1, color=gray> perspective </font><font size = 1, color=gray> of </font><font size = 1, color=gray> the </font><font size = 1, color=gray> main </font><font size = 1, color=gray> character </font><font size = 1, color=gray> but </font><font size = 1, color=gray> the </font><font size = 1, color=gray> one </font><font size = 1, color=gray> which </font><font size = 1, color=gray> is </font><font size = 1, color=gray> introduced </font><font size = 1, color=gray> to </font><font size = 1, color=gray> us </font><font size = 1, color=gray> sooner </font><font size = 1, color=gray> than </font><font size = 1, color=gray> Anna </font><font size = 1, color=gray> (her </font><font size = 1, color=gray> father </font><font size = 1, color=gray> Chris) </font><font size = 1, color=blue> makes </font><font size = 1, color=gray> you </font><font size = 1, color=gray> realize </font><font size = 1, color=gray> how </font><font size = 1, color=gray> universal </font><font size = 1, color=gray> it </font><font size = 1, color=gray> is. </font><font size = 1, color=gray> Simply </font><font size = 1, color=gray> no </font><font size = 1, color=gray> letter </font><font size = 1, color=gray> from </font><font size = 1, color=gray> the </font><font size = 1, color=gray> whole </font><font size = 1, color=gray> text </font><font size = 1, color=gray> that </font><font size = 1, color=gray> life </font><font size = 1, color=gray> appears </font><font size = 1, color=gray> to </font><font size = 1, color=gray> be </font><font size = 1, color=gray> has </font><font size = 1, color=red> been </font><font size = 1, color=gray> erased </font><font size = 1, color=gray> after </font><font size = 1, color=gray> all </font><font size = 1, color=gray> these </font><font size = 1, color=gray> years. </font><font size = 1, color=gray> Cases </font><font size = 1, color=gray> discussed </font><font size = 1, color=gray> here </font><font size = 1, color=gray> in </font><font size = 1, color=gray> 1930 </font><font size = 1, color=gray> are </font><font size = 1, color=gray> still </font><font size = 1, color=gray> meaningful </font><font size = 1, color=gray> and </font><font size = 1, color=gray> valid...<br </font><font size = 1, color=gray> /><br </font><font size = 1, color=blue> />PERFORMANCES. </font><font size = 1, color=red> There </font><font size = 1, color=gray> are </font><font size = 1, color=gray> not </font><font size = 1, color=gray> many </font><font size = 1, color=gray> characters </font><font size = 1, color=gray> in </font><font size = 1, color=gray> the </font><font size = 1, color=gray> movie, </font><font size = 1, color=gray> but </font><font size = 1, color=gray> there </font><font size = 1, color=gray> are </font><font size = 1, color=gray> two </font><font size = 1, color=gray> that </font><font size = 1, color=gray> really </font><font size = 1, color=gray> shine </font><font size = 1, color=gray> in </font><font size = 1, color=gray> the </font><font size = 1, color=gray> roles. </font><font size = 1, color=gray> It </font><font size = 1, color=gray> is </font><font size = 1, color=gray> of </font><font size = 1, color=gray> course </font><font size = 1, color=gray> Greta </font><font size = 1, color=gray> Garbo </font><font size = 1, color=gray> herself </font><font size = 1, color=gray> who </font><font size = 1, color=gray> did </font><font size = 1, color=gray> something </font><font size = 1, color=gray> extraordinary </font><font size = 1, color=gray> in </font><font size = 1, color=gray> her </font><font size = 1, color=gray> 15 </font><font size = 1, color=gray> year-long </font><font size = 1, color=gray> phenomenon, </font><font size = 1, color=gray> the </font><font size = 1, color=gray> presence </font><font size = 1, color=gray> that </font><font size = 1, color=gray> strongly </font><font size = 1, color=gray> marked </font><font size = 1, color=gray> the </font><font size = 1, color=gray> history </font><font size = 1, color=gray> of </font><font size = 1, color=gray> early </font><font size = 1, color=gray> cinema </font><font size = 1, color=gray> (something </font><font size = 1, color=gray> I </font><font size = 1, color=gray> have </font><font size = 1, color=gray> already </font><font size = 1, color=gray> discussed </font><font size = 1, color=gray> in </font><font size = 1, color=gray> many </font><font size = 1, color=gray> of </font><font size = 1, color=blue> my </font><font size = 1, color=gray> earlier </font><font size = 1, color=gray> comments </font><font size = 1, color=gray> on </font><font size = 1, color=gray> her </font><font size = 1, color=blue> films). </font><font size = 1, color=gray> But </font><font size = 1, color=gray> here, </font><font size = 1, color=gray> Garbo </font><font size = 1, color=gray> is </font><font size = 1, color=gray> slightly </font><font size = 1, color=blue> different. </font><font size = 1, color=gray> I </font><font size = 1, color=gray> admit </font><font size = 1, color=gray> that </font><font size = 1, color=gray> there </font><font size = 1, color=gray> are </font><font size = 1, color=gray> moments </font><font size = 1, color=gray> in </font><font size = 1, color=gray> this </font><font size = 1, color=gray> movie </font><font size = 1, color=gray> when </font><font size = 1, color=gray> she </font><font size = 1, color=gray> does </font><font size = 1, color=gray> not </font><font size = 1, color=gray> feel </font><font size = 1, color=gray> very </font><font size = 1, color=gray> comfortable </font><font size = 1, color=gray> with </font><font size = 1, color=gray> her </font><font size = 1, color=gray> role. </font><font size = 1, color=gray> That </font><font size = 1, color=red> seems </font><font size = 1, color=gray> to </font><font size = 1, color=gray> be </font><font size = 1, color=gray> caused </font><font size = 1, color=gray> by </font><font size = 1, color=gray> her </font><font size = 1, color=blue> new </font><font size = 1, color=gray> experience </font><font size = 1, color=gray> with </font><font size = 1, color=gray> sound </font><font size = 1, color=gray> in </font><font size = 1, color=gray> English; </font><font size = 1, color=gray> however, </font><font size = 1, color=gray> her </font><font size = 1, color=blue> performance </font><font size = 1, color=gray> is, </font><font size = 1, color=blue> as </font><font size = 2, color=blue> always, </font><font size = 1, color=gray> genuine </font><font size = 1, color=gray> and </font><font size = 1, color=gray> unique. </font><font size = 1, color=gray> But </font><font size = 1, color=gray> that </font><font size = 1, color=gray> is </font><font size = 1, color=gray> what </font><font size = 1, color=gray> everyone </font><font size = 1, color=gray> has </font><font size = 1, color=gray> expected </font><font size = 1, color=gray> from </font><font size = 1, color=gray> Garbo. </font><font size = 1, color=gray> The </font><font size = 1, color=gray> true </font><font size = 1, color=gray> surprise </font><font size = 1, color=gray> of </font><font size = 1, color=gray> the </font><font size = 1, color=gray> movie </font><font size = 1, color=gray> for </font><font size = 1, color=gray> the </font><font size = 1, color=gray> 1930 </font><font size = 1, color=gray> viewers </font><font size = 1, color=gray> and </font><font size = 2, color=blue> also </font><font size = 1, color=gray> for </font><font size = 1, color=gray> us </font><font size = 1, color=gray> is </font><font size = 1, color=gray> Marie </font><font size = 1, color=gray> Dressler </font><font size = 1, color=gray> as </font><font size = 1, color=gray> Marthy. </font><font size = 1, color=gray> She </font><font size = 1, color=gray> is </font><font size = 5, color=blue> excellent </font><font size = 1, color=gray> in </font><font size = 1, color=gray> her </font><font size = 1, color=gray> facial </font><font size = 1, color=gray> expressions, </font><font size = 1, color=gray> in </font><font size = 1, color=gray> her </font><font size = 1, color=gray> accent, </font><font size = 1, color=gray> in </font><font size = 1, color=gray> the </font><font size = 1, color=gray> entire </font><font size = 1, color=gray> portrayal </font><font size = 1, color=gray> of </font><font size = 1, color=gray> a </font><font size = 1, color=gray> drinking </font><font size = 1, color=gray> woman </font><font size = 1, color=gray> who </font><font size = 1, color=red> looks </font><font size = 1, color=gray> at </font><font size = 1, color=gray> life </font><font size = 1, color=gray> from </font><font size = 1, color=gray> the </font><font size = 1, color=gray> perspective </font><font size = 1, color=gray> of </font><font size = 1, color=gray> \"hitting </font><font size = 1, color=gray> the </font><font size = 1, color=gray> bottle.\" </font><font size = 1, color=gray> Her </font><font size = 3, color=blue> best </font><font size = 1, color=gray> moments </font><font size = 1, color=gray> include </font><font size = 1, color=gray> the </font><font size = 1, color=gray> conversation </font><font size = 1, color=gray> with </font><font size = 1, color=gray> Anna </font><font size = 1, color=gray> Christie </font><font size = 1, color=gray> in </font><font size = 1, color=gray> the </font><font size = 1, color=gray> bar </font><font size = 1, color=gray> preceded </font><font size = 1, color=gray> by </font><font size = 1, color=gray> her </font><font size = 1, color=gray> hilarious </font><font size = 1, color=gray> talk </font><font size = 1, color=gray> with </font><font size = 1, color=gray> Chris. </font><font size = 1, color=gray> The </font><font size = 1, color=gray> rest </font><font size = 1, color=gray> of </font><font size = 1, color=gray> the </font><font size = 1, color=gray> supporting </font><font size = 1, color=gray> cast </font><font size = 1, color=gray> are </font><font size = 1, color=gray> fine </font><font size = 1, color=gray> yet </font><font size = 1, color=gray> not </font><font size = 1, color=gray> great </font><font size = 1, color=gray> whatsoever </font><font size = 1, color=gray> (here </font><font size = 1, color=gray> the </font><font size = 1, color=gray> German </font><font size = 1, color=gray> version </font><font size = 1, color=gray> makes </font><font size = 1, color=gray> up </font><font size = 1, color=gray> for </font><font size = 1, color=gray> it). </font><font size = 1, color=gray> Particularly </font><font size = 1, color=gray> Dressler, </font><font size = 1, color=gray> except </font><font size = 1, color=gray> for </font><font size = 1, color=gray> Garbo </font><font size = 1, color=gray> herself, </font><font size = 1, color=gray> constitutes </font><font size = 1, color=gray> an </font><font size = 1, color=gray> absolutely </font><font size = 1, color=gray> flawless </font><font size = 1, color=gray> choice.<br </font><font size = 1, color=gray> /><br </font><font size = 1, color=gray> />If </font><font size = 1, color=gray> you </font><font size = 1, color=gray> asked </font><font size = 1, color=gray> me </font><font size = 1, color=gray> what </font><font size = 1, color=gray> I </font><font size = 1, color=gray> like </font><font size = 1, color=gray> about </font><font size = 1, color=gray> \"Anna </font><font size = 1, color=gray> Christie\" </font><font size = 1, color=gray> nowadays, </font><font size = 1, color=gray> that's </font><font size = 1, color=gray> what </font><font size = 1, color=gray> I </font><font size = 1, color=red> would </font><font size = 1, color=gray> tell </font><font size = 1, color=gray> you: </font><font size = 1, color=gray> it's </font><font size = 1, color=gray> a </font><font size = 1, color=blue> classic </font><font size = 1, color=gray> movie. </font><font size = 1, color=gray> However, </font><font size = 1, color=gray> there </font><font size = 1, color=gray> is </font><font size = 1, color=gray> one </font><font size = 1, color=blue> more </font><font size = 1, color=red> thing </font><font size = 1, color=gray> that </font><font size = 1, color=gray> I </font><font size = 1, color=gray> must </font><font size = 1, color=gray> mention </font><font size = 1, color=gray> at </font><font size = 1, color=gray> the </font><font size = 1, color=gray> end. </font><font size = 1, color=gray> It </font><font size = 1, color=gray> is </font><font size = 1, color=gray> humor, </font><font size = 1, color=gray> wonderful </font><font size = 1, color=gray> wit </font><font size = 1, color=gray> that </font><font size = 1, color=gray> is </font><font size = 1, color=gray> noticeable </font><font size = 1, color=gray> throughout. </font><font size = 1, color=gray> Although </font><font size = 1, color=gray> the </font><font size = 1, color=gray> content </font><font size = 1, color=gray> is </font><font size = 1, color=gray> quite </font><font size = 1, color=gray> serious </font><font size = 1, color=gray> and </font><font size = 1, color=gray> \"Anna </font><font size = 1, color=gray> Christie\" </font><font size = 1, color=gray> in </font><font size = 1, color=gray> no </font><font size = 1, color=gray> way </font><font size = 1, color=gray> carries </font><font size = 1, color=gray> a </font><font size = 1, color=gray> comedian </font><font size = 1, color=gray> spirit </font><font size = 1, color=gray> (the </font><font size = 1, color=gray> only </font><font size = 1, color=gray> Garbo's </font><font size = 1, color=gray> comedy </font><font size = 1, color=gray> was </font><font size = 1, color=gray> NINOTCHKA), </font><font size = 1, color=gray> there </font><font size = 1, color=gray> are </font><font size = 1, color=gray> such </font><font size = 1, color=gray> moments </font><font size = 1, color=gray> when </font><font size = 1, color=gray> you </font><font size = 1, color=gray> will </font><font size = 1, color=gray> split </font><font size = 1, color=gray> your </font><font size = 1, color=gray> sides. </font><font size = 1, color=gray> Don't </font><font size = 1, color=gray> skip, </font><font size = 1, color=gray> for </font><font size = 1, color=gray> instance, </font><font size = 1, color=gray> Anna </font><font size = 1, color=gray> and </font><font size = 1, color=gray> Matt's </font><font size = 1, color=gray> visit </font><font size = 1, color=gray> in </font><font size = 1, color=gray> the </font><font size = 2, color=blue> fun </font><font size = 1, color=gray> park, </font><font size = 1, color=gray> particularly </font><font size = 1, color=gray> at </font><font size = 1, color=gray> the </font><font size = 1, color=gray> restaurant </font><font size = 1, color=gray> where </font><font size = 1, color=gray> he </font><font size = 1, color=gray> orders </font><font size = 1, color=gray> milk </font><font size = 1, color=gray> for </font><font size = 1, color=gray> her </font><font size = 1, color=gray> thinking </font><font size = 1, color=gray> how </font><font size = 1, color=gray> virtuous </font><font size = 1, color=gray> and </font><font size = 1, color=gray> innocent </font><font size = 1, color=gray> she </font><font size = 1, color=gray> is, </font><font size = 1, color=gray> beer </font><font size = 1, color=gray> for </font><font size = 1, color=gray> himself </font><font size = 1, color=gray> and </font><font size = 1, color=gray> where </font><font size = 1, color=gray> suddenly </font><font size = 1, color=gray> Marthy </font><font size = 1, color=gray> joins </font><font size = 1, color=gray> them </font><font size = 1, color=gray> by </font><font size = 1, color=gray> chance...<br </font><font size = 1, color=gray> /><br </font><font size = 1, color=gray> />\"Anna </font><font size = 1, color=gray> Christie\" </font><font size = 1, color=gray> is </font><font size = 1, color=gray> a </font><font size = 3, color=blue> perfect </font><font size = 1, color=gray> movie </font><font size = 1, color=gray> for </font><font size = 1, color=gray> classic </font><font size = 1, color=gray> buffs </font><font size = 1, color=gray> and </font><font size = 1, color=gray> a </font><font size = 1, color=gray> must </font><font size = 1, color=gray> see </font><font size = 1, color=gray> for </font><font size = 1, color=gray> all </font><font size = 1, color=gray> at </font><font size = 1, color=red> least </font><font size = 1, color=gray> a </font><font size = 1, color=blue> bit </font><font size = 1, color=gray> interested </font><font size = 1, color=gray> in </font><font size = 1, color=gray> the </font><font size = 1, color=gray> true </font><font size = 1, color=gray> magnificence </font><font size = 1, color=gray> of </font><font size = 1, color=gray> performance. </font><font size = 1, color=gray> If </font><font size = 1, color=gray> you </font><font size = 1, color=gray> are </font><font size = 1, color=gray> fed </font><font size = 1, color=gray> up </font><font size = 1, color=gray> with </font><font size = 1, color=gray> many </font><font size = 1, color=gray> of </font><font size = 1, color=gray> those </font><font size = 1, color=gray> modern </font><font size = 1, color=gray> starlets, </font><font size = 1, color=gray> seek </font><font size = 1, color=gray> such </font><font size = 1, color=gray> movies </font><font size = 1, color=gray> out </font><font size = 1, color=gray> and </font><font size = 1, color=gray> you </font><font size = 1, color=gray> shall </font><font size = 1, color=gray> be </font><font size = 1, color=gray> satisfied. </font><font size = 1, color=gray> Very </font><font size = 1, color=gray> worth </font><font size = 1, color=gray> your </font><font size = 1, color=gray> search! </font><font size = 1, color=gray> <br </font><font size = 1, color=gray> /><br </font><font size = 1, color=gray> />Skaal </font><font size = 1, color=gray> Greta </font><font size = 1, color=gray> Garbo! </font><font size = 1, color=gray> Skaal </font><font size = 1, color=gray> Marie </font><font size = 1, color=gray> Dressler! </font><font size = 1, color=gray> Let </font><font size = 1, color=gray> us </font><font size = 1, color=gray> drink </font><font size = 1, color=gray> a </font><font size = 1, color=gray> toast </font><font size = 1, color=gray> to </font><font size = 1, color=gray> the </font><font size = 1, color=gray> great </font><font size = 1, color=gray> jobs </font><font size = 1, color=gray> you </font><font size = 1, color=gray> did </font><font size = 1, color=gray> in </font><font size = 1, color=gray> the </font><font size = 1, color=gray> movie! </font><font size = 1, color=gray> Skaal </font><font size = 1, color=gray> after </font><font size = 1, color=gray> all </font><font size = 1, color=gray> these </font><font size = 1, color=gray> years </font><font size = 1, color=gray> when </font><font size = 1, color=gray> wine </font><font size = 1, color=gray> tastes </font><font size = 1, color=red> much </font><font size = 1, color=gray> better </font><font size = 1, color=gray> and </font><font size = 1, color=gray> your </font><font size = 1, color=gray> spirits </font><font size = 1, color=gray> are </font><font size = 1, color=gray> with </font><font size = 1, color=gray> us </font><font size = 1, color=gray> in </font><font size = 1, color=gray> a </font><font size = 1, color=gray> different </font><font size = 1, color=gray> sense... </font>"
      ],
      "text/plain": [
       "<coloredweighteddoc.ColoredWeightedDoc at 0x22a6d06eb70>"
      ]
     },
     "metadata": {},
     "output_type": "display_data"
    }
   ],
   "source": [
    "j = np.argmax(pos_evi)\n",
    "print(probs[j])\n",
    "print(neg_evi[j])\n",
    "print(pos_evi[j])\n",
    "display.display(ColoredWeightedDoc(test_corpus[j], words, weights, binary = True))"
   ]
  },
  {
   "cell_type": "markdown",
   "metadata": {},
   "source": [
    "### 80+% negative document that has the least amount of evidence for the positive class"
   ]
  },
  {
   "cell_type": "code",
   "execution_count": 533,
   "metadata": {
    "collapsed": false
   },
   "outputs": [
    {
     "name": "stdout",
     "output_type": "stream",
     "text": [
      "[ 0.80707604  0.19292396]\n",
      "-1.43112173693\n",
      "0.0\n"
     ]
    },
    {
     "data": {
      "text/html": [
       "<font size = 1, color=gray> What </font><font size = 1, color=gray> a </font><font size = 1, color=gray> total </font><font size = 1, color=gray> lump </font><font size = 1, color=gray> of </font><font size = 1, color=gray> poopoo </font><font size = 1, color=gray> this </font><font size = 1, color=red> was! </font><font size = 1, color=gray> You've </font><font size = 1, color=gray> got </font><font size = 1, color=gray> to </font><font size = 1, color=gray> be </font><font size = 1, color=gray> kidding </font><font size = 1, color=gray> people! </font><font size = 1, color=red> Any </font><font size = 1, color=gray> positive </font><font size = 1, color=gray> reviews </font><font size = 1, color=gray> of </font><font size = 1, color=gray> this </font><font size = 1, color=red> movie </font><font size = 1, color=gray> are </font><font size = 1, color=gray> plants </font><font size = 1, color=red> or </font><font size = 1, color=gray> insiders </font><font size = 1, color=gray> from </font><font size = 1, color=gray> the </font><font size = 1, color=gray> movie </font><font size = 1, color=gray> makers </font><font size = 1, color=gray> themselves! </font><font size = 1, color=gray> yuuck! </font><font size = 1, color=gray> disgusting </font><font size = 1, color=gray> movie!, </font><font size = 1, color=red> not </font><font size = 1, color=gray> gross </font><font size = 1, color=gray> digusting </font><font size = 1, color=gray> but </font><font size = 1, color=red> just </font><font size = 1, color=gray> plain </font><font size = 5, color=red> awful! </font>"
      ],
      "text/plain": [
       "<coloredweighteddoc.ColoredWeightedDoc at 0x22a6d06e1d0>"
      ]
     },
     "metadata": {},
     "output_type": "display_data"
    }
   ],
   "source": [
    "neg_probs = probs[:,0]\n",
    "neg_enough_indices = np.arange(len(neg_probs))[neg_probs > 0.80]\n",
    "least_pos = np.argsort(pos_evi[neg_enough_indices])[0]\n",
    "j = neg_enough_indices[least_pos]\n",
    "print(probs[j])\n",
    "print(neg_evi[j])\n",
    "print(pos_evi[j])\n",
    "display.display(ColoredWeightedDoc(test_corpus[j], words, weights, binary = True))"
   ]
  },
  {
   "cell_type": "markdown",
   "metadata": {},
   "source": [
    "### 80+% positive document that has the least amount of evidence for the negative class"
   ]
  },
  {
   "cell_type": "code",
   "execution_count": 534,
   "metadata": {
    "collapsed": false
   },
   "outputs": [
    {
     "name": "stdout",
     "output_type": "stream",
     "text": [
      "[ 0.19432146  0.80567854]\n",
      "0.0\n",
      "1.42217104654\n"
     ]
    },
    {
     "data": {
      "text/html": [
       "<font size = 1, color=gray> I </font><font size = 1, color=blue> enjoyed </font><font size = 1, color=gray> this </font><font size = 1, color=gray> programme </font><font size = 1, color=gray> immensely. </font><font size = 1, color=blue> It </font><font size = 1, color=blue> is </font><font size = 1, color=gray> exceptionally </font><font size = 2, color=blue> well </font><font size = 1, color=gray> written, </font><font size = 1, color=gray> with </font><font size = 1, color=gray> finely </font><font size = 1, color=gray> judged </font><font size = 1, color=blue> performances </font><font size = 1, color=blue> and </font><font size = 1, color=gray> clever </font><font size = 1, color=gray> visuals.<br </font><font size = 1, color=gray> /><br </font><font size = 1, color=gray> />It </font><font size = 1, color=gray> is </font><font size = 2, color=blue> also </font><font size = 2, color=blue> very </font><font size = 1, color=gray> frank </font><font size = 1, color=gray> and </font><font size = 1, color=gray> honest, </font><font size = 1, color=gray> refreshing </font><font size = 1, color=gray> compared </font><font size = 1, color=gray> to </font><font size = 1, color=gray> the </font><font size = 1, color=gray> sanitised </font><font size = 1, color=gray> representation </font><font size = 1, color=gray> of </font><font size = 1, color=gray> drug </font><font size = 1, color=gray> use </font><font size = 1, color=gray> in </font><font size = 1, color=blue> films </font><font size = 1, color=gray> and </font><font size = 1, color=gray> television.<br </font><font size = 1, color=gray> /><br </font><font size = 1, color=gray> />Unmissable </font><font size = 1, color=gray> - </font><font size = 1, color=gray> one </font><font size = 1, color=gray> of </font><font size = 1, color=gray> the </font><font size = 1, color=gray> finest </font><font size = 1, color=gray> television </font><font size = 1, color=blue> shows </font><font size = 1, color=gray> of </font><font size = 1, color=gray> recent </font><font size = 1, color=blue> years, </font><font size = 1, color=gray> and </font><font size = 1, color=gray> triumph </font><font size = 1, color=gray> on </font><font size = 1, color=gray> all </font><font size = 1, color=gray> scales </font><font size = 1, color=gray> for </font><font size = 1, color=gray> Channel </font><font size = 1, color=gray> 4.<br </font><font size = 1, color=gray> /><br </font><font size = 1, color=gray> />9/10 </font>"
      ],
      "text/plain": [
       "<coloredweighteddoc.ColoredWeightedDoc at 0x22a6d06eef0>"
      ]
     },
     "metadata": {},
     "output_type": "display_data"
    }
   ],
   "source": [
    "pos_probs = probs[:,1]\n",
    "pos_enough_indices = np.arange(len(pos_probs))[pos_probs > 0.8]\n",
    "least_neg = np.argsort(neg_evi[pos_enough_indices])[-1]\n",
    "j = pos_enough_indices[least_neg]\n",
    "print(probs[j])\n",
    "print(neg_evi[j])\n",
    "print(pos_evi[j])\n",
    "display.display(ColoredWeightedDoc(test_corpus[j], words, weights, binary = True))"
   ]
  },
  {
   "cell_type": "markdown",
   "metadata": {},
   "source": [
    "### Most Uncertain"
   ]
  },
  {
   "cell_type": "code",
   "execution_count": 535,
   "metadata": {
    "collapsed": false
   },
   "outputs": [
    {
     "name": "stdout",
     "output_type": "stream",
     "text": [
      "[ 0.5  0.5]\n",
      "0.0\n",
      "0.0\n"
     ]
    },
    {
     "data": {
      "text/html": [
       "<font size = 1, color=gray> I </font><font size = 1, color=gray> hope </font><font size = 1, color=gray> this </font><font size = 1, color=gray> group </font><font size = 1, color=gray> of </font><font size = 1, color=gray> film-makers </font><font size = 1, color=gray> never </font><font size = 1, color=gray> re-unites. </font>"
      ],
      "text/plain": [
       "<coloredweighteddoc.ColoredWeightedDoc at 0x22a6d06eb70>"
      ]
     },
     "metadata": {},
     "output_type": "display_data"
    }
   ],
   "source": [
    "uncertainty = np.min(probs, axis=1)\n",
    "j = np.argsort(uncertainty)[-1]\n",
    "print(probs[j])\n",
    "print(neg_evi[j])\n",
    "print(pos_evi[j])\n",
    "display.display(ColoredWeightedDoc(test_corpus[j], words, weights, binary = True))"
   ]
  },
  {
   "cell_type": "markdown",
   "metadata": {},
   "source": [
    "### Uncertain due to conflicting evidence"
   ]
  },
  {
   "cell_type": "code",
   "execution_count": 536,
   "metadata": {
    "collapsed": false
   },
   "outputs": [
    {
     "name": "stdout",
     "output_type": "stream",
     "text": [
      "[ 0.50564394  0.49435606]\n",
      "-5.05150670125\n",
      "5.02892997493\n"
     ]
    },
    {
     "data": {
      "text/html": [
       "<font size = 1, color=gray> This </font><font size = 1, color=blue> is </font><font size = 1, color=red> not </font><font size = 1, color=gray> a </font><font size = 1, color=blue> good </font><font size = 1, color=red> movie </font><font size = 1, color=gray> at </font><font size = 1, color=gray> all. </font><font size = 1, color=gray> I </font><font size = 1, color=gray> cannot </font><font size = 1, color=gray> believe </font><font size = 1, color=gray> that </font><font size = 1, color=gray> after </font><font size = 1, color=gray> fifty </font><font size = 1, color=blue> years, </font><font size = 1, color=gray> this </font><font size = 1, color=gray> movie </font><font size = 1, color=gray> gets </font><font size = 1, color=gray> the </font><font size = 1, color=gray> National </font><font size = 1, color=gray> Award </font><font size = 1, color=blue> when </font><font size = 1, color=red> there </font><font size = 1, color=gray> have </font><font size = 1, color=red> been </font><font size = 1, color=gray> such </font><font size = 1, color=gray> gems </font><font size = 1, color=gray> from </font><font size = 1, color=gray> Marathi </font><font size = 1, color=gray> cinema </font><font size = 1, color=gray> that </font><font size = 1, color=gray> have </font><font size = 1, color=gray> been </font><font size = 1, color=red> so </font><font size = 1, color=gray> systematically </font><font size = 1, color=gray> ignored. </font><font size = 1, color=gray> This </font><font size = 1, color=gray> is </font><font size = 1, color=gray> a </font><font size = 2, color=blue> very </font><font size = 1, color=gray> overrated </font><font size = 1, color=gray> movie </font><font size = 1, color=gray> that </font><font size = 1, color=gray> got </font><font size = 1, color=gray> very, </font><font size = 1, color=gray> very </font><font size = 1, color=gray> lucky. </font><font size = 1, color=blue> It </font><font size = 1, color=red> was </font><font size = 1, color=gray> given </font><font size = 1, color=gray> the </font><font size = 1, color=gray> National </font><font size = 1, color=gray> Award, </font><font size = 1, color=gray> harvested </font><font size = 1, color=gray> the </font><font size = 1, color=gray> popular </font><font size = 1, color=gray> opinion </font><font size = 1, color=blue> and </font><font size = 1, color=gray> now </font><font size = 1, color=gray> is </font><font size = 1, color=gray> going </font><font size = 1, color=gray> to </font><font size = 1, color=gray> represent </font><font size = 1, color=gray> India </font><font size = 1, color=gray> before </font><font size = 1, color=gray> the </font><font size = 1, color=gray> international </font><font size = 1, color=gray> audience. </font><font size = 1, color=gray> Anyone </font><font size = 1, color=gray> with </font><font size = 2, color=red> even </font><font size = 1, color=gray> a </font><font size = 1, color=gray> marginal </font><font size = 1, color=gray> understanding </font><font size = 1, color=gray> of </font><font size = 1, color=gray> good, </font><font size = 1, color=gray> quality </font><font size = 1, color=gray> cinema </font><font size = 2, color=blue> will </font><font size = 1, color=gray> know </font><font size = 1, color=gray> very </font><font size = 2, color=blue> well </font><font size = 1, color=gray> that </font><font size = 1, color=gray> this </font><font size = 1, color=gray> will </font><font size = 1, color=gray> not </font><font size = 1, color=gray> even </font><font size = 1, color=gray> be </font><font size = 1, color=gray> nominated </font><font size = 1, color=gray> at </font><font size = 1, color=gray> the </font><font size = 1, color=gray> Oscars.<br </font><font size = 1, color=gray> /><br </font><font size = 1, color=gray> />I </font><font size = 1, color=gray> cannot </font><font size = 1, color=gray> understand </font><font size = 1, color=gray> where </font><font size = 1, color=gray> to </font><font size = 1, color=gray> start. </font><font size = 1, color=gray> There </font><font size = 1, color=gray> are </font><font size = 1, color=red> just </font><font size = 1, color=gray> so </font><font size = 1, color=blue> many </font><font size = 1, color=gray> things </font><font size = 1, color=gray> that </font><font size = 1, color=gray> are </font><font size = 1, color=gray> wrong </font><font size = 1, color=gray> and </font><font size = 1, color=gray> lacking </font><font size = 1, color=gray> in </font><font size = 1, color=gray> this </font><font size = 1, color=gray> movie </font><font size = 1, color=gray> that </font><font size = 1, color=gray> it </font><font size = 3, color=blue> amazing </font><font size = 1, color=gray> it </font><font size = 1, color=gray> even </font><font size = 1, color=gray> got </font><font size = 1, color=gray> considered </font><font size = 1, color=gray> for </font><font size = 1, color=gray> the </font><font size = 1, color=gray> National </font><font size = 1, color=gray> Award. </font><font size = 1, color=gray> That </font><font size = 1, color=gray> this </font><font size = 1, color=gray> movie </font><font size = 1, color=gray> is </font><font size = 1, color=gray> awarded </font><font size = 1, color=blue> as </font><font size = 1, color=gray> the </font><font size = 3, color=blue> best </font><font size = 1, color=gray> movie </font><font size = 1, color=gray> to </font><font size = 1, color=gray> come </font><font size = 1, color=gray> out </font><font size = 1, color=gray> this </font><font size = 1, color=gray> year </font><font size = 1, color=gray> goes </font><font size = 1, color=gray> to </font><font size = 1, color=gray> show </font><font size = 1, color=gray> the </font><font size = 1, color=gray> biased </font><font size = 1, color=gray> judgment </font><font size = 1, color=gray> of </font><font size = 1, color=gray> people </font><font size = 1, color=blue> who </font><font size = 1, color=gray> hold </font><font size = 1, color=gray> the </font><font size = 1, color=gray> reins </font><font size = 1, color=gray> of </font><font size = 1, color=gray> Indian </font><font size = 1, color=gray> cinema </font><font size = 1, color=gray> and </font><font size = 1, color=gray> the </font><font size = 1, color=gray> diminutive </font><font size = 1, color=gray> understanding </font><font size = 1, color=gray> of </font><font size = 1, color=gray> the </font><font size = 1, color=gray> people </font><font size = 1, color=gray> who </font><font size = 1, color=gray> blindly </font><font size = 1, color=gray> appreciate </font><font size = 1, color=gray> this </font><font size = 1, color=gray> movie.<br </font><font size = 1, color=gray> /><br </font><font size = 1, color=gray> />The </font><font size = 1, color=gray> topic </font><font size = 1, color=gray> chosen </font><font size = 1, color=gray> is </font><font size = 4, color=blue> great. </font><font size = 1, color=gray> It </font><font size = 1, color=gray> is </font><font size = 1, color=gray> important </font><font size = 1, color=gray> that </font><font size = 1, color=gray> such </font><font size = 1, color=gray> movies </font><font size = 1, color=gray> be </font><font size = 1, color=gray> made </font><font size = 1, color=gray> Â– </font><font size = 1, color=gray> but </font><font size = 1, color=red> only </font><font size = 1, color=gray> by </font><font size = 1, color=gray> people </font><font size = 1, color=gray> who </font><font size = 1, color=gray> are </font><font size = 1, color=gray> able </font><font size = 1, color=gray> to </font><font size = 1, color=gray> handle </font><font size = 1, color=gray> them. </font><font size = 1, color=gray> Sandeep </font><font size = 1, color=gray> Sawant </font><font size = 1, color=gray> does </font><font size = 1, color=gray> not </font><font size = 1, color=gray> measure </font><font size = 1, color=gray> up </font><font size = 1, color=gray> to </font><font size = 1, color=gray> the </font><font size = 1, color=gray> task </font><font size = 1, color=gray> Â– </font><font size = 1, color=gray> not </font><font size = 1, color=gray> even </font><font size = 1, color=gray> close. </font><font size = 1, color=blue> His </font><font size = 1, color=gray> direction </font><font size = 1, color=gray> is </font><font size = 1, color=gray> jumpy, </font><font size = 1, color=gray> confused. </font><font size = 1, color=gray> There </font><font size = 1, color=gray> is </font><font size = 2, color=red> no </font><font size = 1, color=gray> clear </font><font size = 1, color=gray> thought </font><font size = 1, color=gray> process. </font><font size = 1, color=gray> He </font><font size = 1, color=gray> tries, </font><font size = 1, color=gray> but </font><font size = 1, color=gray> is </font><font size = 1, color=gray> not </font><font size = 1, color=gray> able </font><font size = 1, color=gray> to </font><font size = 1, color=gray> explore </font><font size = 1, color=gray> the </font><font size = 1, color=gray> depth </font><font size = 1, color=gray> of </font><font size = 1, color=gray> the </font><font size = 1, color=gray> characters, </font><font size = 1, color=blue> especially </font><font size = 1, color=gray> the </font><font size = 1, color=gray> grandfather. </font><font size = 1, color=gray> He </font><font size = 1, color=gray> is </font><font size = 1, color=gray> not </font><font size = 1, color=gray> able </font><font size = 1, color=gray> to </font><font size = 1, color=gray> show </font><font size = 1, color=gray> the </font><font size = 1, color=gray> initial </font><font size = 1, color=gray> horror, </font><font size = 1, color=gray> anxiety </font><font size = 1, color=gray> and </font><font size = 1, color=red> then </font><font size = 1, color=gray> hopeless </font><font size = 1, color=gray> detachment </font><font size = 1, color=gray> and </font><font size = 1, color=gray> yet </font><font size = 1, color=gray> the </font><font size = 1, color=gray> insurmountable </font><font size = 1, color=gray> courage </font><font size = 1, color=gray> of </font><font size = 1, color=gray> the </font><font size = 1, color=gray> grandfather. </font><font size = 1, color=gray> He </font><font size = 1, color=gray> wastes </font><font size = 1, color=gray> our </font><font size = 1, color=blue> time </font><font size = 1, color=gray> in </font><font size = 1, color=gray> the </font><font size = 1, color=gray> hospital </font><font size = 1, color=gray> when </font><font size = 1, color=gray> we </font><font size = 1, color=gray> should </font><font size = 1, color=gray> have </font><font size = 1, color=gray> been </font><font size = 1, color=gray> shown </font><font size = 1, color=gray> the </font><font size = 1, color=gray> time </font><font size = 1, color=gray> pair </font><font size = 1, color=gray> spend </font><font size = 1, color=gray> together. </font><font size = 1, color=gray> He </font><font size = 1, color=gray> is </font><font size = 1, color=red> trying </font><font size = 1, color=gray> to </font><font size = 1, color=gray> cram </font><font size = 1, color=gray> in </font><font size = 1, color=gray> everything </font><font size = 1, color=gray> without </font><font size = 1, color=red> any </font><font size = 1, color=gray> priorities. </font><font size = 1, color=gray> He </font><font size = 1, color=gray> does </font><font size = 1, color=gray> not </font><font size = 1, color=gray> understand </font><font size = 1, color=gray> his </font><font size = 1, color=gray> subject </font><font size = 1, color=gray> properly </font><font size = 1, color=gray> and </font><font size = 1, color=gray> that </font><font size = 1, color=gray> really </font><font size = 1, color=gray> counts </font><font size = 1, color=gray> against </font><font size = 1, color=blue> him.<br </font><font size = 1, color=gray> /><br </font><font size = 1, color=gray> />However, </font><font size = 1, color=gray> the </font><font size = 1, color=gray> cast </font><font size = 1, color=gray> does </font><font size = 1, color=gray> not </font><font size = 1, color=gray> help </font><font size = 1, color=gray> Sawant </font><font size = 1, color=gray> either. </font><font size = 6, color=red> Worst </font><font size = 1, color=blue> job </font><font size = 1, color=gray> Â– </font><font size = 1, color=gray> Amruta </font><font size = 1, color=gray> Shubash. </font><font size = 1, color=gray> She </font><font size = 1, color=gray> is </font><font size = 1, color=gray> a </font><font size = 3, color=red> terrible </font><font size = 1, color=gray> actor </font><font size = 1, color=gray> and </font><font size = 1, color=gray> a </font><font size = 1, color=gray> terrible </font><font size = 1, color=gray> choice </font><font size = 1, color=gray> for </font><font size = 1, color=gray> this </font><font size = 1, color=red> or </font><font size = 1, color=gray> any </font><font size = 1, color=gray> sensible </font><font size = 1, color=red> acting </font><font size = 1, color=gray> job. </font><font size = 1, color=gray> How </font><font size = 1, color=gray> did </font><font size = 1, color=gray> she </font><font size = 1, color=gray> get </font><font size = 1, color=gray> 'Tee </font><font size = 1, color=gray> Phulrani'? </font><font size = 1, color=gray> Extremely </font><font size = 1, color=gray> lucky </font><font size = 1, color=gray> and/or </font><font size = 1, color=gray> extremely </font><font size = 1, color=gray> influential </font><font size = 1, color=gray> and/or </font><font size = 1, color=gray> extremely </font><font size = 1, color=gray> pitiful </font><font size = 1, color=gray> casting. </font><font size = 1, color=gray> Having </font><font size = 1, color=gray> said </font><font size = 1, color=gray> that, </font><font size = 1, color=gray> she </font><font size = 1, color=gray> goes </font><font size = 1, color=gray> out </font><font size = 1, color=gray> of </font><font size = 1, color=gray> her </font><font size = 1, color=gray> way </font><font size = 1, color=gray> to </font><font size = 1, color=red> do </font><font size = 1, color=gray> an </font><font size = 1, color=gray> even </font><font size = 1, color=gray> terrible </font><font size = 1, color=gray> job </font><font size = 1, color=gray> in </font><font size = 1, color=gray> this </font><font size = 1, color=gray> movie. </font><font size = 1, color=gray> Her </font><font size = 1, color=gray> act </font><font size = 1, color=gray> of </font><font size = 1, color=gray> the </font><font size = 1, color=gray> MSW </font><font size = 1, color=gray> should </font><font size = 1, color=gray> have </font><font size = 1, color=gray> gone </font><font size = 1, color=gray> to </font><font size = 1, color=gray> the </font><font size = 1, color=blue> more </font><font size = 1, color=gray> responsible </font><font size = 1, color=gray> actor </font><font size = 1, color=gray> Â– </font><font size = 1, color=gray> Sonali </font><font size = 1, color=gray> Kulkarni. </font><font size = 1, color=gray> Amruta </font><font size = 1, color=gray> Subhash </font><font size = 1, color=gray> did </font><font size = 1, color=gray> not </font><font size = 1, color=gray> understand </font><font size = 1, color=gray> it. </font><font size = 1, color=gray> MSW's </font><font size = 1, color=gray> work </font><font size = 1, color=gray> under </font><font size = 1, color=gray> constant </font><font size = 1, color=gray> emotional </font><font size = 1, color=gray> stress </font><font size = 1, color=gray> and </font><font size = 1, color=gray> yet </font><font size = 1, color=gray> it </font><font size = 1, color=gray> is </font><font size = 1, color=gray> important </font><font size = 1, color=gray> for </font><font size = 1, color=gray> them </font><font size = 1, color=gray> to </font><font size = 1, color=gray> project </font><font size = 1, color=gray> a </font><font size = 1, color=gray> calm, </font><font size = 1, color=gray> strong </font><font size = 1, color=gray> exterior, </font><font size = 1, color=gray> as </font><font size = 1, color=gray> this </font><font size = 1, color=gray> is </font><font size = 1, color=gray> reassuring </font><font size = 1, color=gray> to </font><font size = 1, color=gray> the </font><font size = 1, color=gray> patients. </font><font size = 1, color=gray> Amruta </font><font size = 1, color=gray> Subhash's </font><font size = 1, color=gray> Asawari </font><font size = 1, color=red> seems </font><font size = 1, color=gray> even </font><font size = 1, color=gray> more </font><font size = 1, color=gray> scared </font><font size = 1, color=gray> and </font><font size = 1, color=gray> in </font><font size = 1, color=gray> need </font><font size = 1, color=gray> of </font><font size = 1, color=gray> support </font><font size = 1, color=gray> than </font><font size = 1, color=gray> the </font><font size = 1, color=gray> people </font><font size = 1, color=gray> she </font><font size = 1, color=gray> is </font><font size = 1, color=gray> working </font><font size = 1, color=gray> for.<br </font><font size = 1, color=gray> /><br </font><font size = 1, color=gray> />Second </font><font size = 1, color=gray> worst </font><font size = 1, color=gray> Â– </font><font size = 1, color=gray> Arun </font><font size = 1, color=gray> Nalawade. </font><font size = 1, color=gray> I </font><font size = 1, color=gray> have </font><font size = 1, color=gray> never </font><font size = 1, color=blue> seen </font><font size = 1, color=gray> a </font><font size = 1, color=gray> more </font><font size = 1, color=gray> wooden </font><font size = 1, color=gray> face </font><font size = 1, color=gray> in </font><font size = 1, color=gray> Marathi </font><font size = 1, color=gray> film </font><font size = 1, color=gray> industry </font><font size = 1, color=gray> (it </font><font size = 1, color=gray> is </font><font size = 1, color=gray> abound </font><font size = 1, color=gray> and </font><font size = 1, color=gray> everywhere </font><font size = 1, color=gray> in </font><font size = 2, color=blue> today's </font><font size = 1, color=gray> Hindi </font><font size = 1, color=gray> cinema </font><font size = 1, color=gray> though). </font><font size = 1, color=gray> He </font><font size = 1, color=gray> is </font><font size = 1, color=gray> the </font><font size = 1, color=gray> producer </font><font size = 1, color=gray> and </font><font size = 1, color=gray> so </font><font size = 1, color=gray> he </font><font size = 1, color=gray> chose </font><font size = 1, color=gray> himself; </font><font size = 1, color=gray> no </font><font size = 1, color=gray> second </font><font size = 1, color=gray> thought, </font><font size = 1, color=gray> no </font><font size = 1, color=gray> consideration. </font><font size = 1, color=gray> Any </font><font size = 1, color=gray> good </font><font size = 1, color=gray> actor </font><font size = 1, color=red> would </font><font size = 1, color=gray> have </font><font size = 1, color=gray> jumped </font><font size = 1, color=gray> to </font><font size = 1, color=gray> play </font><font size = 1, color=gray> this </font><font size = 1, color=gray> role </font><font size = 1, color=gray> even </font><font size = 1, color=red> if </font><font size = 1, color=gray> he </font><font size = 1, color=gray> had </font><font size = 1, color=gray> to </font><font size = 1, color=gray> pay </font><font size = 1, color=gray> the </font><font size = 1, color=gray> producer's </font><font size = 1, color=gray> to </font><font size = 1, color=gray> do </font><font size = 1, color=gray> it, </font><font size = 1, color=gray> but </font><font size = 1, color=gray> Arun </font><font size = 1, color=gray> Nalawade </font><font size = 1, color=gray> would </font><font size = 1, color=gray> not </font><font size = 1, color=gray> let </font><font size = 1, color=gray> anyone </font><font size = 1, color=gray> else </font><font size = 1, color=gray> do </font><font size = 1, color=gray> it. </font><font size = 1, color=gray> Over </font><font size = 1, color=gray> ambitious </font><font size = 1, color=gray> and </font><font size = 1, color=gray> obtuse, </font><font size = 1, color=gray> he </font><font size = 1, color=gray> contributes </font><font size = 1, color=gray> to </font><font size = 1, color=gray> bring </font><font size = 1, color=gray> down </font><font size = 1, color=gray> the </font><font size = 1, color=gray> movie </font><font size = 1, color=gray> more </font><font size = 1, color=gray> than </font><font size = 1, color=gray> everyone </font><font size = 1, color=gray> else </font><font size = 1, color=gray> combined. </font><font size = 1, color=gray> His </font><font size = 1, color=gray> acting </font><font size = 1, color=gray> lacks </font><font size = 1, color=gray> research </font><font size = 1, color=gray> and </font><font size = 1, color=gray> even </font><font size = 1, color=gray> the </font><font size = 1, color=gray> basic </font><font size = 1, color=gray> acting </font><font size = 1, color=gray> skills. </font><font size = 1, color=blue> My </font><font size = 1, color=gray> choice </font><font size = 1, color=gray> for </font><font size = 1, color=gray> this </font><font size = 1, color=gray> role </font><font size = 1, color=gray> would </font><font size = 1, color=gray> be </font><font size = 1, color=gray> Vikram </font><font size = 1, color=gray> Gokhale.<br </font><font size = 1, color=gray> /><br </font><font size = 1, color=gray> />The </font><font size = 1, color=gray> music </font><font size = 1, color=gray> is </font><font size = 1, color=gray> uninspired. </font><font size = 1, color=gray> The </font><font size = 1, color=gray> movie </font><font size = 1, color=gray> is </font><font size = 1, color=gray> technically </font><font size = 1, color=gray> lacking. </font><font size = 1, color=gray> It </font><font size = 1, color=red> could </font><font size = 1, color=gray> well </font><font size = 1, color=gray> have </font><font size = 1, color=gray> been </font><font size = 1, color=gray> an </font><font size = 1, color=gray> FTII </font><font size = 1, color=gray> project </font><font size = 1, color=gray> job.<br </font><font size = 1, color=gray> /><br </font><font size = 1, color=gray> />On </font><font size = 1, color=gray> the </font><font size = 1, color=gray> up </font><font size = 1, color=gray> side; </font><font size = 1, color=blue> brilliant </font><font size = 1, color=blue> performance </font><font size = 1, color=gray> by </font><font size = 1, color=gray> Ashwin </font><font size = 1, color=gray> Chitale. </font><font size = 1, color=gray> It </font><font size = 1, color=gray> is </font><font size = 1, color=gray> amazing </font><font size = 1, color=gray> that </font><font size = 1, color=gray> such </font><font size = 1, color=gray> a </font><font size = 1, color=blue> young </font><font size = 1, color=gray> boy </font><font size = 1, color=gray> could </font><font size = 1, color=gray> give </font><font size = 1, color=gray> such </font><font size = 1, color=gray> a </font><font size = 1, color=gray> respectable </font><font size = 1, color=gray> performance. </font><font size = 1, color=gray> He </font><font size = 1, color=gray> put </font><font size = 1, color=gray> many </font><font size = 1, color=gray> of </font><font size = 1, color=gray> today's </font><font size = 1, color=gray> actors </font><font size = 1, color=gray> to </font><font size = 1, color=gray> shame. </font><font size = 1, color=gray> Unintentionally </font><font size = 1, color=gray> maybe, </font><font size = 1, color=gray> but </font><font size = 1, color=gray> he </font><font size = 1, color=gray> brought </font><font size = 1, color=gray> his </font><font size = 1, color=blue> own </font><font size = 1, color=gray> innocence </font><font size = 1, color=gray> to </font><font size = 1, color=gray> his </font><font size = 1, color=gray> character </font><font size = 1, color=gray> and </font><font size = 1, color=gray> that </font><font size = 1, color=gray> made </font><font size = 1, color=gray> it </font><font size = 1, color=gray> a </font><font size = 1, color=gray> memorable </font><font size = 1, color=gray> performance. </font><font size = 2, color=blue> Also, </font><font size = 1, color=gray> Sandeep </font><font size = 1, color=gray> Kulkarni </font><font size = 1, color=gray> really </font><font size = 1, color=gray> gave </font><font size = 1, color=gray> a </font><font size = 1, color=gray> very </font><font size = 1, color=gray> believable </font><font size = 1, color=gray> performance. </font><font size = 1, color=gray> Really </font><font size = 1, color=gray> put </font><font size = 1, color=gray> in </font><font size = 1, color=gray> all </font><font size = 1, color=gray> his </font><font size = 1, color=gray> efforts </font><font size = 1, color=gray> and </font><font size = 1, color=gray> it </font><font size = 1, color=blue> shows. </font><font size = 1, color=gray> The </font><font size = 2, color=red> script </font><font size = 1, color=gray> too </font><font size = 1, color=gray> is </font><font size = 1, color=gray> well </font><font size = 1, color=gray> written.<br </font><font size = 1, color=gray> /><br </font><font size = 1, color=gray> />'Shoestring </font><font size = 1, color=gray> budget' </font><font size = 1, color=gray> cannot </font><font size = 1, color=gray> be </font><font size = 1, color=gray> a </font><font size = 1, color=gray> valid </font><font size = 1, color=gray> argument </font><font size = 1, color=gray> to </font><font size = 1, color=gray> praise </font><font size = 1, color=gray> this </font><font size = 1, color=gray> movie. </font><font size = 1, color=gray> Lack </font><font size = 1, color=gray> of </font><font size = 1, color=gray> funds </font><font size = 1, color=gray> dogs </font><font size = 1, color=gray> all </font><font size = 1, color=gray> of </font><font size = 1, color=gray> the </font><font size = 1, color=gray> Marathi </font><font size = 1, color=gray> movies. </font><font size = 1, color=gray> Cricket </font><font size = 1, color=gray> and </font><font size = 1, color=gray> Hindi </font><font size = 1, color=gray> movies </font><font size = 1, color=gray> sponge </font><font size = 1, color=gray> all </font><font size = 1, color=gray> the </font><font size = 1, color=red> money </font><font size = 1, color=gray> and </font><font size = 1, color=gray> the </font><font size = 1, color=gray> rest </font><font size = 1, color=gray> are </font><font size = 1, color=gray> left </font><font size = 1, color=gray> to </font><font size = 1, color=gray> fight </font><font size = 1, color=gray> for </font><font size = 1, color=gray> the </font><font size = 1, color=gray> scraps. </font><font size = 1, color=gray> It </font><font size = 1, color=gray> is </font><font size = 1, color=gray> a </font><font size = 1, color=gray> sorry </font><font size = 1, color=gray> state </font><font size = 1, color=gray> of </font><font size = 1, color=gray> affairs </font><font size = 1, color=gray> but </font><font size = 1, color=gray> yet </font><font size = 1, color=gray> not </font><font size = 1, color=red> reason </font><font size = 1, color=red> enough </font><font size = 1, color=gray> to </font><font size = 1, color=gray> praise </font><font size = 1, color=gray> any </font><font size = 1, color=gray> immature </font><font size = 1, color=gray> movie </font><font size = 1, color=gray> that </font><font size = 1, color=gray> comes </font><font size = 1, color=gray> out. </font><font size = 1, color=gray> 'Doghi' </font><font size = 1, color=gray> was </font><font size = 1, color=gray> brilliant </font><font size = 1, color=gray> movie </font><font size = 1, color=gray> and </font><font size = 1, color=gray> it </font><font size = 1, color=gray> too </font><font size = 1, color=gray> was </font><font size = 1, color=gray> made </font><font size = 1, color=gray> on </font><font size = 1, color=gray> a </font><font size = 1, color=gray> shoestring </font><font size = 1, color=gray> budget. </font><font size = 1, color=gray> 'Doghi' </font><font size = 1, color=gray> also </font><font size = 1, color=gray> lacked </font><font size = 1, color=gray> technically </font><font size = 1, color=gray> but </font><font size = 1, color=gray> it </font><font size = 1, color=gray> was </font><font size = 1, color=gray> well </font><font size = 1, color=gray> researched </font><font size = 1, color=gray> and </font><font size = 1, color=gray> well </font><font size = 1, color=gray> made. </font><font size = 1, color=gray> It </font><font size = 1, color=gray> was </font><font size = 1, color=gray> abound </font><font size = 1, color=gray> in </font><font size = 1, color=gray> details </font><font size = 1, color=gray> and </font><font size = 1, color=gray> supported </font><font size = 1, color=gray> by </font><font size = 3, color=blue> wonderful </font><font size = 1, color=blue> performances </font><font size = 1, color=gray> by </font><font size = 1, color=gray> everyone </font><font size = 1, color=gray> and </font><font size = 1, color=gray> that </font><font size = 1, color=gray> made </font><font size = 1, color=gray> it </font><font size = 1, color=gray> rich </font><font size = 1, color=gray> cinema. </font><font size = 1, color=red> Why </font><font size = 1, color=gray> did </font><font size = 1, color=gray> it </font><font size = 1, color=gray> not </font><font size = 1, color=gray> receive </font><font size = 1, color=gray> the </font><font size = 1, color=gray> accolades </font><font size = 1, color=gray> it </font><font size = 1, color=gray> so </font><font size = 1, color=gray> very </font><font size = 1, color=gray> deserved? </font><font size = 1, color=gray> Â– </font><font size = 1, color=gray> only </font><font size = 1, color=gray> proves </font><font size = 1, color=gray> my </font><font size = 1, color=gray> point </font><font size = 1, color=gray> of </font><font size = 1, color=gray> biased </font><font size = 1, color=gray> judgment.<br </font><font size = 1, color=gray> /><br </font><font size = 1, color=gray> />Lack </font><font size = 1, color=gray> of </font><font size = 1, color=gray> research </font><font size = 1, color=gray> and </font><font size = 1, color=gray> not </font><font size = 1, color=gray> of </font><font size = 1, color=gray> funds, </font><font size = 1, color=gray> is </font><font size = 1, color=gray> what </font><font size = 1, color=blue> makes </font><font size = 1, color=gray> 'Shwaas' </font><font size = 1, color=gray> such </font><font size = 1, color=gray> a </font><font size = 5, color=red> bad </font><font size = 1, color=gray> movie. </font>"
      ],
      "text/plain": [
       "<coloredweighteddoc.ColoredWeightedDoc at 0x22a6d06efd0>"
      ]
     },
     "metadata": {},
     "output_type": "display_data"
    }
   ],
   "source": [
    "unc_enough_indices = np.arange(len(uncertainty))[uncertainty > 0.48]\n",
    "conflict = np.min([pos_evi, abs(neg_evi)], axis=0)\n",
    "most_conflicted = np.argmax(conflict[unc_enough_indices])\n",
    "j = unc_enough_indices[most_conflicted]\n",
    "print(probs[j])\n",
    "print(neg_evi[j])\n",
    "print(pos_evi[j])\n",
    "display.display(ColoredWeightedDoc(test_corpus[j], words, weights, binary = True))"
   ]
  },
  {
   "cell_type": "markdown",
   "metadata": {},
   "source": [
    "### Uncertain due to insufficient evidence"
   ]
  },
  {
   "cell_type": "code",
   "execution_count": 537,
   "metadata": {
    "collapsed": false
   },
   "outputs": [
    {
     "name": "stdout",
     "output_type": "stream",
     "text": [
      "[ 0.5  0.5]\n",
      "0.0\n",
      "0.0\n"
     ]
    },
    {
     "data": {
      "text/html": [
       "<font size = 1, color=gray> I </font><font size = 1, color=gray> hope </font><font size = 1, color=gray> this </font><font size = 1, color=gray> group </font><font size = 1, color=gray> of </font><font size = 1, color=gray> film-makers </font><font size = 1, color=gray> never </font><font size = 1, color=gray> re-unites. </font>"
      ],
      "text/plain": [
       "<coloredweighteddoc.ColoredWeightedDoc at 0x22a6d06e278>"
      ]
     },
     "metadata": {},
     "output_type": "display_data"
    }
   ],
   "source": [
    "unc_enough_indices = np.arange(len(uncertainty))[uncertainty > 0.48]\n",
    "conflict = np.max([pos_evi, abs(neg_evi)], axis=0)\n",
    "least_conflicted = np.argmin(conflict[unc_enough_indices])\n",
    "j = unc_enough_indices[least_conflicted]\n",
    "print(probs[j])\n",
    "print(neg_evi[j])\n",
    "print(pos_evi[j])\n",
    "display.display(ColoredWeightedDoc(test_corpus[j], words, weights, binary = True))"
   ]
  },
  {
   "cell_type": "code",
   "execution_count": null,
   "metadata": {
    "collapsed": true
   },
   "outputs": [],
   "source": []
  }
 ],
 "metadata": {
  "kernelspec": {
   "display_name": "Python 3",
   "language": "python",
   "name": "python3"
  },
  "language_info": {
   "codemirror_mode": {
    "name": "ipython",
    "version": 3
   },
   "file_extension": ".py",
   "mimetype": "text/x-python",
   "name": "python",
   "nbconvert_exporter": "python",
   "pygments_lexer": "ipython3",
   "version": "3.5.1"
  }
 },
 "nbformat": 4,
 "nbformat_minor": 2
}
